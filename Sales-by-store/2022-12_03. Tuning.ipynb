{
 "cells": [
  {
   "cell_type": "code",
   "execution_count": 1,
   "id": "5c5769a0",
   "metadata": {},
   "outputs": [],
   "source": [
    "import numpy as np\n",
    "import pandas as pd\n",
    "import warnings"
   ]
  },
  {
   "cell_type": "code",
   "execution_count": 2,
   "id": "8e67304d",
   "metadata": {},
   "outputs": [],
   "source": [
    "sales_train = pd.read_csv('./data/sales_train.csv')\n",
    "shops = pd.read_csv('./data/shops.csv')\n",
    "items = pd.read_csv('./data/items.csv')\n",
    "item_categories = pd.read_csv('./data/item_categories.csv')\n",
    "test = pd.read_csv('./data/test.csv')"
   ]
  },
  {
   "cell_type": "code",
   "execution_count": 3,
   "id": "1b1868fd",
   "metadata": {},
   "outputs": [
    {
     "name": "stdout",
     "output_type": "stream",
     "text": [
      "(2935849, 6)\n",
      "(60, 2)\n",
      "(22170, 3)\n",
      "(84, 2)\n",
      "(214200, 3)\n"
     ]
    }
   ],
   "source": [
    "print(sales_train.shape)\n",
    "print(shops.shape)\n",
    "print(items.shape)\n",
    "print(item_categories.shape)\n",
    "print(test.shape)"
   ]
  },
  {
   "cell_type": "code",
   "execution_count": 4,
   "id": "6aa71a12",
   "metadata": {},
   "outputs": [
    {
     "data": {
      "text/html": [
       "<div>\n",
       "<style scoped>\n",
       "    .dataframe tbody tr th:only-of-type {\n",
       "        vertical-align: middle;\n",
       "    }\n",
       "\n",
       "    .dataframe tbody tr th {\n",
       "        vertical-align: top;\n",
       "    }\n",
       "\n",
       "    .dataframe thead th {\n",
       "        text-align: right;\n",
       "    }\n",
       "</style>\n",
       "<table border=\"1\" class=\"dataframe\">\n",
       "  <thead>\n",
       "    <tr style=\"text-align: right;\">\n",
       "      <th></th>\n",
       "      <th>date</th>\n",
       "      <th>date_block_num</th>\n",
       "      <th>shop_id</th>\n",
       "      <th>item_id</th>\n",
       "      <th>item_price</th>\n",
       "      <th>item_cnt_day</th>\n",
       "    </tr>\n",
       "  </thead>\n",
       "  <tbody>\n",
       "    <tr>\n",
       "      <th>0</th>\n",
       "      <td>02.01.2013</td>\n",
       "      <td>0</td>\n",
       "      <td>59</td>\n",
       "      <td>22154</td>\n",
       "      <td>999.00</td>\n",
       "      <td>1.0</td>\n",
       "    </tr>\n",
       "    <tr>\n",
       "      <th>1</th>\n",
       "      <td>03.01.2013</td>\n",
       "      <td>0</td>\n",
       "      <td>25</td>\n",
       "      <td>2552</td>\n",
       "      <td>899.00</td>\n",
       "      <td>1.0</td>\n",
       "    </tr>\n",
       "    <tr>\n",
       "      <th>2</th>\n",
       "      <td>05.01.2013</td>\n",
       "      <td>0</td>\n",
       "      <td>25</td>\n",
       "      <td>2552</td>\n",
       "      <td>899.00</td>\n",
       "      <td>-1.0</td>\n",
       "    </tr>\n",
       "    <tr>\n",
       "      <th>3</th>\n",
       "      <td>06.01.2013</td>\n",
       "      <td>0</td>\n",
       "      <td>25</td>\n",
       "      <td>2554</td>\n",
       "      <td>1709.05</td>\n",
       "      <td>1.0</td>\n",
       "    </tr>\n",
       "    <tr>\n",
       "      <th>4</th>\n",
       "      <td>15.01.2013</td>\n",
       "      <td>0</td>\n",
       "      <td>25</td>\n",
       "      <td>2555</td>\n",
       "      <td>1099.00</td>\n",
       "      <td>1.0</td>\n",
       "    </tr>\n",
       "  </tbody>\n",
       "</table>\n",
       "</div>"
      ],
      "text/plain": [
       "         date  date_block_num  shop_id  item_id  item_price  item_cnt_day\n",
       "0  02.01.2013               0       59    22154      999.00           1.0\n",
       "1  03.01.2013               0       25     2552      899.00           1.0\n",
       "2  05.01.2013               0       25     2552      899.00          -1.0\n",
       "3  06.01.2013               0       25     2554     1709.05           1.0\n",
       "4  15.01.2013               0       25     2555     1099.00           1.0"
      ]
     },
     "execution_count": 4,
     "metadata": {},
     "output_type": "execute_result"
    }
   ],
   "source": [
    "sales_train.head()  # 월별 판매량만 구하려면 data 피처를 제거\n",
    "                    # Target 값 = data_block_num 피처의 값이 같은 데이터들의 item_cnt_data값의 합임.\n",
    "                    # 훈련 데이터 중 가장 최근인 2015년 10월 판매 내역을 검증 데이터로 사용"
   ]
  },
  {
   "cell_type": "code",
   "execution_count": 5,
   "id": "fc5ef29f",
   "metadata": {},
   "outputs": [
    {
     "name": "stdout",
     "output_type": "stream",
     "text": [
      "<class 'pandas.core.frame.DataFrame'>\n",
      "RangeIndex: 2935849 entries, 0 to 2935848\n",
      "Data columns (total 6 columns):\n",
      " #   Column          Dtype  \n",
      "---  ------          -----  \n",
      " 0   date            object \n",
      " 1   date_block_num  int64  \n",
      " 2   shop_id         int64  \n",
      " 3   item_id         int64  \n",
      " 4   item_price      float64\n",
      " 5   item_cnt_day    float64\n",
      "dtypes: float64(2), int64(3), object(1)\n",
      "memory usage: 134.4+ MB\n"
     ]
    }
   ],
   "source": [
    "sales_train.info()  # 메모리 절감 전략이 필요함."
   ]
  },
  {
   "cell_type": "code",
   "execution_count": 6,
   "id": "ce4847a2",
   "metadata": {
    "scrolled": true
   },
   "outputs": [
    {
     "data": {
      "text/html": [
       "<div>\n",
       "<style scoped>\n",
       "    .dataframe tbody tr th:only-of-type {\n",
       "        vertical-align: middle;\n",
       "    }\n",
       "\n",
       "    .dataframe tbody tr th {\n",
       "        vertical-align: top;\n",
       "    }\n",
       "\n",
       "    .dataframe thead th {\n",
       "        text-align: right;\n",
       "    }\n",
       "</style>\n",
       "<table border=\"1\" class=\"dataframe\">\n",
       "  <thead>\n",
       "    <tr style=\"text-align: right;\">\n",
       "      <th></th>\n",
       "      <th>shop_name</th>\n",
       "      <th>shop_id</th>\n",
       "    </tr>\n",
       "  </thead>\n",
       "  <tbody>\n",
       "    <tr>\n",
       "      <th>0</th>\n",
       "      <td>!Якутск Орджоникидзе, 56 фран</td>\n",
       "      <td>0</td>\n",
       "    </tr>\n",
       "    <tr>\n",
       "      <th>1</th>\n",
       "      <td>!Якутск ТЦ \"Центральный\" фран</td>\n",
       "      <td>1</td>\n",
       "    </tr>\n",
       "    <tr>\n",
       "      <th>2</th>\n",
       "      <td>Адыгея ТЦ \"Мега\"</td>\n",
       "      <td>2</td>\n",
       "    </tr>\n",
       "    <tr>\n",
       "      <th>3</th>\n",
       "      <td>Балашиха ТРК \"Октябрь-Киномир\"</td>\n",
       "      <td>3</td>\n",
       "    </tr>\n",
       "    <tr>\n",
       "      <th>4</th>\n",
       "      <td>Волжский ТЦ \"Волга Молл\"</td>\n",
       "      <td>4</td>\n",
       "    </tr>\n",
       "  </tbody>\n",
       "</table>\n",
       "</div>"
      ],
      "text/plain": [
       "                        shop_name  shop_id\n",
       "0   !Якутск Орджоникидзе, 56 фран        0\n",
       "1   !Якутск ТЦ \"Центральный\" фран        1\n",
       "2                Адыгея ТЦ \"Мега\"        2\n",
       "3  Балашиха ТРК \"Октябрь-Киномир\"        3\n",
       "4        Волжский ТЦ \"Волга Молл\"        4"
      ]
     },
     "execution_count": 6,
     "metadata": {},
     "output_type": "execute_result"
    }
   ],
   "source": [
    "shops.head()  # 상점 데이터 shop_name 의 첫 단어는 도시 이름임.\n",
    "              # train_sale의 shop_id를 기준으로 sales_train과 shops 데이터 병합 필요"
   ]
  },
  {
   "cell_type": "code",
   "execution_count": 7,
   "id": "df5dff87",
   "metadata": {},
   "outputs": [
    {
     "name": "stdout",
     "output_type": "stream",
     "text": [
      "<class 'pandas.core.frame.DataFrame'>\n",
      "RangeIndex: 60 entries, 0 to 59\n",
      "Data columns (total 2 columns):\n",
      " #   Column     Non-Null Count  Dtype \n",
      "---  ------     --------------  ----- \n",
      " 0   shop_name  60 non-null     object\n",
      " 1   shop_id    60 non-null     int64 \n",
      "dtypes: int64(1), object(1)\n",
      "memory usage: 1.1+ KB\n"
     ]
    }
   ],
   "source": [
    "shops.info()   # 상점 데이터 60개로 결측 데이터가 없음."
   ]
  },
  {
   "cell_type": "code",
   "execution_count": 8,
   "id": "6b769629",
   "metadata": {},
   "outputs": [
    {
     "data": {
      "text/html": [
       "<div>\n",
       "<style scoped>\n",
       "    .dataframe tbody tr th:only-of-type {\n",
       "        vertical-align: middle;\n",
       "    }\n",
       "\n",
       "    .dataframe tbody tr th {\n",
       "        vertical-align: top;\n",
       "    }\n",
       "\n",
       "    .dataframe thead th {\n",
       "        text-align: right;\n",
       "    }\n",
       "</style>\n",
       "<table border=\"1\" class=\"dataframe\">\n",
       "  <thead>\n",
       "    <tr style=\"text-align: right;\">\n",
       "      <th></th>\n",
       "      <th>item_name</th>\n",
       "      <th>item_id</th>\n",
       "      <th>item_category_id</th>\n",
       "    </tr>\n",
       "  </thead>\n",
       "  <tbody>\n",
       "    <tr>\n",
       "      <th>0</th>\n",
       "      <td>! ВО ВЛАСТИ НАВАЖДЕНИЯ (ПЛАСТ.)         D</td>\n",
       "      <td>0</td>\n",
       "      <td>40</td>\n",
       "    </tr>\n",
       "    <tr>\n",
       "      <th>1</th>\n",
       "      <td>!ABBYY FineReader 12 Professional Edition Full...</td>\n",
       "      <td>1</td>\n",
       "      <td>76</td>\n",
       "    </tr>\n",
       "    <tr>\n",
       "      <th>2</th>\n",
       "      <td>***В ЛУЧАХ СЛАВЫ   (UNV)                    D</td>\n",
       "      <td>2</td>\n",
       "      <td>40</td>\n",
       "    </tr>\n",
       "    <tr>\n",
       "      <th>3</th>\n",
       "      <td>***ГОЛУБАЯ ВОЛНА  (Univ)                      D</td>\n",
       "      <td>3</td>\n",
       "      <td>40</td>\n",
       "    </tr>\n",
       "    <tr>\n",
       "      <th>4</th>\n",
       "      <td>***КОРОБКА (СТЕКЛО)                       D</td>\n",
       "      <td>4</td>\n",
       "      <td>40</td>\n",
       "    </tr>\n",
       "  </tbody>\n",
       "</table>\n",
       "</div>"
      ],
      "text/plain": [
       "                                           item_name  item_id  \\\n",
       "0          ! ВО ВЛАСТИ НАВАЖДЕНИЯ (ПЛАСТ.)         D        0   \n",
       "1  !ABBYY FineReader 12 Professional Edition Full...        1   \n",
       "2      ***В ЛУЧАХ СЛАВЫ   (UNV)                    D        2   \n",
       "3    ***ГОЛУБАЯ ВОЛНА  (Univ)                      D        3   \n",
       "4        ***КОРОБКА (СТЕКЛО)                       D        4   \n",
       "\n",
       "   item_category_id  \n",
       "0                40  \n",
       "1                76  \n",
       "2                40  \n",
       "3                40  \n",
       "4                40  "
      ]
     },
     "execution_count": 8,
     "metadata": {},
     "output_type": "execute_result"
    }
   ],
   "source": [
    "items.head()  # item 데이터에서 item_category_id 제거\n",
    "              # item_id를 기준으로 sales_train과 items 병합"
   ]
  },
  {
   "cell_type": "code",
   "execution_count": 9,
   "id": "66e53997",
   "metadata": {},
   "outputs": [
    {
     "name": "stdout",
     "output_type": "stream",
     "text": [
      "<class 'pandas.core.frame.DataFrame'>\n",
      "RangeIndex: 22170 entries, 0 to 22169\n",
      "Data columns (total 3 columns):\n",
      " #   Column            Non-Null Count  Dtype \n",
      "---  ------            --------------  ----- \n",
      " 0   item_name         22170 non-null  object\n",
      " 1   item_id           22170 non-null  int64 \n",
      " 2   item_category_id  22170 non-null  int64 \n",
      "dtypes: int64(2), object(1)\n",
      "memory usage: 519.7+ KB\n"
     ]
    }
   ],
   "source": [
    "items.info()  # item 데이터는 결측 데이터가 없음"
   ]
  },
  {
   "cell_type": "code",
   "execution_count": 10,
   "id": "376809ce",
   "metadata": {},
   "outputs": [
    {
     "data": {
      "text/html": [
       "<div>\n",
       "<style scoped>\n",
       "    .dataframe tbody tr th:only-of-type {\n",
       "        vertical-align: middle;\n",
       "    }\n",
       "\n",
       "    .dataframe tbody tr th {\n",
       "        vertical-align: top;\n",
       "    }\n",
       "\n",
       "    .dataframe thead th {\n",
       "        text-align: right;\n",
       "    }\n",
       "</style>\n",
       "<table border=\"1\" class=\"dataframe\">\n",
       "  <thead>\n",
       "    <tr style=\"text-align: right;\">\n",
       "      <th></th>\n",
       "      <th>item_category_name</th>\n",
       "      <th>item_category_id</th>\n",
       "    </tr>\n",
       "  </thead>\n",
       "  <tbody>\n",
       "    <tr>\n",
       "      <th>0</th>\n",
       "      <td>PC - Гарнитуры/Наушники</td>\n",
       "      <td>0</td>\n",
       "    </tr>\n",
       "    <tr>\n",
       "      <th>1</th>\n",
       "      <td>Аксессуары - PS2</td>\n",
       "      <td>1</td>\n",
       "    </tr>\n",
       "    <tr>\n",
       "      <th>2</th>\n",
       "      <td>Аксессуары - PS3</td>\n",
       "      <td>2</td>\n",
       "    </tr>\n",
       "    <tr>\n",
       "      <th>3</th>\n",
       "      <td>Аксессуары - PS4</td>\n",
       "      <td>3</td>\n",
       "    </tr>\n",
       "    <tr>\n",
       "      <th>4</th>\n",
       "      <td>Аксессуары - PSP</td>\n",
       "      <td>4</td>\n",
       "    </tr>\n",
       "  </tbody>\n",
       "</table>\n",
       "</div>"
      ],
      "text/plain": [
       "        item_category_name  item_category_id\n",
       "0  PC - Гарнитуры/Наушники                 0\n",
       "1         Аксессуары - PS2                 1\n",
       "2         Аксессуары - PS3                 2\n",
       "3         Аксессуары - PS4                 3\n",
       "4         Аксессуары - PSP                 4"
      ]
     },
     "execution_count": 10,
     "metadata": {},
     "output_type": "execute_result"
    }
   ],
   "source": [
    "item_categories.head()   # item_category_id를 기준으로 sales_train과 item_categories 데이터 병합 필요\n",
    "                         # item_category_name의 첫 단어는 대분류로 분류하여야 함"
   ]
  },
  {
   "cell_type": "code",
   "execution_count": 11,
   "id": "f2e301ce",
   "metadata": {},
   "outputs": [
    {
     "name": "stdout",
     "output_type": "stream",
     "text": [
      "<class 'pandas.core.frame.DataFrame'>\n",
      "RangeIndex: 84 entries, 0 to 83\n",
      "Data columns (total 2 columns):\n",
      " #   Column              Non-Null Count  Dtype \n",
      "---  ------              --------------  ----- \n",
      " 0   item_category_name  84 non-null     object\n",
      " 1   item_category_id    84 non-null     int64 \n",
      "dtypes: int64(1), object(1)\n",
      "memory usage: 1.4+ KB\n"
     ]
    }
   ],
   "source": [
    "item_categories.info()  # 모든 데이터의 결측값 없음"
   ]
  },
  {
   "cell_type": "code",
   "execution_count": 12,
   "id": "fbe5dc64",
   "metadata": {},
   "outputs": [
    {
     "data": {
      "text/html": [
       "<div>\n",
       "<style scoped>\n",
       "    .dataframe tbody tr th:only-of-type {\n",
       "        vertical-align: middle;\n",
       "    }\n",
       "\n",
       "    .dataframe tbody tr th {\n",
       "        vertical-align: top;\n",
       "    }\n",
       "\n",
       "    .dataframe thead th {\n",
       "        text-align: right;\n",
       "    }\n",
       "</style>\n",
       "<table border=\"1\" class=\"dataframe\">\n",
       "  <thead>\n",
       "    <tr style=\"text-align: right;\">\n",
       "      <th></th>\n",
       "      <th>ID</th>\n",
       "      <th>shop_id</th>\n",
       "      <th>item_id</th>\n",
       "    </tr>\n",
       "  </thead>\n",
       "  <tbody>\n",
       "    <tr>\n",
       "      <th>0</th>\n",
       "      <td>0</td>\n",
       "      <td>5</td>\n",
       "      <td>5037</td>\n",
       "    </tr>\n",
       "    <tr>\n",
       "      <th>1</th>\n",
       "      <td>1</td>\n",
       "      <td>5</td>\n",
       "      <td>5320</td>\n",
       "    </tr>\n",
       "    <tr>\n",
       "      <th>2</th>\n",
       "      <td>2</td>\n",
       "      <td>5</td>\n",
       "      <td>5233</td>\n",
       "    </tr>\n",
       "    <tr>\n",
       "      <th>3</th>\n",
       "      <td>3</td>\n",
       "      <td>5</td>\n",
       "      <td>5232</td>\n",
       "    </tr>\n",
       "    <tr>\n",
       "      <th>4</th>\n",
       "      <td>4</td>\n",
       "      <td>5</td>\n",
       "      <td>5268</td>\n",
       "    </tr>\n",
       "  </tbody>\n",
       "</table>\n",
       "</div>"
      ],
      "text/plain": [
       "   ID  shop_id  item_id\n",
       "0   0        5     5037\n",
       "1   1        5     5320\n",
       "2   2        5     5233\n",
       "3   3        5     5232\n",
       "4   4        5     5268"
      ]
     },
     "execution_count": 12,
     "metadata": {},
     "output_type": "execute_result"
    }
   ],
   "source": [
    "test.head()"
   ]
  },
  {
   "cell_type": "markdown",
   "id": "e136988e",
   "metadata": {},
   "source": [
    "# 01. 피처명 한글화"
   ]
  },
  {
   "cell_type": "markdown",
   "id": "4c8bbfc4",
   "metadata": {},
   "source": [
    "## 01. sales_train"
   ]
  },
  {
   "cell_type": "code",
   "execution_count": 13,
   "id": "77eefaf8",
   "metadata": {},
   "outputs": [],
   "source": [
    "sales_train = sales_train.rename(columns={'date': '날짜',\n",
    "                                          'date_block_num': '월ID',\n",
    "                                          'shop_id': '상점ID',\n",
    "                                          'item_id': '상품ID',\n",
    "                                          'item_price': '판매가',\n",
    "                                          'item_cnt_day': '판매량'})"
   ]
  },
  {
   "cell_type": "code",
   "execution_count": 14,
   "id": "dc8985a4",
   "metadata": {},
   "outputs": [
    {
     "data": {
      "text/html": [
       "<div>\n",
       "<style scoped>\n",
       "    .dataframe tbody tr th:only-of-type {\n",
       "        vertical-align: middle;\n",
       "    }\n",
       "\n",
       "    .dataframe tbody tr th {\n",
       "        vertical-align: top;\n",
       "    }\n",
       "\n",
       "    .dataframe thead th {\n",
       "        text-align: right;\n",
       "    }\n",
       "</style>\n",
       "<table border=\"1\" class=\"dataframe\">\n",
       "  <thead>\n",
       "    <tr style=\"text-align: right;\">\n",
       "      <th></th>\n",
       "      <th>날짜</th>\n",
       "      <th>월ID</th>\n",
       "      <th>상점ID</th>\n",
       "      <th>상품ID</th>\n",
       "      <th>판매가</th>\n",
       "      <th>판매량</th>\n",
       "    </tr>\n",
       "  </thead>\n",
       "  <tbody>\n",
       "    <tr>\n",
       "      <th>0</th>\n",
       "      <td>02.01.2013</td>\n",
       "      <td>0</td>\n",
       "      <td>59</td>\n",
       "      <td>22154</td>\n",
       "      <td>999.00</td>\n",
       "      <td>1.0</td>\n",
       "    </tr>\n",
       "    <tr>\n",
       "      <th>1</th>\n",
       "      <td>03.01.2013</td>\n",
       "      <td>0</td>\n",
       "      <td>25</td>\n",
       "      <td>2552</td>\n",
       "      <td>899.00</td>\n",
       "      <td>1.0</td>\n",
       "    </tr>\n",
       "    <tr>\n",
       "      <th>2</th>\n",
       "      <td>05.01.2013</td>\n",
       "      <td>0</td>\n",
       "      <td>25</td>\n",
       "      <td>2552</td>\n",
       "      <td>899.00</td>\n",
       "      <td>-1.0</td>\n",
       "    </tr>\n",
       "    <tr>\n",
       "      <th>3</th>\n",
       "      <td>06.01.2013</td>\n",
       "      <td>0</td>\n",
       "      <td>25</td>\n",
       "      <td>2554</td>\n",
       "      <td>1709.05</td>\n",
       "      <td>1.0</td>\n",
       "    </tr>\n",
       "    <tr>\n",
       "      <th>4</th>\n",
       "      <td>15.01.2013</td>\n",
       "      <td>0</td>\n",
       "      <td>25</td>\n",
       "      <td>2555</td>\n",
       "      <td>1099.00</td>\n",
       "      <td>1.0</td>\n",
       "    </tr>\n",
       "  </tbody>\n",
       "</table>\n",
       "</div>"
      ],
      "text/plain": [
       "           날짜  월ID  상점ID   상품ID      판매가  판매량\n",
       "0  02.01.2013    0    59  22154   999.00  1.0\n",
       "1  03.01.2013    0    25   2552   899.00  1.0\n",
       "2  05.01.2013    0    25   2552   899.00 -1.0\n",
       "3  06.01.2013    0    25   2554  1709.05  1.0\n",
       "4  15.01.2013    0    25   2555  1099.00  1.0"
      ]
     },
     "execution_count": 14,
     "metadata": {},
     "output_type": "execute_result"
    }
   ],
   "source": [
    "sales_train.head()"
   ]
  },
  {
   "cell_type": "markdown",
   "id": "0144e401",
   "metadata": {},
   "source": [
    "## 02. shop"
   ]
  },
  {
   "cell_type": "code",
   "execution_count": 15,
   "id": "f924ca76",
   "metadata": {},
   "outputs": [],
   "source": [
    "shops = shops.rename(columns={'shop_name': '상점명',\n",
    "                              'shop_id': '상점ID'})"
   ]
  },
  {
   "cell_type": "code",
   "execution_count": 16,
   "id": "3bcb3fe3",
   "metadata": {},
   "outputs": [
    {
     "data": {
      "text/html": [
       "<div>\n",
       "<style scoped>\n",
       "    .dataframe tbody tr th:only-of-type {\n",
       "        vertical-align: middle;\n",
       "    }\n",
       "\n",
       "    .dataframe tbody tr th {\n",
       "        vertical-align: top;\n",
       "    }\n",
       "\n",
       "    .dataframe thead th {\n",
       "        text-align: right;\n",
       "    }\n",
       "</style>\n",
       "<table border=\"1\" class=\"dataframe\">\n",
       "  <thead>\n",
       "    <tr style=\"text-align: right;\">\n",
       "      <th></th>\n",
       "      <th>상점명</th>\n",
       "      <th>상점ID</th>\n",
       "    </tr>\n",
       "  </thead>\n",
       "  <tbody>\n",
       "    <tr>\n",
       "      <th>0</th>\n",
       "      <td>!Якутск Орджоникидзе, 56 фран</td>\n",
       "      <td>0</td>\n",
       "    </tr>\n",
       "    <tr>\n",
       "      <th>1</th>\n",
       "      <td>!Якутск ТЦ \"Центральный\" фран</td>\n",
       "      <td>1</td>\n",
       "    </tr>\n",
       "    <tr>\n",
       "      <th>2</th>\n",
       "      <td>Адыгея ТЦ \"Мега\"</td>\n",
       "      <td>2</td>\n",
       "    </tr>\n",
       "    <tr>\n",
       "      <th>3</th>\n",
       "      <td>Балашиха ТРК \"Октябрь-Киномир\"</td>\n",
       "      <td>3</td>\n",
       "    </tr>\n",
       "    <tr>\n",
       "      <th>4</th>\n",
       "      <td>Волжский ТЦ \"Волга Молл\"</td>\n",
       "      <td>4</td>\n",
       "    </tr>\n",
       "  </tbody>\n",
       "</table>\n",
       "</div>"
      ],
      "text/plain": [
       "                              상점명  상점ID\n",
       "0   !Якутск Орджоникидзе, 56 фран     0\n",
       "1   !Якутск ТЦ \"Центральный\" фран     1\n",
       "2                Адыгея ТЦ \"Мега\"     2\n",
       "3  Балашиха ТРК \"Октябрь-Киномир\"     3\n",
       "4        Волжский ТЦ \"Волга Молл\"     4"
      ]
     },
     "execution_count": 16,
     "metadata": {},
     "output_type": "execute_result"
    }
   ],
   "source": [
    "shops.head()"
   ]
  },
  {
   "cell_type": "markdown",
   "id": "3eda186c",
   "metadata": {},
   "source": [
    "## 03. items"
   ]
  },
  {
   "cell_type": "code",
   "execution_count": 17,
   "id": "8a081cb0",
   "metadata": {},
   "outputs": [],
   "source": [
    "items = items.rename(columns={'item_name': '상품명',\n",
    "                              'item_id': '상품ID',\n",
    "                              'item_category_id': '상품분류ID'})"
   ]
  },
  {
   "cell_type": "code",
   "execution_count": 18,
   "id": "82489fce",
   "metadata": {},
   "outputs": [
    {
     "data": {
      "text/html": [
       "<div>\n",
       "<style scoped>\n",
       "    .dataframe tbody tr th:only-of-type {\n",
       "        vertical-align: middle;\n",
       "    }\n",
       "\n",
       "    .dataframe tbody tr th {\n",
       "        vertical-align: top;\n",
       "    }\n",
       "\n",
       "    .dataframe thead th {\n",
       "        text-align: right;\n",
       "    }\n",
       "</style>\n",
       "<table border=\"1\" class=\"dataframe\">\n",
       "  <thead>\n",
       "    <tr style=\"text-align: right;\">\n",
       "      <th></th>\n",
       "      <th>상품명</th>\n",
       "      <th>상품ID</th>\n",
       "      <th>상품분류ID</th>\n",
       "    </tr>\n",
       "  </thead>\n",
       "  <tbody>\n",
       "    <tr>\n",
       "      <th>0</th>\n",
       "      <td>! ВО ВЛАСТИ НАВАЖДЕНИЯ (ПЛАСТ.)         D</td>\n",
       "      <td>0</td>\n",
       "      <td>40</td>\n",
       "    </tr>\n",
       "    <tr>\n",
       "      <th>1</th>\n",
       "      <td>!ABBYY FineReader 12 Professional Edition Full...</td>\n",
       "      <td>1</td>\n",
       "      <td>76</td>\n",
       "    </tr>\n",
       "    <tr>\n",
       "      <th>2</th>\n",
       "      <td>***В ЛУЧАХ СЛАВЫ   (UNV)                    D</td>\n",
       "      <td>2</td>\n",
       "      <td>40</td>\n",
       "    </tr>\n",
       "    <tr>\n",
       "      <th>3</th>\n",
       "      <td>***ГОЛУБАЯ ВОЛНА  (Univ)                      D</td>\n",
       "      <td>3</td>\n",
       "      <td>40</td>\n",
       "    </tr>\n",
       "    <tr>\n",
       "      <th>4</th>\n",
       "      <td>***КОРОБКА (СТЕКЛО)                       D</td>\n",
       "      <td>4</td>\n",
       "      <td>40</td>\n",
       "    </tr>\n",
       "  </tbody>\n",
       "</table>\n",
       "</div>"
      ],
      "text/plain": [
       "                                                 상품명  상품ID  상품분류ID\n",
       "0          ! ВО ВЛАСТИ НАВАЖДЕНИЯ (ПЛАСТ.)         D     0      40\n",
       "1  !ABBYY FineReader 12 Professional Edition Full...     1      76\n",
       "2      ***В ЛУЧАХ СЛАВЫ   (UNV)                    D     2      40\n",
       "3    ***ГОЛУБАЯ ВОЛНА  (Univ)                      D     3      40\n",
       "4        ***КОРОБКА (СТЕКЛО)                       D     4      40"
      ]
     },
     "execution_count": 18,
     "metadata": {},
     "output_type": "execute_result"
    }
   ],
   "source": [
    "items.head()"
   ]
  },
  {
   "cell_type": "markdown",
   "id": "fec4f00f",
   "metadata": {},
   "source": [
    "## 04. item_categories"
   ]
  },
  {
   "cell_type": "code",
   "execution_count": 19,
   "id": "dda74425",
   "metadata": {},
   "outputs": [],
   "source": [
    "item_categories = item_categories.rename(columns=\n",
    "                                         {'item_category_name': '상품분류명',\n",
    "                                          'item_category_id': '상품분류ID'})"
   ]
  },
  {
   "cell_type": "code",
   "execution_count": 20,
   "id": "7b1d59d2",
   "metadata": {},
   "outputs": [
    {
     "data": {
      "text/html": [
       "<div>\n",
       "<style scoped>\n",
       "    .dataframe tbody tr th:only-of-type {\n",
       "        vertical-align: middle;\n",
       "    }\n",
       "\n",
       "    .dataframe tbody tr th {\n",
       "        vertical-align: top;\n",
       "    }\n",
       "\n",
       "    .dataframe thead th {\n",
       "        text-align: right;\n",
       "    }\n",
       "</style>\n",
       "<table border=\"1\" class=\"dataframe\">\n",
       "  <thead>\n",
       "    <tr style=\"text-align: right;\">\n",
       "      <th></th>\n",
       "      <th>상품분류명</th>\n",
       "      <th>상품분류ID</th>\n",
       "    </tr>\n",
       "  </thead>\n",
       "  <tbody>\n",
       "    <tr>\n",
       "      <th>0</th>\n",
       "      <td>PC - Гарнитуры/Наушники</td>\n",
       "      <td>0</td>\n",
       "    </tr>\n",
       "    <tr>\n",
       "      <th>1</th>\n",
       "      <td>Аксессуары - PS2</td>\n",
       "      <td>1</td>\n",
       "    </tr>\n",
       "    <tr>\n",
       "      <th>2</th>\n",
       "      <td>Аксессуары - PS3</td>\n",
       "      <td>2</td>\n",
       "    </tr>\n",
       "    <tr>\n",
       "      <th>3</th>\n",
       "      <td>Аксессуары - PS4</td>\n",
       "      <td>3</td>\n",
       "    </tr>\n",
       "    <tr>\n",
       "      <th>4</th>\n",
       "      <td>Аксессуары - PSP</td>\n",
       "      <td>4</td>\n",
       "    </tr>\n",
       "  </tbody>\n",
       "</table>\n",
       "</div>"
      ],
      "text/plain": [
       "                     상품분류명  상품분류ID\n",
       "0  PC - Гарнитуры/Наушники       0\n",
       "1         Аксессуары - PS2       1\n",
       "2         Аксессуары - PS3       2\n",
       "3         Аксессуары - PS4       3\n",
       "4         Аксессуары - PSP       4"
      ]
     },
     "execution_count": 20,
     "metadata": {},
     "output_type": "execute_result"
    }
   ],
   "source": [
    "item_categories.head()"
   ]
  },
  {
   "cell_type": "markdown",
   "id": "069602d1",
   "metadata": {},
   "source": [
    "## 05. test"
   ]
  },
  {
   "cell_type": "code",
   "execution_count": 21,
   "id": "1e207aad",
   "metadata": {},
   "outputs": [],
   "source": [
    "test = test.rename(columns={'shop_id': '상점ID',\n",
    "                            'item_id': '상품ID'})"
   ]
  },
  {
   "cell_type": "code",
   "execution_count": 22,
   "id": "30996d33",
   "metadata": {},
   "outputs": [
    {
     "data": {
      "text/html": [
       "<div>\n",
       "<style scoped>\n",
       "    .dataframe tbody tr th:only-of-type {\n",
       "        vertical-align: middle;\n",
       "    }\n",
       "\n",
       "    .dataframe tbody tr th {\n",
       "        vertical-align: top;\n",
       "    }\n",
       "\n",
       "    .dataframe thead th {\n",
       "        text-align: right;\n",
       "    }\n",
       "</style>\n",
       "<table border=\"1\" class=\"dataframe\">\n",
       "  <thead>\n",
       "    <tr style=\"text-align: right;\">\n",
       "      <th></th>\n",
       "      <th>ID</th>\n",
       "      <th>상점ID</th>\n",
       "      <th>상품ID</th>\n",
       "    </tr>\n",
       "  </thead>\n",
       "  <tbody>\n",
       "    <tr>\n",
       "      <th>0</th>\n",
       "      <td>0</td>\n",
       "      <td>5</td>\n",
       "      <td>5037</td>\n",
       "    </tr>\n",
       "    <tr>\n",
       "      <th>1</th>\n",
       "      <td>1</td>\n",
       "      <td>5</td>\n",
       "      <td>5320</td>\n",
       "    </tr>\n",
       "    <tr>\n",
       "      <th>2</th>\n",
       "      <td>2</td>\n",
       "      <td>5</td>\n",
       "      <td>5233</td>\n",
       "    </tr>\n",
       "    <tr>\n",
       "      <th>3</th>\n",
       "      <td>3</td>\n",
       "      <td>5</td>\n",
       "      <td>5232</td>\n",
       "    </tr>\n",
       "    <tr>\n",
       "      <th>4</th>\n",
       "      <td>4</td>\n",
       "      <td>5</td>\n",
       "      <td>5268</td>\n",
       "    </tr>\n",
       "  </tbody>\n",
       "</table>\n",
       "</div>"
      ],
      "text/plain": [
       "   ID  상점ID  상품ID\n",
       "0   0     5  5037\n",
       "1   1     5  5320\n",
       "2   2     5  5233\n",
       "3   3     5  5232\n",
       "4   4     5  5268"
      ]
     },
     "execution_count": 22,
     "metadata": {},
     "output_type": "execute_result"
    }
   ],
   "source": [
    "test.head()"
   ]
  },
  {
   "cell_type": "markdown",
   "id": "151909a4",
   "metadata": {},
   "source": [
    "# 02. 다운캐스팅이란?"
   ]
  },
  {
   "cell_type": "markdown",
   "id": "69068c53",
   "metadata": {},
   "source": [
    "* 다운캐스팅downcasting이란 더 작은 데이터 타입으로 변환하는 작업\n",
    "* 금붕어는 금붕어용 어항에서. 돌고래용 수족관을 마련할 필요는 없다!\n",
    "* 메모리 낭비를 막고, 훈련 속도를 빠르게 하려면 모든 데이터를 최대 타입으로 할당할 필요는 없음(분석 정리 5)"
   ]
  },
  {
   "cell_type": "code",
   "execution_count": 23,
   "id": "b296833b",
   "metadata": {},
   "outputs": [],
   "source": [
    "def downcast(df, verbose=True):\n",
    "    start_mem=df.memory_usage().sum()/1024**2  # ( data fram을 가지고 있는 array 공간 차지 절감을 위해 )\n",
    "    for col in df.columns:\n",
    "        dtype_name = df[col].dtype.name\n",
    "        if dtype_name == 'object':\n",
    "            pass\n",
    "        elif dtype_name == 'bool':\n",
    "            df[col] = df[col].astype('int8')\n",
    "        elif dtype_name.startswith('int') or (df[col].round() == df[col]).all():\n",
    "            df[col] = pd.to_numeric(df[col], downcast='integer')\n",
    "        else:\n",
    "            df[col] = pd.to_numeric(df[col], downcast='float')\n",
    "    end_mem = df.memory_usage().sum() / 1024**2\n",
    "    if verbose:\n",
    "        print('{:.1f}% 압축됨'.format(100 * (start_mem - end_mem) / start_mem))\n",
    "    return df"
   ]
  },
  {
   "cell_type": "code",
   "execution_count": 24,
   "id": "8c535820",
   "metadata": {},
   "outputs": [
    {
     "name": "stdout",
     "output_type": "stream",
     "text": [
      "62.5% 압축됨\n",
      "38.6% 압축됨\n",
      "54.2% 압축됨\n",
      "39.9% 압축됨\n",
      "70.8% 압축됨\n"
     ]
    }
   ],
   "source": [
    "all_df = [sales_train, shops, items, item_categories, test]\n",
    "for df in all_df:\n",
    "    df = downcast(df)"
   ]
  },
  {
   "cell_type": "code",
   "execution_count": 25,
   "id": "bce82e61",
   "metadata": {
    "scrolled": false
   },
   "outputs": [
    {
     "data": {
      "text/plain": [
       "[                 날짜  월ID  상점ID   상품ID          판매가  판매량\n",
       " 0        02.01.2013    0    59  22154   999.000000    1\n",
       " 1        03.01.2013    0    25   2552   899.000000    1\n",
       " 2        05.01.2013    0    25   2552   899.000000   -1\n",
       " 3        06.01.2013    0    25   2554  1709.050049    1\n",
       " 4        15.01.2013    0    25   2555  1099.000000    1\n",
       " ...             ...  ...   ...    ...          ...  ...\n",
       " 2935844  10.10.2015   33    25   7409   299.000000    1\n",
       " 2935845  09.10.2015   33    25   7460   299.000000    1\n",
       " 2935846  14.10.2015   33    25   7459   349.000000    1\n",
       " 2935847  22.10.2015   33    25   7440   299.000000    1\n",
       " 2935848  03.10.2015   33    25   7460   299.000000    1\n",
       " \n",
       " [2935849 rows x 6 columns],\n",
       "                                                 상점명  상점ID\n",
       " 0                     !Якутск Орджоникидзе, 56 фран     0\n",
       " 1                     !Якутск ТЦ \"Центральный\" фран     1\n",
       " 2                                  Адыгея ТЦ \"Мега\"     2\n",
       " 3                    Балашиха ТРК \"Октябрь-Киномир\"     3\n",
       " 4                          Волжский ТЦ \"Волга Молл\"     4\n",
       " 5                            Вологда ТРЦ \"Мармелад\"     5\n",
       " 6                        Воронеж (Плехановская, 13)     6\n",
       " 7                            Воронеж ТРЦ \"Максимир\"     7\n",
       " 8                      Воронеж ТРЦ Сити-Парк \"Град\"     8\n",
       " 9                                 Выездная Торговля     9\n",
       " 10                       Жуковский ул. Чкалова 39м?    10\n",
       " 11                       Жуковский ул. Чкалова 39м²    11\n",
       " 12                              Интернет-магазин ЧС    12\n",
       " 13                              Казань ТЦ \"Бехетле\"    13\n",
       " 14                          Казань ТЦ \"ПаркХаус\" II    14\n",
       " 15                             Калуга ТРЦ \"XXI век\"    15\n",
       " 16                                 Коломна ТЦ \"Рио\"    16\n",
       " 17                    Красноярск ТЦ \"Взлетка Плаза\"    17\n",
       " 18                             Красноярск ТЦ \"Июнь\"    18\n",
       " 19                            Курск ТЦ \"Пушкинский\"    19\n",
       " 20                              Москва \"Распродажа\"    20\n",
       " 21                           Москва МТРЦ \"Афи Молл\"    21\n",
       " 22                               Москва Магазин С21    22\n",
       " 23                 Москва ТК \"Буденовский\" (пав.А2)    23\n",
       " 24                 Москва ТК \"Буденовский\" (пав.К7)    24\n",
       " 25                              Москва ТРК \"Атриум\"    25\n",
       " 26                      Москва ТЦ \"Ареал\" (Беляево)    26\n",
       " 27                   Москва ТЦ \"МЕГА Белая Дача II\"    27\n",
       " 28                  Москва ТЦ \"МЕГА Теплый Стан\" II    28\n",
       " 29               Москва ТЦ \"Новый век\" (Новокосино)    29\n",
       " 30                           Москва ТЦ \"Перловский\"    30\n",
       " 31                          Москва ТЦ \"Семеновский\"    31\n",
       " 32                       Москва ТЦ \"Серебряный Дом\"    32\n",
       " 33                                Мытищи ТРК \"XL-3\"    33\n",
       " 34                             Н.Новгород ТРЦ \"РИО\"    34\n",
       " 35                      Н.Новгород ТРЦ \"Фантастика\"    35\n",
       " 36            Новосибирск ТРЦ \"Галерея Новосибирск\"    36\n",
       " 37                            Новосибирск ТЦ \"Мега\"    37\n",
       " 38                                   Омск ТЦ \"Мега\"    38\n",
       " 39            РостовНаДону ТРК \"Мегацентр Горизонт\"    39\n",
       " 40  РостовНаДону ТРК \"Мегацентр Горизонт\" Островной    40\n",
       " 41                           РостовНаДону ТЦ \"Мега\"    41\n",
       " 42                           СПб ТК \"Невский Центр\"    42\n",
       " 43                                  СПб ТК \"Сенная\"    43\n",
       " 44                              Самара ТЦ \"Мелодия\"    44\n",
       " 45                             Самара ТЦ \"ПаркХаус\"    45\n",
       " 46                            Сергиев Посад ТЦ \"7Я\"    46\n",
       " 47                           Сургут ТРЦ \"Сити Молл\"    47\n",
       " 48                     Томск ТРЦ \"Изумрудный Город\"    48\n",
       " 49                            Тюмень ТРЦ \"Кристалл\"    49\n",
       " 50                               Тюмень ТЦ \"Гудвин\"    50\n",
       " 51                        Тюмень ТЦ \"Зеленый Берег\"    51\n",
       " 52                             Уфа ТК \"Центральный\"    52\n",
       " 53                                 Уфа ТЦ \"Семья\" 2    53\n",
       " 54                                  Химки ТЦ \"Мега\"    54\n",
       " 55                         Цифровой склад 1С-Онлайн    55\n",
       " 56                             Чехов ТРЦ \"Карнавал\"    56\n",
       " 57                          Якутск Орджоникидзе, 56    57\n",
       " 58                          Якутск ТЦ \"Центральный\"    58\n",
       " 59                           Ярославль ТЦ \"Альтаир\"    59,\n",
       "                                                      상품명   상품ID  상품분류ID\n",
       " 0              ! ВО ВЛАСТИ НАВАЖДЕНИЯ (ПЛАСТ.)         D      0      40\n",
       " 1      !ABBYY FineReader 12 Professional Edition Full...      1      76\n",
       " 2          ***В ЛУЧАХ СЛАВЫ   (UNV)                    D      2      40\n",
       " 3        ***ГОЛУБАЯ ВОЛНА  (Univ)                      D      3      40\n",
       " 4            ***КОРОБКА (СТЕКЛО)                       D      4      40\n",
       " ...                                                  ...    ...     ...\n",
       " 22165             Ядерный титбит 2 [PC, Цифровая версия]  22165      31\n",
       " 22166    Язык запросов 1С:Предприятия  [Цифровая версия]  22166      54\n",
       " 22167  Язык запросов 1С:Предприятия 8 (+CD). Хрустале...  22167      49\n",
       " 22168                                Яйцо для Little Inu  22168      62\n",
       " 22169                      Яйцо дракона (Игра престолов)  22169      69\n",
       " \n",
       " [22170 rows x 3 columns],\n",
       "                         상품분류명  상품분류ID\n",
       " 0     PC - Гарнитуры/Наушники       0\n",
       " 1            Аксессуары - PS2       1\n",
       " 2            Аксессуары - PS3       2\n",
       " 3            Аксессуары - PS4       3\n",
       " 4            Аксессуары - PSP       4\n",
       " ..                        ...     ...\n",
       " 79                  Служебные      79\n",
       " 80         Служебные - Билеты      80\n",
       " 81    Чистые носители (шпиль)      81\n",
       " 82  Чистые носители (штучные)      82\n",
       " 83           Элементы питания      83\n",
       " \n",
       " [84 rows x 2 columns],\n",
       "             ID  상점ID   상품ID\n",
       " 0            0     5   5037\n",
       " 1            1     5   5320\n",
       " 2            2     5   5233\n",
       " 3            3     5   5232\n",
       " 4            4     5   5268\n",
       " ...        ...   ...    ...\n",
       " 214195  214195    45  18454\n",
       " 214196  214196    45  16188\n",
       " 214197  214197    45  15757\n",
       " 214198  214198    45  19648\n",
       " 214199  214199    45    969\n",
       " \n",
       " [214200 rows x 3 columns]]"
      ]
     },
     "execution_count": 25,
     "metadata": {},
     "output_type": "execute_result"
    }
   ],
   "source": [
    "all_df"
   ]
  },
  {
   "cell_type": "markdown",
   "id": "4db74b41",
   "metadata": {},
   "source": [
    "# 02. 피처 엔지니어링 II : 개별 데이터 피처 엔지니어링"
   ]
  },
  {
   "cell_type": "markdown",
   "id": "30ecd7ca",
   "metadata": {},
   "source": [
    "## 2.1 sales_train 이상치 제거 및 전처리"
   ]
  },
  {
   "cell_type": "markdown",
   "id": "b74a53a5",
   "metadata": {},
   "source": [
    "* sales_train, shops, items, item_categories 데이터를 ‘각각’ 피처 엔지니어링\n",
    "* sales_train 이상치 제거와 전처리\n",
    "  - 판매가, 판매량이 음수라면 환불 건이거나 오류이므로 이상치로 간주\n",
    "  - 또한, 판매가가 50,000 이상인 데이터, 판매량이 1,000 이상인 데이터도 이상치로 간주(분석 정리 9)"
   ]
  },
  {
   "cell_type": "code",
   "execution_count": 26,
   "id": "d24faf82",
   "metadata": {},
   "outputs": [],
   "source": [
    "# 판매가가 0보다 큰 데이터 추출\n",
    "sales_train = sales_train[sales_train['판매가'] > 0]\n",
    "\n",
    "# 판매가가 50,000보다 작은 데이터 추출\n",
    "sales_train = sales_train[sales_train['판매가'] < 50000]\n",
    "\n",
    "# 판매량이 0보다 큰 데이터 추출\n",
    "sales_train = sales_train[sales_train['판매량'] > 0]\n",
    "\n",
    "# 판매량이 1,000보다 작은 데이터 추출\n",
    "sales_train = sales_train[sales_train['판매량'] < 1000]"
   ]
  },
  {
   "cell_type": "markdown",
   "id": "15f748aa",
   "metadata": {},
   "source": [
    "* sales_train 이상치 제거와 전처리\n",
    " - 상점명을 조금 다르게 기입해서 같은 상점인데 따로 기록돼 있는 상점이 네 쌍 있음\n",
    " - 다음 상점명 네 쌍을 같은 의미로 간주"
   ]
  },
  {
   "cell_type": "code",
   "execution_count": 27,
   "id": "faab282a",
   "metadata": {},
   "outputs": [
    {
     "name": "stdout",
     "output_type": "stream",
     "text": [
      "!Якутск Орджоникидзе, 56 фран || Якутск Орджоникидзе, 56\n",
      "!Якутск ТЦ \"Центральный\" фран || Якутск ТЦ \"Центральный\"\n",
      "Жуковский ул. Чкалова 39м? || Жуковский ул. Чкалова 39м²\n",
      "РостовНаДону ТРК \"Мегацентр Горизонт\" || РостовНаДону ТРК \"Мегацентр Горизонт\" Островной\n"
     ]
    }
   ],
   "source": [
    "print(shops['상점명'][0], '||', shops['상점명'][57])\n",
    "print(shops['상점명'][1], '||', shops['상점명'][58])\n",
    "print(shops['상점명'][10], '||', shops['상점명'][11])\n",
    "print(shops['상점명'][39], '||', shops['상점명'][40])"
   ]
  },
  {
   "cell_type": "markdown",
   "id": "9b54fcbd",
   "metadata": {},
   "source": [
    "[참고] 상점ID는 0부터 차례로 번호가 매겨져 있어서 0번째 상점명 데이터는 상점ID가 0인 데이터와 같음"
   ]
  },
  {
   "cell_type": "markdown",
   "id": "e4a22ef8",
   "metadata": {},
   "source": [
    "* 0 vs. 57\n",
    "  - !Якутск Орджоникидзе, 56 фран\n",
    "  - Якутск Орджоникидзе, 56\n",
    "* 1 vs. 58\n",
    "  - !Якутск ТЦ \"Центральный\" фран\n",
    "  - Якутск ТЦ \"Центральный\"\n",
    "* 10 vs. 11\n",
    "  - Жуковский ул. Чкалова 39м?\n",
    "  - Жуковский ул. Чкалова 39м²\n",
    "* 39 vs. 40\n",
    "  - РостовНаДону ТРК \"Мегацентр Горизонт\"\n",
    "  - РостовНаДону ТРК \"Мегацентр Горизонт\" Островной"
   ]
  },
  {
   "cell_type": "markdown",
   "id": "183f8066",
   "metadata": {},
   "source": [
    "### 상점명은 그대로 두고 상점ID만 수정\n",
    "  - 상점명과 상점ID가 결국 1:1 매칭되고, 상점명은 문자 데이터라 나중에 제거할 예정이기 때문!"
   ]
  },
  {
   "cell_type": "code",
   "execution_count": 28,
   "id": "3c3109b2",
   "metadata": {},
   "outputs": [],
   "source": [
    "# sales_train 데이터에서 상점ID 수정\n",
    "sales_train.loc[sales_train['상점ID'] == 0, '상점ID'] = 57\n",
    "sales_train.loc[sales_train['상점ID'] == 1, '상점ID'] = 58\n",
    "sales_train.loc[sales_train['상점ID'] == 10, '상점ID'] = 11\n",
    "sales_train.loc[sales_train['상점ID'] == 39, '상점ID'] = 40\n",
    "\n",
    "# test 데이터에서 상점ID 수정\n",
    "test.loc[test['상점ID'] == 0, '상점ID'] = 57\n",
    "test.loc[test['상점ID'] == 1, '상점ID'] = 58\n",
    "test.loc[test['상점ID'] == 10, '상점ID'] = 11\n",
    "test.loc[test['상점ID'] == 39, '상점ID'] = 40"
   ]
  },
  {
   "cell_type": "markdown",
   "id": "cad4552d",
   "metadata": {},
   "source": [
    "## 2.2 shops 파생 피처 생성 및 인코딩\n",
    "\n",
    "상점명의 첫 단어는 상점이 위치한 도시(분석 정리 6)"
   ]
  },
  {
   "cell_type": "code",
   "execution_count": 29,
   "id": "1f5e4f13",
   "metadata": {},
   "outputs": [
    {
     "data": {
      "text/plain": [
       "array(['!Якутск', 'Адыгея', 'Балашиха', 'Волжский', 'Вологда', 'Воронеж',\n",
       "       'Выездная', 'Жуковский', 'Интернет-магазин', 'Казань', 'Калуга',\n",
       "       'Коломна', 'Красноярск', 'Курск', 'Москва', 'Мытищи', 'Н.Новгород',\n",
       "       'Новосибирск', 'Омск', 'РостовНаДону', 'СПб', 'Самара', 'Сергиев',\n",
       "       'Сургут', 'Томск', 'Тюмень', 'Уфа', 'Химки', 'Цифровой', 'Чехов',\n",
       "       'Якутск', 'Ярославль'], dtype=object)"
      ]
     },
     "execution_count": 29,
     "metadata": {},
     "output_type": "execute_result"
    }
   ],
   "source": [
    "shops['도시'] = shops['상점명'].apply(lambda x: x.split()[0])\n",
    "shops['도시'].unique()"
   ]
  },
  {
   "cell_type": "markdown",
   "id": "1cf13a7d",
   "metadata": {},
   "source": [
    "- !Якутск 앞의 느낌표(!)는 잘못 기재된 것이니 제거"
   ]
  },
  {
   "cell_type": "code",
   "execution_count": 30,
   "id": "bf4a78d9",
   "metadata": {},
   "outputs": [],
   "source": [
    "shops.loc[shops['도시'] =='!Якутск', '도시'] = 'Якутск'"
   ]
  },
  {
   "cell_type": "markdown",
   "id": "2230ea37",
   "metadata": {},
   "source": [
    "* 도시명 레이블 인코딩\n",
    "  - 도시명은 범주형 피처임\n",
    "  - 머신러닝 모델은 문자를 인식하지 못하므로 숫자로 바꿔야 함"
   ]
  },
  {
   "cell_type": "code",
   "execution_count": 31,
   "id": "964b8489",
   "metadata": {},
   "outputs": [],
   "source": [
    "from sklearn.preprocessing import LabelEncoder\n",
    "\n",
    "# 레이블 인코더 생성\n",
    "label_encoder = LabelEncoder()\n",
    "\n",
    "# 도시 피처 레이블 인코딩\n",
    "shops['도시'] = label_encoder.fit_transform(shops['도시'])"
   ]
  },
  {
   "cell_type": "code",
   "execution_count": 32,
   "id": "1691e90f",
   "metadata": {
    "scrolled": true
   },
   "outputs": [
    {
     "data": {
      "text/html": [
       "<div>\n",
       "<style scoped>\n",
       "    .dataframe tbody tr th:only-of-type {\n",
       "        vertical-align: middle;\n",
       "    }\n",
       "\n",
       "    .dataframe tbody tr th {\n",
       "        vertical-align: top;\n",
       "    }\n",
       "\n",
       "    .dataframe thead th {\n",
       "        text-align: right;\n",
       "    }\n",
       "</style>\n",
       "<table border=\"1\" class=\"dataframe\">\n",
       "  <thead>\n",
       "    <tr style=\"text-align: right;\">\n",
       "      <th></th>\n",
       "      <th>상점명</th>\n",
       "      <th>상점ID</th>\n",
       "      <th>도시</th>\n",
       "    </tr>\n",
       "  </thead>\n",
       "  <tbody>\n",
       "    <tr>\n",
       "      <th>0</th>\n",
       "      <td>!Якутск Орджоникидзе, 56 фран</td>\n",
       "      <td>0</td>\n",
       "      <td>29</td>\n",
       "    </tr>\n",
       "    <tr>\n",
       "      <th>1</th>\n",
       "      <td>!Якутск ТЦ \"Центральный\" фран</td>\n",
       "      <td>1</td>\n",
       "      <td>29</td>\n",
       "    </tr>\n",
       "    <tr>\n",
       "      <th>2</th>\n",
       "      <td>Адыгея ТЦ \"Мега\"</td>\n",
       "      <td>2</td>\n",
       "      <td>0</td>\n",
       "    </tr>\n",
       "    <tr>\n",
       "      <th>3</th>\n",
       "      <td>Балашиха ТРК \"Октябрь-Киномир\"</td>\n",
       "      <td>3</td>\n",
       "      <td>1</td>\n",
       "    </tr>\n",
       "    <tr>\n",
       "      <th>4</th>\n",
       "      <td>Волжский ТЦ \"Волга Молл\"</td>\n",
       "      <td>4</td>\n",
       "      <td>2</td>\n",
       "    </tr>\n",
       "    <tr>\n",
       "      <th>5</th>\n",
       "      <td>Вологда ТРЦ \"Мармелад\"</td>\n",
       "      <td>5</td>\n",
       "      <td>3</td>\n",
       "    </tr>\n",
       "    <tr>\n",
       "      <th>6</th>\n",
       "      <td>Воронеж (Плехановская, 13)</td>\n",
       "      <td>6</td>\n",
       "      <td>4</td>\n",
       "    </tr>\n",
       "    <tr>\n",
       "      <th>7</th>\n",
       "      <td>Воронеж ТРЦ \"Максимир\"</td>\n",
       "      <td>7</td>\n",
       "      <td>4</td>\n",
       "    </tr>\n",
       "    <tr>\n",
       "      <th>8</th>\n",
       "      <td>Воронеж ТРЦ Сити-Парк \"Град\"</td>\n",
       "      <td>8</td>\n",
       "      <td>4</td>\n",
       "    </tr>\n",
       "    <tr>\n",
       "      <th>9</th>\n",
       "      <td>Выездная Торговля</td>\n",
       "      <td>9</td>\n",
       "      <td>5</td>\n",
       "    </tr>\n",
       "    <tr>\n",
       "      <th>10</th>\n",
       "      <td>Жуковский ул. Чкалова 39м?</td>\n",
       "      <td>10</td>\n",
       "      <td>6</td>\n",
       "    </tr>\n",
       "    <tr>\n",
       "      <th>11</th>\n",
       "      <td>Жуковский ул. Чкалова 39м²</td>\n",
       "      <td>11</td>\n",
       "      <td>6</td>\n",
       "    </tr>\n",
       "    <tr>\n",
       "      <th>12</th>\n",
       "      <td>Интернет-магазин ЧС</td>\n",
       "      <td>12</td>\n",
       "      <td>7</td>\n",
       "    </tr>\n",
       "    <tr>\n",
       "      <th>13</th>\n",
       "      <td>Казань ТЦ \"Бехетле\"</td>\n",
       "      <td>13</td>\n",
       "      <td>8</td>\n",
       "    </tr>\n",
       "    <tr>\n",
       "      <th>14</th>\n",
       "      <td>Казань ТЦ \"ПаркХаус\" II</td>\n",
       "      <td>14</td>\n",
       "      <td>8</td>\n",
       "    </tr>\n",
       "    <tr>\n",
       "      <th>15</th>\n",
       "      <td>Калуга ТРЦ \"XXI век\"</td>\n",
       "      <td>15</td>\n",
       "      <td>9</td>\n",
       "    </tr>\n",
       "    <tr>\n",
       "      <th>16</th>\n",
       "      <td>Коломна ТЦ \"Рио\"</td>\n",
       "      <td>16</td>\n",
       "      <td>10</td>\n",
       "    </tr>\n",
       "    <tr>\n",
       "      <th>17</th>\n",
       "      <td>Красноярск ТЦ \"Взлетка Плаза\"</td>\n",
       "      <td>17</td>\n",
       "      <td>11</td>\n",
       "    </tr>\n",
       "    <tr>\n",
       "      <th>18</th>\n",
       "      <td>Красноярск ТЦ \"Июнь\"</td>\n",
       "      <td>18</td>\n",
       "      <td>11</td>\n",
       "    </tr>\n",
       "    <tr>\n",
       "      <th>19</th>\n",
       "      <td>Курск ТЦ \"Пушкинский\"</td>\n",
       "      <td>19</td>\n",
       "      <td>12</td>\n",
       "    </tr>\n",
       "    <tr>\n",
       "      <th>20</th>\n",
       "      <td>Москва \"Распродажа\"</td>\n",
       "      <td>20</td>\n",
       "      <td>13</td>\n",
       "    </tr>\n",
       "    <tr>\n",
       "      <th>21</th>\n",
       "      <td>Москва МТРЦ \"Афи Молл\"</td>\n",
       "      <td>21</td>\n",
       "      <td>13</td>\n",
       "    </tr>\n",
       "    <tr>\n",
       "      <th>22</th>\n",
       "      <td>Москва Магазин С21</td>\n",
       "      <td>22</td>\n",
       "      <td>13</td>\n",
       "    </tr>\n",
       "    <tr>\n",
       "      <th>23</th>\n",
       "      <td>Москва ТК \"Буденовский\" (пав.А2)</td>\n",
       "      <td>23</td>\n",
       "      <td>13</td>\n",
       "    </tr>\n",
       "    <tr>\n",
       "      <th>24</th>\n",
       "      <td>Москва ТК \"Буденовский\" (пав.К7)</td>\n",
       "      <td>24</td>\n",
       "      <td>13</td>\n",
       "    </tr>\n",
       "    <tr>\n",
       "      <th>25</th>\n",
       "      <td>Москва ТРК \"Атриум\"</td>\n",
       "      <td>25</td>\n",
       "      <td>13</td>\n",
       "    </tr>\n",
       "    <tr>\n",
       "      <th>26</th>\n",
       "      <td>Москва ТЦ \"Ареал\" (Беляево)</td>\n",
       "      <td>26</td>\n",
       "      <td>13</td>\n",
       "    </tr>\n",
       "    <tr>\n",
       "      <th>27</th>\n",
       "      <td>Москва ТЦ \"МЕГА Белая Дача II\"</td>\n",
       "      <td>27</td>\n",
       "      <td>13</td>\n",
       "    </tr>\n",
       "    <tr>\n",
       "      <th>28</th>\n",
       "      <td>Москва ТЦ \"МЕГА Теплый Стан\" II</td>\n",
       "      <td>28</td>\n",
       "      <td>13</td>\n",
       "    </tr>\n",
       "    <tr>\n",
       "      <th>29</th>\n",
       "      <td>Москва ТЦ \"Новый век\" (Новокосино)</td>\n",
       "      <td>29</td>\n",
       "      <td>13</td>\n",
       "    </tr>\n",
       "    <tr>\n",
       "      <th>30</th>\n",
       "      <td>Москва ТЦ \"Перловский\"</td>\n",
       "      <td>30</td>\n",
       "      <td>13</td>\n",
       "    </tr>\n",
       "    <tr>\n",
       "      <th>31</th>\n",
       "      <td>Москва ТЦ \"Семеновский\"</td>\n",
       "      <td>31</td>\n",
       "      <td>13</td>\n",
       "    </tr>\n",
       "    <tr>\n",
       "      <th>32</th>\n",
       "      <td>Москва ТЦ \"Серебряный Дом\"</td>\n",
       "      <td>32</td>\n",
       "      <td>13</td>\n",
       "    </tr>\n",
       "    <tr>\n",
       "      <th>33</th>\n",
       "      <td>Мытищи ТРК \"XL-3\"</td>\n",
       "      <td>33</td>\n",
       "      <td>14</td>\n",
       "    </tr>\n",
       "    <tr>\n",
       "      <th>34</th>\n",
       "      <td>Н.Новгород ТРЦ \"РИО\"</td>\n",
       "      <td>34</td>\n",
       "      <td>15</td>\n",
       "    </tr>\n",
       "    <tr>\n",
       "      <th>35</th>\n",
       "      <td>Н.Новгород ТРЦ \"Фантастика\"</td>\n",
       "      <td>35</td>\n",
       "      <td>15</td>\n",
       "    </tr>\n",
       "    <tr>\n",
       "      <th>36</th>\n",
       "      <td>Новосибирск ТРЦ \"Галерея Новосибирск\"</td>\n",
       "      <td>36</td>\n",
       "      <td>16</td>\n",
       "    </tr>\n",
       "    <tr>\n",
       "      <th>37</th>\n",
       "      <td>Новосибирск ТЦ \"Мега\"</td>\n",
       "      <td>37</td>\n",
       "      <td>16</td>\n",
       "    </tr>\n",
       "    <tr>\n",
       "      <th>38</th>\n",
       "      <td>Омск ТЦ \"Мега\"</td>\n",
       "      <td>38</td>\n",
       "      <td>17</td>\n",
       "    </tr>\n",
       "    <tr>\n",
       "      <th>39</th>\n",
       "      <td>РостовНаДону ТРК \"Мегацентр Горизонт\"</td>\n",
       "      <td>39</td>\n",
       "      <td>18</td>\n",
       "    </tr>\n",
       "    <tr>\n",
       "      <th>40</th>\n",
       "      <td>РостовНаДону ТРК \"Мегацентр Горизонт\" Островной</td>\n",
       "      <td>40</td>\n",
       "      <td>18</td>\n",
       "    </tr>\n",
       "    <tr>\n",
       "      <th>41</th>\n",
       "      <td>РостовНаДону ТЦ \"Мега\"</td>\n",
       "      <td>41</td>\n",
       "      <td>18</td>\n",
       "    </tr>\n",
       "    <tr>\n",
       "      <th>42</th>\n",
       "      <td>СПб ТК \"Невский Центр\"</td>\n",
       "      <td>42</td>\n",
       "      <td>19</td>\n",
       "    </tr>\n",
       "    <tr>\n",
       "      <th>43</th>\n",
       "      <td>СПб ТК \"Сенная\"</td>\n",
       "      <td>43</td>\n",
       "      <td>19</td>\n",
       "    </tr>\n",
       "    <tr>\n",
       "      <th>44</th>\n",
       "      <td>Самара ТЦ \"Мелодия\"</td>\n",
       "      <td>44</td>\n",
       "      <td>20</td>\n",
       "    </tr>\n",
       "    <tr>\n",
       "      <th>45</th>\n",
       "      <td>Самара ТЦ \"ПаркХаус\"</td>\n",
       "      <td>45</td>\n",
       "      <td>20</td>\n",
       "    </tr>\n",
       "    <tr>\n",
       "      <th>46</th>\n",
       "      <td>Сергиев Посад ТЦ \"7Я\"</td>\n",
       "      <td>46</td>\n",
       "      <td>21</td>\n",
       "    </tr>\n",
       "    <tr>\n",
       "      <th>47</th>\n",
       "      <td>Сургут ТРЦ \"Сити Молл\"</td>\n",
       "      <td>47</td>\n",
       "      <td>22</td>\n",
       "    </tr>\n",
       "    <tr>\n",
       "      <th>48</th>\n",
       "      <td>Томск ТРЦ \"Изумрудный Город\"</td>\n",
       "      <td>48</td>\n",
       "      <td>23</td>\n",
       "    </tr>\n",
       "    <tr>\n",
       "      <th>49</th>\n",
       "      <td>Тюмень ТРЦ \"Кристалл\"</td>\n",
       "      <td>49</td>\n",
       "      <td>24</td>\n",
       "    </tr>\n",
       "    <tr>\n",
       "      <th>50</th>\n",
       "      <td>Тюмень ТЦ \"Гудвин\"</td>\n",
       "      <td>50</td>\n",
       "      <td>24</td>\n",
       "    </tr>\n",
       "    <tr>\n",
       "      <th>51</th>\n",
       "      <td>Тюмень ТЦ \"Зеленый Берег\"</td>\n",
       "      <td>51</td>\n",
       "      <td>24</td>\n",
       "    </tr>\n",
       "    <tr>\n",
       "      <th>52</th>\n",
       "      <td>Уфа ТК \"Центральный\"</td>\n",
       "      <td>52</td>\n",
       "      <td>25</td>\n",
       "    </tr>\n",
       "    <tr>\n",
       "      <th>53</th>\n",
       "      <td>Уфа ТЦ \"Семья\" 2</td>\n",
       "      <td>53</td>\n",
       "      <td>25</td>\n",
       "    </tr>\n",
       "    <tr>\n",
       "      <th>54</th>\n",
       "      <td>Химки ТЦ \"Мега\"</td>\n",
       "      <td>54</td>\n",
       "      <td>26</td>\n",
       "    </tr>\n",
       "    <tr>\n",
       "      <th>55</th>\n",
       "      <td>Цифровой склад 1С-Онлайн</td>\n",
       "      <td>55</td>\n",
       "      <td>27</td>\n",
       "    </tr>\n",
       "    <tr>\n",
       "      <th>56</th>\n",
       "      <td>Чехов ТРЦ \"Карнавал\"</td>\n",
       "      <td>56</td>\n",
       "      <td>28</td>\n",
       "    </tr>\n",
       "    <tr>\n",
       "      <th>57</th>\n",
       "      <td>Якутск Орджоникидзе, 56</td>\n",
       "      <td>57</td>\n",
       "      <td>29</td>\n",
       "    </tr>\n",
       "    <tr>\n",
       "      <th>58</th>\n",
       "      <td>Якутск ТЦ \"Центральный\"</td>\n",
       "      <td>58</td>\n",
       "      <td>29</td>\n",
       "    </tr>\n",
       "    <tr>\n",
       "      <th>59</th>\n",
       "      <td>Ярославль ТЦ \"Альтаир\"</td>\n",
       "      <td>59</td>\n",
       "      <td>30</td>\n",
       "    </tr>\n",
       "  </tbody>\n",
       "</table>\n",
       "</div>"
      ],
      "text/plain": [
       "                                                상점명  상점ID  도시\n",
       "0                     !Якутск Орджоникидзе, 56 фран     0  29\n",
       "1                     !Якутск ТЦ \"Центральный\" фран     1  29\n",
       "2                                  Адыгея ТЦ \"Мега\"     2   0\n",
       "3                    Балашиха ТРК \"Октябрь-Киномир\"     3   1\n",
       "4                          Волжский ТЦ \"Волга Молл\"     4   2\n",
       "5                            Вологда ТРЦ \"Мармелад\"     5   3\n",
       "6                        Воронеж (Плехановская, 13)     6   4\n",
       "7                            Воронеж ТРЦ \"Максимир\"     7   4\n",
       "8                      Воронеж ТРЦ Сити-Парк \"Град\"     8   4\n",
       "9                                 Выездная Торговля     9   5\n",
       "10                       Жуковский ул. Чкалова 39м?    10   6\n",
       "11                       Жуковский ул. Чкалова 39м²    11   6\n",
       "12                              Интернет-магазин ЧС    12   7\n",
       "13                              Казань ТЦ \"Бехетле\"    13   8\n",
       "14                          Казань ТЦ \"ПаркХаус\" II    14   8\n",
       "15                             Калуга ТРЦ \"XXI век\"    15   9\n",
       "16                                 Коломна ТЦ \"Рио\"    16  10\n",
       "17                    Красноярск ТЦ \"Взлетка Плаза\"    17  11\n",
       "18                             Красноярск ТЦ \"Июнь\"    18  11\n",
       "19                            Курск ТЦ \"Пушкинский\"    19  12\n",
       "20                              Москва \"Распродажа\"    20  13\n",
       "21                           Москва МТРЦ \"Афи Молл\"    21  13\n",
       "22                               Москва Магазин С21    22  13\n",
       "23                 Москва ТК \"Буденовский\" (пав.А2)    23  13\n",
       "24                 Москва ТК \"Буденовский\" (пав.К7)    24  13\n",
       "25                              Москва ТРК \"Атриум\"    25  13\n",
       "26                      Москва ТЦ \"Ареал\" (Беляево)    26  13\n",
       "27                   Москва ТЦ \"МЕГА Белая Дача II\"    27  13\n",
       "28                  Москва ТЦ \"МЕГА Теплый Стан\" II    28  13\n",
       "29               Москва ТЦ \"Новый век\" (Новокосино)    29  13\n",
       "30                           Москва ТЦ \"Перловский\"    30  13\n",
       "31                          Москва ТЦ \"Семеновский\"    31  13\n",
       "32                       Москва ТЦ \"Серебряный Дом\"    32  13\n",
       "33                                Мытищи ТРК \"XL-3\"    33  14\n",
       "34                             Н.Новгород ТРЦ \"РИО\"    34  15\n",
       "35                      Н.Новгород ТРЦ \"Фантастика\"    35  15\n",
       "36            Новосибирск ТРЦ \"Галерея Новосибирск\"    36  16\n",
       "37                            Новосибирск ТЦ \"Мега\"    37  16\n",
       "38                                   Омск ТЦ \"Мега\"    38  17\n",
       "39            РостовНаДону ТРК \"Мегацентр Горизонт\"    39  18\n",
       "40  РостовНаДону ТРК \"Мегацентр Горизонт\" Островной    40  18\n",
       "41                           РостовНаДону ТЦ \"Мега\"    41  18\n",
       "42                           СПб ТК \"Невский Центр\"    42  19\n",
       "43                                  СПб ТК \"Сенная\"    43  19\n",
       "44                              Самара ТЦ \"Мелодия\"    44  20\n",
       "45                             Самара ТЦ \"ПаркХаус\"    45  20\n",
       "46                            Сергиев Посад ТЦ \"7Я\"    46  21\n",
       "47                           Сургут ТРЦ \"Сити Молл\"    47  22\n",
       "48                     Томск ТРЦ \"Изумрудный Город\"    48  23\n",
       "49                            Тюмень ТРЦ \"Кристалл\"    49  24\n",
       "50                               Тюмень ТЦ \"Гудвин\"    50  24\n",
       "51                        Тюмень ТЦ \"Зеленый Берег\"    51  24\n",
       "52                             Уфа ТК \"Центральный\"    52  25\n",
       "53                                 Уфа ТЦ \"Семья\" 2    53  25\n",
       "54                                  Химки ТЦ \"Мега\"    54  26\n",
       "55                         Цифровой склад 1С-Онлайн    55  27\n",
       "56                             Чехов ТРЦ \"Карнавал\"    56  28\n",
       "57                          Якутск Орджоникидзе, 56    57  29\n",
       "58                          Якутск ТЦ \"Центральный\"    58  29\n",
       "59                           Ярославль ТЦ \"Альтаир\"    59  30"
      ]
     },
     "execution_count": 32,
     "metadata": {},
     "output_type": "execute_result"
    }
   ],
   "source": [
    "shops"
   ]
  },
  {
   "cell_type": "markdown",
   "id": "ccaf8023",
   "metadata": {},
   "source": [
    "## 2.3 shops 파생 피처 제거\n",
    "\n",
    "* 상점명 피처 제거\n",
    "  - 상점명 피처는 도시명 피처를 만들기 위해 필요했음\n",
    "  - 이젠 상점명 피처가 더는 필요 없으니 제거(같은 의미가 상점ID 피처에 내포돼 있기 때문)"
   ]
  },
  {
   "cell_type": "code",
   "execution_count": 33,
   "id": "4eaebb1a",
   "metadata": {
    "scrolled": true
   },
   "outputs": [
    {
     "data": {
      "text/html": [
       "<div>\n",
       "<style scoped>\n",
       "    .dataframe tbody tr th:only-of-type {\n",
       "        vertical-align: middle;\n",
       "    }\n",
       "\n",
       "    .dataframe tbody tr th {\n",
       "        vertical-align: top;\n",
       "    }\n",
       "\n",
       "    .dataframe thead th {\n",
       "        text-align: right;\n",
       "    }\n",
       "</style>\n",
       "<table border=\"1\" class=\"dataframe\">\n",
       "  <thead>\n",
       "    <tr style=\"text-align: right;\">\n",
       "      <th></th>\n",
       "      <th>상점ID</th>\n",
       "      <th>도시</th>\n",
       "    </tr>\n",
       "  </thead>\n",
       "  <tbody>\n",
       "    <tr>\n",
       "      <th>0</th>\n",
       "      <td>0</td>\n",
       "      <td>29</td>\n",
       "    </tr>\n",
       "    <tr>\n",
       "      <th>1</th>\n",
       "      <td>1</td>\n",
       "      <td>29</td>\n",
       "    </tr>\n",
       "    <tr>\n",
       "      <th>2</th>\n",
       "      <td>2</td>\n",
       "      <td>0</td>\n",
       "    </tr>\n",
       "    <tr>\n",
       "      <th>3</th>\n",
       "      <td>3</td>\n",
       "      <td>1</td>\n",
       "    </tr>\n",
       "    <tr>\n",
       "      <th>4</th>\n",
       "      <td>4</td>\n",
       "      <td>2</td>\n",
       "    </tr>\n",
       "  </tbody>\n",
       "</table>\n",
       "</div>"
      ],
      "text/plain": [
       "   상점ID  도시\n",
       "0     0  29\n",
       "1     1  29\n",
       "2     2   0\n",
       "3     3   1\n",
       "4     4   2"
      ]
     },
     "execution_count": 33,
     "metadata": {},
     "output_type": "execute_result"
    }
   ],
   "source": [
    "# 상점명 피처 제거\n",
    "shops = shops.drop('상점명', axis=1)\n",
    "\n",
    "shops.head()"
   ]
  },
  {
   "cell_type": "markdown",
   "id": "8dcaecf8",
   "metadata": {},
   "source": [
    "* items 파생 피처 생성\n",
    "  - 상품명 피처 제거\n",
    "  - 우선, items 데이터는 상품명, 상품ID, 상품분류ID를 피처로 갖음(상품명은 상품ID와 일대일 매칭되므로 제거(분석 정리8))"
   ]
  },
  {
   "cell_type": "code",
   "execution_count": 34,
   "id": "cfbf16ed",
   "metadata": {},
   "outputs": [],
   "source": [
    "# 상품명 피처 제거\n",
    "items = items.drop(['상품명'], axis=1)"
   ]
  },
  {
   "cell_type": "markdown",
   "id": "5b90801e",
   "metadata": {},
   "source": [
    "* 첫 판매월 피처 생성\n",
    "  - 판매 내역 데이터(sales_train)에서 상품ID가 가장 처음 등장한 날의 월ID를 구하면 됨\n",
    "  - 첫 판매월 피처는 모델링에 직접 사용하지 않고, 추후 다른 피처를 만들 때 활용됨"
   ]
  },
  {
   "cell_type": "code",
   "execution_count": 35,
   "id": "afa99d4d",
   "metadata": {},
   "outputs": [
    {
     "data": {
      "text/html": [
       "<div>\n",
       "<style scoped>\n",
       "    .dataframe tbody tr th:only-of-type {\n",
       "        vertical-align: middle;\n",
       "    }\n",
       "\n",
       "    .dataframe tbody tr th {\n",
       "        vertical-align: top;\n",
       "    }\n",
       "\n",
       "    .dataframe thead th {\n",
       "        text-align: right;\n",
       "    }\n",
       "</style>\n",
       "<table border=\"1\" class=\"dataframe\">\n",
       "  <thead>\n",
       "    <tr style=\"text-align: right;\">\n",
       "      <th></th>\n",
       "      <th>상품ID</th>\n",
       "      <th>상품분류ID</th>\n",
       "      <th>첫 판매월</th>\n",
       "    </tr>\n",
       "  </thead>\n",
       "  <tbody>\n",
       "    <tr>\n",
       "      <th>0</th>\n",
       "      <td>0</td>\n",
       "      <td>40</td>\n",
       "      <td>20.0</td>\n",
       "    </tr>\n",
       "    <tr>\n",
       "      <th>1</th>\n",
       "      <td>1</td>\n",
       "      <td>76</td>\n",
       "      <td>15.0</td>\n",
       "    </tr>\n",
       "    <tr>\n",
       "      <th>2</th>\n",
       "      <td>2</td>\n",
       "      <td>40</td>\n",
       "      <td>19.0</td>\n",
       "    </tr>\n",
       "    <tr>\n",
       "      <th>3</th>\n",
       "      <td>3</td>\n",
       "      <td>40</td>\n",
       "      <td>18.0</td>\n",
       "    </tr>\n",
       "    <tr>\n",
       "      <th>4</th>\n",
       "      <td>4</td>\n",
       "      <td>40</td>\n",
       "      <td>20.0</td>\n",
       "    </tr>\n",
       "  </tbody>\n",
       "</table>\n",
       "</div>"
      ],
      "text/plain": [
       "   상품ID  상품분류ID  첫 판매월\n",
       "0     0      40   20.0\n",
       "1     1      76   15.0\n",
       "2     2      40   19.0\n",
       "3     3      40   18.0\n",
       "4     4      40   20.0"
      ]
     },
     "execution_count": 35,
     "metadata": {},
     "output_type": "execute_result"
    }
   ],
   "source": [
    "# 상품이 맨 처음 팔린 날을 피처로 추가\n",
    "items['첫 판매월'] = sales_train.groupby('상품ID').agg({'월ID': 'min'})['월ID']\n",
    "\n",
    "items.head()"
   ]
  },
  {
   "cell_type": "markdown",
   "id": "9ec7a124",
   "metadata": {},
   "source": [
    "* 첫 판매월 결측값 처리"
   ]
  },
  {
   "cell_type": "code",
   "execution_count": 36,
   "id": "6e28fc55",
   "metadata": {
    "scrolled": false
   },
   "outputs": [
    {
     "data": {
      "text/html": [
       "<div>\n",
       "<style scoped>\n",
       "    .dataframe tbody tr th:only-of-type {\n",
       "        vertical-align: middle;\n",
       "    }\n",
       "\n",
       "    .dataframe tbody tr th {\n",
       "        vertical-align: top;\n",
       "    }\n",
       "\n",
       "    .dataframe thead th {\n",
       "        text-align: right;\n",
       "    }\n",
       "</style>\n",
       "<table border=\"1\" class=\"dataframe\">\n",
       "  <thead>\n",
       "    <tr style=\"text-align: right;\">\n",
       "      <th></th>\n",
       "      <th>상품ID</th>\n",
       "      <th>상품분류ID</th>\n",
       "      <th>첫 판매월</th>\n",
       "    </tr>\n",
       "  </thead>\n",
       "  <tbody>\n",
       "    <tr>\n",
       "      <th>83</th>\n",
       "      <td>83</td>\n",
       "      <td>40</td>\n",
       "      <td>NaN</td>\n",
       "    </tr>\n",
       "    <tr>\n",
       "      <th>140</th>\n",
       "      <td>140</td>\n",
       "      <td>45</td>\n",
       "      <td>NaN</td>\n",
       "    </tr>\n",
       "    <tr>\n",
       "      <th>168</th>\n",
       "      <td>168</td>\n",
       "      <td>44</td>\n",
       "      <td>NaN</td>\n",
       "    </tr>\n",
       "    <tr>\n",
       "      <th>173</th>\n",
       "      <td>173</td>\n",
       "      <td>45</td>\n",
       "      <td>NaN</td>\n",
       "    </tr>\n",
       "    <tr>\n",
       "      <th>204</th>\n",
       "      <td>204</td>\n",
       "      <td>44</td>\n",
       "      <td>NaN</td>\n",
       "    </tr>\n",
       "    <tr>\n",
       "      <th>...</th>\n",
       "      <td>...</td>\n",
       "      <td>...</td>\n",
       "      <td>...</td>\n",
       "    </tr>\n",
       "    <tr>\n",
       "      <th>21974</th>\n",
       "      <td>21974</td>\n",
       "      <td>61</td>\n",
       "      <td>NaN</td>\n",
       "    </tr>\n",
       "    <tr>\n",
       "      <th>21975</th>\n",
       "      <td>21975</td>\n",
       "      <td>61</td>\n",
       "      <td>NaN</td>\n",
       "    </tr>\n",
       "    <tr>\n",
       "      <th>22022</th>\n",
       "      <td>22022</td>\n",
       "      <td>40</td>\n",
       "      <td>NaN</td>\n",
       "    </tr>\n",
       "    <tr>\n",
       "      <th>22035</th>\n",
       "      <td>22035</td>\n",
       "      <td>40</td>\n",
       "      <td>NaN</td>\n",
       "    </tr>\n",
       "    <tr>\n",
       "      <th>22137</th>\n",
       "      <td>22137</td>\n",
       "      <td>40</td>\n",
       "      <td>NaN</td>\n",
       "    </tr>\n",
       "  </tbody>\n",
       "</table>\n",
       "<p>368 rows × 3 columns</p>\n",
       "</div>"
      ],
      "text/plain": [
       "        상품ID  상품분류ID  첫 판매월\n",
       "83        83      40    NaN\n",
       "140      140      45    NaN\n",
       "168      168      44    NaN\n",
       "173      173      45    NaN\n",
       "204      204      44    NaN\n",
       "...      ...     ...    ...\n",
       "21974  21974      61    NaN\n",
       "21975  21975      61    NaN\n",
       "22022  22022      40    NaN\n",
       "22035  22035      40    NaN\n",
       "22137  22137      40    NaN\n",
       "\n",
       "[368 rows x 3 columns]"
      ]
     },
     "execution_count": 36,
     "metadata": {},
     "output_type": "execute_result"
    }
   ],
   "source": [
    "items[items['첫 판매월'].isna()]"
   ]
  },
  {
   "cell_type": "code",
   "execution_count": 37,
   "id": "55993d0b",
   "metadata": {},
   "outputs": [],
   "source": [
    "# 첫 판매월 피처의 결측값을 34로 대체\n",
    "items['첫 판매월'] = items['첫 판매월'].fillna(34)"
   ]
  },
  {
   "cell_type": "markdown",
   "id": "f4dde182",
   "metadata": {},
   "source": [
    "## 2.4 item_categories 파생 피처 생성 및 인코딩\n",
    "\n",
    "*  item_categories 파생 피처 생성 및 인코딩\n",
    "  - item_categories에서 ‘대분류’ 파생 피처 만들고, 이를 인코딩\n",
    "  - 상품분류명의 첫 단어가 범주 대분류, 이를 참고해 대분류 추출(분석 정리 6)\n",
    "  - 범주형 데이터를 더 큰 범주로 묶으면 범주가 지나치게 세밀할 대보다 성능 향상에 유리할 수도 있음"
   ]
  },
  {
   "cell_type": "code",
   "execution_count": 38,
   "id": "fcb566d0",
   "metadata": {},
   "outputs": [],
   "source": [
    "# 상품분류명의 첫 단어를 대분류로 추출\n",
    "item_categories['대분류'] = item_categories['상품분류명'].apply(lambda x: x.split()[0])"
   ]
  },
  {
   "cell_type": "markdown",
   "id": "ef099987",
   "metadata": {},
   "source": [
    "* item_categories 파생 피처 생성 및 인코딩"
   ]
  },
  {
   "cell_type": "code",
   "execution_count": 39,
   "id": "2bf3145f",
   "metadata": {},
   "outputs": [
    {
     "data": {
      "text/plain": [
       "Игры          14\n",
       "Книги         13\n",
       "Подарки       12\n",
       "Игровые        8\n",
       "Аксессуары     7\n",
       "Музыка         6\n",
       "Программы      6\n",
       "Карты          5\n",
       "Кино           5\n",
       "Служебные      2\n",
       "Чистые         2\n",
       "PC             1\n",
       "Билеты         1\n",
       "Доставка       1\n",
       "Элементы       1\n",
       "Name: 대분류, dtype: int64"
      ]
     },
     "execution_count": 39,
     "metadata": {},
     "output_type": "execute_result"
    }
   ],
   "source": [
    "item_categories['대분류'].value_counts()"
   ]
  },
  {
   "cell_type": "markdown",
   "id": "9b4809d2",
   "metadata": {},
   "source": [
    "* 고윳값 5개 미만인 대분류는 ‘etc’로 변환\n",
    "   - 대분류 하나가 범주를 일정 개수 이상을 갖는 게 성능 향상에 유리하기 때문"
   ]
  },
  {
   "cell_type": "code",
   "execution_count": 40,
   "id": "4f95137b",
   "metadata": {},
   "outputs": [],
   "source": [
    "def make_etc(x):\n",
    "    if len(item_categories[item_categories['대분류']==x]) >= 5:\n",
    "        return x\n",
    "    else:\n",
    "        return 'etc'\n",
    "\n",
    "# 대분류의 고윳값 개수가 5개 미만이면 'etc'로 바꾸기\n",
    "item_categories['대분류'] = item_categories['대분류'].apply(make_etc)"
   ]
  },
  {
   "cell_type": "code",
   "execution_count": 41,
   "id": "e64599d2",
   "metadata": {},
   "outputs": [
    {
     "data": {
      "text/html": [
       "<div>\n",
       "<style scoped>\n",
       "    .dataframe tbody tr th:only-of-type {\n",
       "        vertical-align: middle;\n",
       "    }\n",
       "\n",
       "    .dataframe tbody tr th {\n",
       "        vertical-align: top;\n",
       "    }\n",
       "\n",
       "    .dataframe thead th {\n",
       "        text-align: right;\n",
       "    }\n",
       "</style>\n",
       "<table border=\"1\" class=\"dataframe\">\n",
       "  <thead>\n",
       "    <tr style=\"text-align: right;\">\n",
       "      <th></th>\n",
       "      <th>상품분류명</th>\n",
       "      <th>상품분류ID</th>\n",
       "      <th>대분류</th>\n",
       "    </tr>\n",
       "  </thead>\n",
       "  <tbody>\n",
       "    <tr>\n",
       "      <th>0</th>\n",
       "      <td>PC - Гарнитуры/Наушники</td>\n",
       "      <td>0</td>\n",
       "      <td>etc</td>\n",
       "    </tr>\n",
       "    <tr>\n",
       "      <th>1</th>\n",
       "      <td>Аксессуары - PS2</td>\n",
       "      <td>1</td>\n",
       "      <td>Аксессуары</td>\n",
       "    </tr>\n",
       "    <tr>\n",
       "      <th>2</th>\n",
       "      <td>Аксессуары - PS3</td>\n",
       "      <td>2</td>\n",
       "      <td>Аксессуары</td>\n",
       "    </tr>\n",
       "    <tr>\n",
       "      <th>3</th>\n",
       "      <td>Аксессуары - PS4</td>\n",
       "      <td>3</td>\n",
       "      <td>Аксессуары</td>\n",
       "    </tr>\n",
       "    <tr>\n",
       "      <th>4</th>\n",
       "      <td>Аксессуары - PSP</td>\n",
       "      <td>4</td>\n",
       "      <td>Аксессуары</td>\n",
       "    </tr>\n",
       "  </tbody>\n",
       "</table>\n",
       "</div>"
      ],
      "text/plain": [
       "                     상품분류명  상품분류ID         대분류\n",
       "0  PC - Гарнитуры/Наушники       0         etc\n",
       "1         Аксессуары - PS2       1  Аксессуары\n",
       "2         Аксессуары - PS3       2  Аксессуары\n",
       "3         Аксессуары - PS4       3  Аксессуары\n",
       "4         Аксессуары - PSP       4  Аксессуары"
      ]
     },
     "execution_count": 41,
     "metadata": {},
     "output_type": "execute_result"
    }
   ],
   "source": [
    "item_categories.head()"
   ]
  },
  {
   "cell_type": "markdown",
   "id": "a900af23",
   "metadata": {},
   "source": [
    "* 범주형 피처인 대분류 인코딩 후, 더 이상 필요 없는 상품분류명 피처 제거"
   ]
  },
  {
   "cell_type": "code",
   "execution_count": 42,
   "id": "2e32928a",
   "metadata": {},
   "outputs": [],
   "source": [
    "# 레이블 인코더 생성\n",
    "label_encoder = LabelEncoder()\n",
    "\n",
    "# 대분류 피처 레이블 인코딩\n",
    "item_categories['대분류'] = label_encoder.fit_transform(item_categories['대분류'])\n",
    "\n",
    "# 상품분류명 피처 제거\n",
    "item_categories = item_categories.drop('상품분류명', axis=1)"
   ]
  },
  {
   "cell_type": "markdown",
   "id": "912d04ce",
   "metadata": {},
   "source": [
    "# 3. 작업 결과 정리"
   ]
  },
  {
   "cell_type": "markdown",
   "id": "d67166c7",
   "metadata": {},
   "source": [
    "1. sales_train\n",
    "  - 이상치 제거\n",
    "  - 상품ID 네 쌍 수정"
   ]
  },
  {
   "cell_type": "markdown",
   "id": "58d5052b",
   "metadata": {},
   "source": [
    "2. shops\n",
    "  - 상점명 피처를 활용해 도시 피처 새로 추가\n",
    "  - 범주형 데이터인 도시 피처 인코딩\n",
    "  - 상점명 피처 제거"
   ]
  },
  {
   "cell_type": "markdown",
   "id": "9fe8628d",
   "metadata": {},
   "source": [
    "3. items\n",
    "  - 첫 판매월 피처 추가\n",
    "  - 결측값을 34로 대체"
   ]
  },
  {
   "cell_type": "markdown",
   "id": "23ba6b42",
   "metadata": {},
   "source": [
    "4. item_categories\n",
    " - 대분류 피처 추가\n",
    " - 고윳값 개수 5개 미만인 대분류 값을 ‘etc’로 변경\n",
    " - 대분류 피처 인코딩"
   ]
  },
  {
   "cell_type": "markdown",
   "id": "fae2824d",
   "metadata": {},
   "source": [
    "Cf_  etc : 기타, 참조"
   ]
  },
  {
   "cell_type": "markdown",
   "id": "1ded081d",
   "metadata": {},
   "source": [
    "# 04. 데이터 조합\n",
    "  - Base Line과 동일"
   ]
  },
  {
   "cell_type": "code",
   "execution_count": 43,
   "id": "30eca2a1",
   "metadata": {},
   "outputs": [],
   "source": [
    "from itertools import product"
   ]
  },
  {
   "cell_type": "code",
   "execution_count": 44,
   "id": "4a93bdcf",
   "metadata": {},
   "outputs": [],
   "source": [
    "train = []"
   ]
  },
  {
   "cell_type": "code",
   "execution_count": 45,
   "id": "50544e1c",
   "metadata": {},
   "outputs": [],
   "source": [
    "for i in sales_train['월ID'].unique():\n",
    "    all_shop = sales_train.loc[sales_train['월ID']==i, '상점ID'].unique()\n",
    "    all_item = sales_train.loc[sales_train['월ID']==i, '상품ID'].unique()\n",
    "    train.append(np.array(list(product([i], all_shop, all_item))))\n",
    "\n",
    "idx_features = ['월ID', '상점ID', '상품ID'] # 기준 피처\n",
    "\n",
    "# 리스트 타입인 train을 DataFrame 타입으로 변환\n",
    "train = pd.DataFrame(np.vstack(train), columns=idx_features)"
   ]
  },
  {
   "cell_type": "code",
   "execution_count": 46,
   "id": "227a18c1",
   "metadata": {
    "scrolled": false
   },
   "outputs": [
    {
     "data": {
      "text/html": [
       "<div>\n",
       "<style scoped>\n",
       "    .dataframe tbody tr th:only-of-type {\n",
       "        vertical-align: middle;\n",
       "    }\n",
       "\n",
       "    .dataframe tbody tr th {\n",
       "        vertical-align: top;\n",
       "    }\n",
       "\n",
       "    .dataframe thead th {\n",
       "        text-align: right;\n",
       "    }\n",
       "</style>\n",
       "<table border=\"1\" class=\"dataframe\">\n",
       "  <thead>\n",
       "    <tr style=\"text-align: right;\">\n",
       "      <th></th>\n",
       "      <th>월ID</th>\n",
       "      <th>상점ID</th>\n",
       "      <th>상품ID</th>\n",
       "    </tr>\n",
       "  </thead>\n",
       "  <tbody>\n",
       "    <tr>\n",
       "      <th>0</th>\n",
       "      <td>0</td>\n",
       "      <td>59</td>\n",
       "      <td>22154</td>\n",
       "    </tr>\n",
       "    <tr>\n",
       "      <th>1</th>\n",
       "      <td>0</td>\n",
       "      <td>59</td>\n",
       "      <td>2552</td>\n",
       "    </tr>\n",
       "    <tr>\n",
       "      <th>2</th>\n",
       "      <td>0</td>\n",
       "      <td>59</td>\n",
       "      <td>2554</td>\n",
       "    </tr>\n",
       "    <tr>\n",
       "      <th>3</th>\n",
       "      <td>0</td>\n",
       "      <td>59</td>\n",
       "      <td>2555</td>\n",
       "    </tr>\n",
       "    <tr>\n",
       "      <th>4</th>\n",
       "      <td>0</td>\n",
       "      <td>59</td>\n",
       "      <td>2564</td>\n",
       "    </tr>\n",
       "    <tr>\n",
       "      <th>...</th>\n",
       "      <td>...</td>\n",
       "      <td>...</td>\n",
       "      <td>...</td>\n",
       "    </tr>\n",
       "    <tr>\n",
       "      <th>10812763</th>\n",
       "      <td>33</td>\n",
       "      <td>21</td>\n",
       "      <td>7635</td>\n",
       "    </tr>\n",
       "    <tr>\n",
       "      <th>10812764</th>\n",
       "      <td>33</td>\n",
       "      <td>21</td>\n",
       "      <td>7638</td>\n",
       "    </tr>\n",
       "    <tr>\n",
       "      <th>10812765</th>\n",
       "      <td>33</td>\n",
       "      <td>21</td>\n",
       "      <td>7640</td>\n",
       "    </tr>\n",
       "    <tr>\n",
       "      <th>10812766</th>\n",
       "      <td>33</td>\n",
       "      <td>21</td>\n",
       "      <td>7632</td>\n",
       "    </tr>\n",
       "    <tr>\n",
       "      <th>10812767</th>\n",
       "      <td>33</td>\n",
       "      <td>21</td>\n",
       "      <td>7440</td>\n",
       "    </tr>\n",
       "  </tbody>\n",
       "</table>\n",
       "<p>10812768 rows × 3 columns</p>\n",
       "</div>"
      ],
      "text/plain": [
       "          월ID  상점ID   상품ID\n",
       "0           0    59  22154\n",
       "1           0    59   2552\n",
       "2           0    59   2554\n",
       "3           0    59   2555\n",
       "4           0    59   2564\n",
       "...       ...   ...    ...\n",
       "10812763   33    21   7635\n",
       "10812764   33    21   7638\n",
       "10812765   33    21   7640\n",
       "10812766   33    21   7632\n",
       "10812767   33    21   7440\n",
       "\n",
       "[10812768 rows x 3 columns]"
      ]
     },
     "execution_count": 46,
     "metadata": {},
     "output_type": "execute_result"
    }
   ],
   "source": [
    "train"
   ]
  },
  {
   "cell_type": "markdown",
   "id": "a012e8d8",
   "metadata": {},
   "source": [
    "# 05. 데이터 조합 및 파생 피처 생성\n",
    "* 파생 피처 생성\n",
    "  - 3가지 피처 생성(‘월간 판매량’, ‘평균 판매가’, ‘기준 피처별 상품 판매건수’)\n",
    "  - 먼저, 월간 판매량과 평균 판매가 피처 생성 (베이스라인과 다르게 평균 판매가도 추가)"
   ]
  },
  {
   "cell_type": "code",
   "execution_count": 47,
   "id": "55c78734",
   "metadata": {},
   "outputs": [
    {
     "data": {
      "text/html": [
       "<div>\n",
       "<style scoped>\n",
       "    .dataframe tbody tr th:only-of-type {\n",
       "        vertical-align: middle;\n",
       "    }\n",
       "\n",
       "    .dataframe tbody tr th {\n",
       "        vertical-align: top;\n",
       "    }\n",
       "\n",
       "    .dataframe thead th {\n",
       "        text-align: right;\n",
       "    }\n",
       "</style>\n",
       "<table border=\"1\" class=\"dataframe\">\n",
       "  <thead>\n",
       "    <tr style=\"text-align: right;\">\n",
       "      <th></th>\n",
       "      <th>월ID</th>\n",
       "      <th>상점ID</th>\n",
       "      <th>상품ID</th>\n",
       "      <th>월간 판매량</th>\n",
       "      <th>평균 판매가</th>\n",
       "    </tr>\n",
       "  </thead>\n",
       "  <tbody>\n",
       "    <tr>\n",
       "      <th>0</th>\n",
       "      <td>0</td>\n",
       "      <td>59</td>\n",
       "      <td>22154</td>\n",
       "      <td>1.0</td>\n",
       "      <td>999.0</td>\n",
       "    </tr>\n",
       "    <tr>\n",
       "      <th>1</th>\n",
       "      <td>0</td>\n",
       "      <td>59</td>\n",
       "      <td>2552</td>\n",
       "      <td>NaN</td>\n",
       "      <td>NaN</td>\n",
       "    </tr>\n",
       "    <tr>\n",
       "      <th>2</th>\n",
       "      <td>0</td>\n",
       "      <td>59</td>\n",
       "      <td>2554</td>\n",
       "      <td>NaN</td>\n",
       "      <td>NaN</td>\n",
       "    </tr>\n",
       "    <tr>\n",
       "      <th>3</th>\n",
       "      <td>0</td>\n",
       "      <td>59</td>\n",
       "      <td>2555</td>\n",
       "      <td>NaN</td>\n",
       "      <td>NaN</td>\n",
       "    </tr>\n",
       "    <tr>\n",
       "      <th>4</th>\n",
       "      <td>0</td>\n",
       "      <td>59</td>\n",
       "      <td>2564</td>\n",
       "      <td>NaN</td>\n",
       "      <td>NaN</td>\n",
       "    </tr>\n",
       "  </tbody>\n",
       "</table>\n",
       "</div>"
      ],
      "text/plain": [
       "   월ID  상점ID   상품ID  월간 판매량  평균 판매가\n",
       "0    0    59  22154     1.0   999.0\n",
       "1    0    59   2552     NaN     NaN\n",
       "2    0    59   2554     NaN     NaN\n",
       "3    0    59   2555     NaN     NaN\n",
       "4    0    59   2564     NaN     NaN"
      ]
     },
     "execution_count": 47,
     "metadata": {},
     "output_type": "execute_result"
    }
   ],
   "source": [
    "group = sales_train.groupby(idx_features).agg({'판매량': 'sum',\n",
    "                                               '판매가': 'mean'})\n",
    "group = group.reset_index()\n",
    "group = group.rename(columns={'판매량': '월간 판매량', '판매가': '평균 판매가'})\n",
    "\n",
    "train = train.merge(group, on=idx_features, how='left')\n",
    "\n",
    "train.head()"
   ]
  },
  {
   "cell_type": "code",
   "execution_count": 48,
   "id": "464d6f78",
   "metadata": {},
   "outputs": [],
   "source": [
    "import gc\n",
    "\n",
    "# group 변수 가비지 컬렉션\n",
    "del group\n",
    "gc.collect();"
   ]
  },
  {
   "cell_type": "code",
   "execution_count": 49,
   "id": "65bb2539",
   "metadata": {},
   "outputs": [
    {
     "data": {
      "text/html": [
       "<div>\n",
       "<style scoped>\n",
       "    .dataframe tbody tr th:only-of-type {\n",
       "        vertical-align: middle;\n",
       "    }\n",
       "\n",
       "    .dataframe tbody tr th {\n",
       "        vertical-align: top;\n",
       "    }\n",
       "\n",
       "    .dataframe thead th {\n",
       "        text-align: right;\n",
       "    }\n",
       "</style>\n",
       "<table border=\"1\" class=\"dataframe\">\n",
       "  <thead>\n",
       "    <tr style=\"text-align: right;\">\n",
       "      <th></th>\n",
       "      <th>월ID</th>\n",
       "      <th>상점ID</th>\n",
       "      <th>상품ID</th>\n",
       "      <th>월간 판매량</th>\n",
       "      <th>평균 판매가</th>\n",
       "      <th>판매건수</th>\n",
       "    </tr>\n",
       "  </thead>\n",
       "  <tbody>\n",
       "    <tr>\n",
       "      <th>0</th>\n",
       "      <td>0</td>\n",
       "      <td>59</td>\n",
       "      <td>22154</td>\n",
       "      <td>1.0</td>\n",
       "      <td>999.0</td>\n",
       "      <td>1.0</td>\n",
       "    </tr>\n",
       "    <tr>\n",
       "      <th>1</th>\n",
       "      <td>0</td>\n",
       "      <td>59</td>\n",
       "      <td>2552</td>\n",
       "      <td>NaN</td>\n",
       "      <td>NaN</td>\n",
       "      <td>NaN</td>\n",
       "    </tr>\n",
       "    <tr>\n",
       "      <th>2</th>\n",
       "      <td>0</td>\n",
       "      <td>59</td>\n",
       "      <td>2554</td>\n",
       "      <td>NaN</td>\n",
       "      <td>NaN</td>\n",
       "      <td>NaN</td>\n",
       "    </tr>\n",
       "    <tr>\n",
       "      <th>3</th>\n",
       "      <td>0</td>\n",
       "      <td>59</td>\n",
       "      <td>2555</td>\n",
       "      <td>NaN</td>\n",
       "      <td>NaN</td>\n",
       "      <td>NaN</td>\n",
       "    </tr>\n",
       "    <tr>\n",
       "      <th>4</th>\n",
       "      <td>0</td>\n",
       "      <td>59</td>\n",
       "      <td>2564</td>\n",
       "      <td>NaN</td>\n",
       "      <td>NaN</td>\n",
       "      <td>NaN</td>\n",
       "    </tr>\n",
       "  </tbody>\n",
       "</table>\n",
       "</div>"
      ],
      "text/plain": [
       "   월ID  상점ID   상품ID  월간 판매량  평균 판매가  판매건수\n",
       "0    0    59  22154     1.0   999.0   1.0\n",
       "1    0    59   2552     NaN     NaN   NaN\n",
       "2    0    59   2554     NaN     NaN   NaN\n",
       "3    0    59   2555     NaN     NaN   NaN\n",
       "4    0    59   2564     NaN     NaN   NaN"
      ]
     },
     "execution_count": 49,
     "metadata": {},
     "output_type": "execute_result"
    }
   ],
   "source": [
    "# 상품 판매건수 피처 추가\n",
    "group = sales_train.groupby(idx_features).agg({'판매량': 'count'})\n",
    "group = group.reset_index()\n",
    "group = group.rename(columns={'판매량': '판매건수'})\n",
    "\n",
    "train = train.merge(group, on=idx_features, how='left')\n",
    "\n",
    "# 가비지 컬렉션\n",
    "del group, sales_train\n",
    "gc.collect()\n",
    "\n",
    "train.head()"
   ]
  },
  {
   "cell_type": "markdown",
   "id": "23aabc43",
   "metadata": {},
   "source": [
    "# 06. 데이터 합치기"
   ]
  },
  {
   "cell_type": "markdown",
   "id": "4d9476d6",
   "metadata": {},
   "source": [
    "## 6.1 테스트 데이터 이어붙이기"
   ]
  },
  {
   "cell_type": "markdown",
   "id": "bee0ffc6",
   "metadata": {},
   "source": [
    "* 지금까지 한 작업\n",
    "* 월ID, 상점ID, 상품ID 조합으로 train을 만들고, 여기에 월간 판매량(타깃값)을 추가함\n",
    "* 테스트 데이터 이어붙이기\n",
    "  - 뒤이어 shops, items, item_categories 데이터를 병합할 텐데, 이때 테스트 데이터에도\n",
    "    한 번에 병합하는 게 좋기 때문 우선, 월ID 피처 추가\n",
    "    (2015년 10월의 월ID가 33이므로 2015년 11월의 월ID는 34)"
   ]
  },
  {
   "cell_type": "code",
   "execution_count": 50,
   "id": "d84bd97f",
   "metadata": {},
   "outputs": [],
   "source": [
    "test['월ID'] = 34\n",
    "\n",
    "# train과 test 이어붙이기\n",
    "all_data = pd.concat([train, test.drop('ID', axis=1)],\n",
    "                     ignore_index=True, # 기존 인덱스 무시(0부터 새로 시작)\n",
    "                     keys=idx_features) # 이어붙이는 기준이 되는 피처"
   ]
  },
  {
   "cell_type": "code",
   "execution_count": 51,
   "id": "8c7296f2",
   "metadata": {},
   "outputs": [
    {
     "data": {
      "text/html": [
       "<div>\n",
       "<style scoped>\n",
       "    .dataframe tbody tr th:only-of-type {\n",
       "        vertical-align: middle;\n",
       "    }\n",
       "\n",
       "    .dataframe tbody tr th {\n",
       "        vertical-align: top;\n",
       "    }\n",
       "\n",
       "    .dataframe thead th {\n",
       "        text-align: right;\n",
       "    }\n",
       "</style>\n",
       "<table border=\"1\" class=\"dataframe\">\n",
       "  <thead>\n",
       "    <tr style=\"text-align: right;\">\n",
       "      <th></th>\n",
       "      <th>월ID</th>\n",
       "      <th>상점ID</th>\n",
       "      <th>상품ID</th>\n",
       "      <th>월간 판매량</th>\n",
       "      <th>평균 판매가</th>\n",
       "      <th>판매건수</th>\n",
       "    </tr>\n",
       "  </thead>\n",
       "  <tbody>\n",
       "    <tr>\n",
       "      <th>0</th>\n",
       "      <td>0</td>\n",
       "      <td>59</td>\n",
       "      <td>22154</td>\n",
       "      <td>1.0</td>\n",
       "      <td>999.0</td>\n",
       "      <td>1.0</td>\n",
       "    </tr>\n",
       "    <tr>\n",
       "      <th>1</th>\n",
       "      <td>0</td>\n",
       "      <td>59</td>\n",
       "      <td>2552</td>\n",
       "      <td>NaN</td>\n",
       "      <td>NaN</td>\n",
       "      <td>NaN</td>\n",
       "    </tr>\n",
       "    <tr>\n",
       "      <th>2</th>\n",
       "      <td>0</td>\n",
       "      <td>59</td>\n",
       "      <td>2554</td>\n",
       "      <td>NaN</td>\n",
       "      <td>NaN</td>\n",
       "      <td>NaN</td>\n",
       "    </tr>\n",
       "    <tr>\n",
       "      <th>3</th>\n",
       "      <td>0</td>\n",
       "      <td>59</td>\n",
       "      <td>2555</td>\n",
       "      <td>NaN</td>\n",
       "      <td>NaN</td>\n",
       "      <td>NaN</td>\n",
       "    </tr>\n",
       "    <tr>\n",
       "      <th>4</th>\n",
       "      <td>0</td>\n",
       "      <td>59</td>\n",
       "      <td>2564</td>\n",
       "      <td>NaN</td>\n",
       "      <td>NaN</td>\n",
       "      <td>NaN</td>\n",
       "    </tr>\n",
       "    <tr>\n",
       "      <th>...</th>\n",
       "      <td>...</td>\n",
       "      <td>...</td>\n",
       "      <td>...</td>\n",
       "      <td>...</td>\n",
       "      <td>...</td>\n",
       "      <td>...</td>\n",
       "    </tr>\n",
       "    <tr>\n",
       "      <th>11026963</th>\n",
       "      <td>34</td>\n",
       "      <td>45</td>\n",
       "      <td>18454</td>\n",
       "      <td>NaN</td>\n",
       "      <td>NaN</td>\n",
       "      <td>NaN</td>\n",
       "    </tr>\n",
       "    <tr>\n",
       "      <th>11026964</th>\n",
       "      <td>34</td>\n",
       "      <td>45</td>\n",
       "      <td>16188</td>\n",
       "      <td>NaN</td>\n",
       "      <td>NaN</td>\n",
       "      <td>NaN</td>\n",
       "    </tr>\n",
       "    <tr>\n",
       "      <th>11026965</th>\n",
       "      <td>34</td>\n",
       "      <td>45</td>\n",
       "      <td>15757</td>\n",
       "      <td>NaN</td>\n",
       "      <td>NaN</td>\n",
       "      <td>NaN</td>\n",
       "    </tr>\n",
       "    <tr>\n",
       "      <th>11026966</th>\n",
       "      <td>34</td>\n",
       "      <td>45</td>\n",
       "      <td>19648</td>\n",
       "      <td>NaN</td>\n",
       "      <td>NaN</td>\n",
       "      <td>NaN</td>\n",
       "    </tr>\n",
       "    <tr>\n",
       "      <th>11026967</th>\n",
       "      <td>34</td>\n",
       "      <td>45</td>\n",
       "      <td>969</td>\n",
       "      <td>NaN</td>\n",
       "      <td>NaN</td>\n",
       "      <td>NaN</td>\n",
       "    </tr>\n",
       "  </tbody>\n",
       "</table>\n",
       "<p>11026968 rows × 6 columns</p>\n",
       "</div>"
      ],
      "text/plain": [
       "          월ID  상점ID   상품ID  월간 판매량  평균 판매가  판매건수\n",
       "0           0    59  22154     1.0   999.0   1.0\n",
       "1           0    59   2552     NaN     NaN   NaN\n",
       "2           0    59   2554     NaN     NaN   NaN\n",
       "3           0    59   2555     NaN     NaN   NaN\n",
       "4           0    59   2564     NaN     NaN   NaN\n",
       "...       ...   ...    ...     ...     ...   ...\n",
       "11026963   34    45  18454     NaN     NaN   NaN\n",
       "11026964   34    45  16188     NaN     NaN   NaN\n",
       "11026965   34    45  15757     NaN     NaN   NaN\n",
       "11026966   34    45  19648     NaN     NaN   NaN\n",
       "11026967   34    45    969     NaN     NaN   NaN\n",
       "\n",
       "[11026968 rows x 6 columns]"
      ]
     },
     "execution_count": 51,
     "metadata": {},
     "output_type": "execute_result"
    }
   ],
   "source": [
    "all_data"
   ]
  },
  {
   "cell_type": "markdown",
   "id": "0efcb82b",
   "metadata": {},
   "source": [
    "Cf_\n",
    "- 2013년 1월 ~ 12월 : 0 ~ 11,\n",
    "- 2014년 1월 ~ 12월 : 12 ~ 23,\n",
    "- 2015년 1월 ~ 10월 : 24 ~ 33까지 index를 부여하고\n",
    "- 2015년11월은 34번 index를 부여한 것임.\n",
    "- 0 ~ 34번까지 Index를 부여한 사유는 컴퓨터는 년, 월, 일을 알지 못하므로, 0 ~ 34번까지 순차적으로 index를 부여하여 34번째 달의 판매량을 예측하는 것"
   ]
  },
  {
   "cell_type": "markdown",
   "id": "27efe041",
   "metadata": {},
   "source": [
    "- 결측값은 0으로 대체\n",
    "  - train과 group을 병합할 때 결측값이 많았기 때문에"
   ]
  },
  {
   "cell_type": "code",
   "execution_count": 53,
   "id": "3b727606",
   "metadata": {},
   "outputs": [
    {
     "data": {
      "text/html": [
       "<div>\n",
       "<style scoped>\n",
       "    .dataframe tbody tr th:only-of-type {\n",
       "        vertical-align: middle;\n",
       "    }\n",
       "\n",
       "    .dataframe tbody tr th {\n",
       "        vertical-align: top;\n",
       "    }\n",
       "\n",
       "    .dataframe thead th {\n",
       "        text-align: right;\n",
       "    }\n",
       "</style>\n",
       "<table border=\"1\" class=\"dataframe\">\n",
       "  <thead>\n",
       "    <tr style=\"text-align: right;\">\n",
       "      <th></th>\n",
       "      <th>월ID</th>\n",
       "      <th>상점ID</th>\n",
       "      <th>상품ID</th>\n",
       "      <th>월간 판매량</th>\n",
       "      <th>평균 판매가</th>\n",
       "      <th>판매건수</th>\n",
       "    </tr>\n",
       "  </thead>\n",
       "  <tbody>\n",
       "    <tr>\n",
       "      <th>0</th>\n",
       "      <td>0</td>\n",
       "      <td>59</td>\n",
       "      <td>22154</td>\n",
       "      <td>1.0</td>\n",
       "      <td>999.0</td>\n",
       "      <td>1.0</td>\n",
       "    </tr>\n",
       "    <tr>\n",
       "      <th>1</th>\n",
       "      <td>0</td>\n",
       "      <td>59</td>\n",
       "      <td>2552</td>\n",
       "      <td>0.0</td>\n",
       "      <td>0.0</td>\n",
       "      <td>0.0</td>\n",
       "    </tr>\n",
       "    <tr>\n",
       "      <th>2</th>\n",
       "      <td>0</td>\n",
       "      <td>59</td>\n",
       "      <td>2554</td>\n",
       "      <td>0.0</td>\n",
       "      <td>0.0</td>\n",
       "      <td>0.0</td>\n",
       "    </tr>\n",
       "    <tr>\n",
       "      <th>3</th>\n",
       "      <td>0</td>\n",
       "      <td>59</td>\n",
       "      <td>2555</td>\n",
       "      <td>0.0</td>\n",
       "      <td>0.0</td>\n",
       "      <td>0.0</td>\n",
       "    </tr>\n",
       "    <tr>\n",
       "      <th>4</th>\n",
       "      <td>0</td>\n",
       "      <td>59</td>\n",
       "      <td>2564</td>\n",
       "      <td>0.0</td>\n",
       "      <td>0.0</td>\n",
       "      <td>0.0</td>\n",
       "    </tr>\n",
       "    <tr>\n",
       "      <th>...</th>\n",
       "      <td>...</td>\n",
       "      <td>...</td>\n",
       "      <td>...</td>\n",
       "      <td>...</td>\n",
       "      <td>...</td>\n",
       "      <td>...</td>\n",
       "    </tr>\n",
       "    <tr>\n",
       "      <th>11026963</th>\n",
       "      <td>34</td>\n",
       "      <td>45</td>\n",
       "      <td>18454</td>\n",
       "      <td>0.0</td>\n",
       "      <td>0.0</td>\n",
       "      <td>0.0</td>\n",
       "    </tr>\n",
       "    <tr>\n",
       "      <th>11026964</th>\n",
       "      <td>34</td>\n",
       "      <td>45</td>\n",
       "      <td>16188</td>\n",
       "      <td>0.0</td>\n",
       "      <td>0.0</td>\n",
       "      <td>0.0</td>\n",
       "    </tr>\n",
       "    <tr>\n",
       "      <th>11026965</th>\n",
       "      <td>34</td>\n",
       "      <td>45</td>\n",
       "      <td>15757</td>\n",
       "      <td>0.0</td>\n",
       "      <td>0.0</td>\n",
       "      <td>0.0</td>\n",
       "    </tr>\n",
       "    <tr>\n",
       "      <th>11026966</th>\n",
       "      <td>34</td>\n",
       "      <td>45</td>\n",
       "      <td>19648</td>\n",
       "      <td>0.0</td>\n",
       "      <td>0.0</td>\n",
       "      <td>0.0</td>\n",
       "    </tr>\n",
       "    <tr>\n",
       "      <th>11026967</th>\n",
       "      <td>34</td>\n",
       "      <td>45</td>\n",
       "      <td>969</td>\n",
       "      <td>0.0</td>\n",
       "      <td>0.0</td>\n",
       "      <td>0.0</td>\n",
       "    </tr>\n",
       "  </tbody>\n",
       "</table>\n",
       "<p>11026968 rows × 6 columns</p>\n",
       "</div>"
      ],
      "text/plain": [
       "          월ID  상점ID   상품ID  월간 판매량  평균 판매가  판매건수\n",
       "0           0    59  22154     1.0   999.0   1.0\n",
       "1           0    59   2552     0.0     0.0   0.0\n",
       "2           0    59   2554     0.0     0.0   0.0\n",
       "3           0    59   2555     0.0     0.0   0.0\n",
       "4           0    59   2564     0.0     0.0   0.0\n",
       "...       ...   ...    ...     ...     ...   ...\n",
       "11026963   34    45  18454     0.0     0.0   0.0\n",
       "11026964   34    45  16188     0.0     0.0   0.0\n",
       "11026965   34    45  15757     0.0     0.0   0.0\n",
       "11026966   34    45  19648     0.0     0.0   0.0\n",
       "11026967   34    45    969     0.0     0.0   0.0\n",
       "\n",
       "[11026968 rows x 6 columns]"
      ]
     },
     "execution_count": 53,
     "metadata": {},
     "output_type": "execute_result"
    }
   ],
   "source": [
    "# 결측값을 0으로 대체\n",
    "all_data = all_data.fillna(0)\n",
    "all_data"
   ]
  },
  {
   "cell_type": "markdown",
   "id": "8f662ee1",
   "metadata": {},
   "source": [
    "## 6.2 나머지 데이터 병합(최종 데이터 생성)"
   ]
  },
  {
   "cell_type": "markdown",
   "id": "8b54ffa5",
   "metadata": {},
   "source": [
    "- 나머지 데이터를 all_data에 병합(분석 정리 4)\n",
    "- 추가로, 데이터 다운캐스팅과 가비지 컬렉션 수행(분석 정리 5)"
   ]
  },
  {
   "cell_type": "code",
   "execution_count": 54,
   "id": "0c67a915",
   "metadata": {},
   "outputs": [
    {
     "name": "stdout",
     "output_type": "stream",
     "text": [
      "59.6% 압축됨\n"
     ]
    }
   ],
   "source": [
    "# 나머지 데이터 병합\n",
    "all_data = all_data.merge(shops, on='상점ID', how='left')\n",
    "all_data = all_data.merge(items, on='상품ID', how='left')\n",
    "all_data = all_data.merge(item_categories, on='상품분류ID', how='left')\n",
    "\n",
    "# 데이터 다운캐스팅\n",
    "all_data = downcast(all_data)\n",
    "\n",
    "# 가비지 컬렉션\n",
    "del shops, items, item_categories\n",
    "gc.collect();"
   ]
  },
  {
   "cell_type": "markdown",
   "id": "3f785dc7",
   "metadata": {},
   "source": [
    "## 6.3 병합한 데이터 확인"
   ]
  },
  {
   "cell_type": "code",
   "execution_count": 55,
   "id": "f3ca8920",
   "metadata": {},
   "outputs": [
    {
     "data": {
      "text/html": [
       "<div>\n",
       "<style scoped>\n",
       "    .dataframe tbody tr th:only-of-type {\n",
       "        vertical-align: middle;\n",
       "    }\n",
       "\n",
       "    .dataframe tbody tr th {\n",
       "        vertical-align: top;\n",
       "    }\n",
       "\n",
       "    .dataframe thead th {\n",
       "        text-align: right;\n",
       "    }\n",
       "</style>\n",
       "<table border=\"1\" class=\"dataframe\">\n",
       "  <thead>\n",
       "    <tr style=\"text-align: right;\">\n",
       "      <th></th>\n",
       "      <th>월ID</th>\n",
       "      <th>상점ID</th>\n",
       "      <th>상품ID</th>\n",
       "      <th>월간 판매량</th>\n",
       "      <th>평균 판매가</th>\n",
       "      <th>판매건수</th>\n",
       "      <th>도시</th>\n",
       "      <th>상품분류ID</th>\n",
       "      <th>첫 판매월</th>\n",
       "      <th>대분류</th>\n",
       "    </tr>\n",
       "  </thead>\n",
       "  <tbody>\n",
       "    <tr>\n",
       "      <th>0</th>\n",
       "      <td>0</td>\n",
       "      <td>59</td>\n",
       "      <td>22154</td>\n",
       "      <td>1</td>\n",
       "      <td>999.0</td>\n",
       "      <td>1</td>\n",
       "      <td>30</td>\n",
       "      <td>37</td>\n",
       "      <td>0</td>\n",
       "      <td>5</td>\n",
       "    </tr>\n",
       "    <tr>\n",
       "      <th>1</th>\n",
       "      <td>0</td>\n",
       "      <td>59</td>\n",
       "      <td>2552</td>\n",
       "      <td>0</td>\n",
       "      <td>0.0</td>\n",
       "      <td>0</td>\n",
       "      <td>30</td>\n",
       "      <td>58</td>\n",
       "      <td>0</td>\n",
       "      <td>7</td>\n",
       "    </tr>\n",
       "    <tr>\n",
       "      <th>2</th>\n",
       "      <td>0</td>\n",
       "      <td>59</td>\n",
       "      <td>2554</td>\n",
       "      <td>0</td>\n",
       "      <td>0.0</td>\n",
       "      <td>0</td>\n",
       "      <td>30</td>\n",
       "      <td>58</td>\n",
       "      <td>0</td>\n",
       "      <td>7</td>\n",
       "    </tr>\n",
       "    <tr>\n",
       "      <th>3</th>\n",
       "      <td>0</td>\n",
       "      <td>59</td>\n",
       "      <td>2555</td>\n",
       "      <td>0</td>\n",
       "      <td>0.0</td>\n",
       "      <td>0</td>\n",
       "      <td>30</td>\n",
       "      <td>56</td>\n",
       "      <td>0</td>\n",
       "      <td>7</td>\n",
       "    </tr>\n",
       "    <tr>\n",
       "      <th>4</th>\n",
       "      <td>0</td>\n",
       "      <td>59</td>\n",
       "      <td>2564</td>\n",
       "      <td>0</td>\n",
       "      <td>0.0</td>\n",
       "      <td>0</td>\n",
       "      <td>30</td>\n",
       "      <td>59</td>\n",
       "      <td>0</td>\n",
       "      <td>7</td>\n",
       "    </tr>\n",
       "  </tbody>\n",
       "</table>\n",
       "</div>"
      ],
      "text/plain": [
       "   월ID  상점ID   상품ID  월간 판매량  평균 판매가  판매건수  도시  상품분류ID  첫 판매월  대분류\n",
       "0    0    59  22154       1   999.0     1  30      37      0    5\n",
       "1    0    59   2552       0     0.0     0  30      58      0    7\n",
       "2    0    59   2554       0     0.0     0  30      58      0    7\n",
       "3    0    59   2555       0     0.0     0  30      56      0    7\n",
       "4    0    59   2564       0     0.0     0  30      59      0    7"
      ]
     },
     "execution_count": 55,
     "metadata": {},
     "output_type": "execute_result"
    }
   ],
   "source": [
    "all_data.head()"
   ]
  },
  {
   "cell_type": "markdown",
   "id": "9291c138",
   "metadata": {},
   "source": [
    "# 07. 시차 피처 생성\n",
    "  - 기준 피처별 월간 평균 판매량 파생 피처 생성"
   ]
  },
  {
   "cell_type": "code",
   "execution_count": 56,
   "id": "96bc0349",
   "metadata": {},
   "outputs": [],
   "source": [
    "def add_mean_features(df, mean_features, idx_features):\n",
    "    # 기준 피처 확인 \n",
    "    assert (idx_features[0] == '월ID') and \\\n",
    "           len(idx_features) in [2, 3]\n",
    "    \n",
    "    # 파생 피처명 설정 \n",
    "    if len(idx_features) == 2:\n",
    "        feature_name = idx_features[1] + '별 평균 판매량'\n",
    "    else:\n",
    "        feature_name = idx_features[1] + ' ' + idx_features[2] + '별 평균 판매량'\n",
    "    \n",
    "    # 기준 피처를 토대로 그룹화해 월간 평균 판매량 구하기 \n",
    "    group = df.groupby(idx_features).agg({'월간 판매량': 'mean'})\n",
    "    group = group.reset_index()\n",
    "    group = group.rename(columns={'월간 판매량': feature_name})\n",
    "    \n",
    "    # df와 group 병합 \n",
    "    df = df.merge(group, on=idx_features, how='left')\n",
    "    # 데이터 다운캐스팅 \n",
    "    df = downcast(df, verbose=False)\n",
    "    # 새로 만든 feature_name 피처명을 mean_features 리스트에 추가 \n",
    "    mean_features.append(feature_name)\n",
    "    \n",
    "    # 가비지 컬렉션\n",
    "    del group\n",
    "    gc.collect()\n",
    "    \n",
    "    return df, mean_features"
   ]
  },
  {
   "cell_type": "code",
   "execution_count": 57,
   "id": "f294b4b4",
   "metadata": {},
   "outputs": [],
   "source": [
    "# 그룹화 기준 피처 중 '상품ID'가 포함된 파생 피처명을 담을 리스트\n",
    "item_mean_features = []\n",
    "\n",
    "# ['월ID', '상품ID']로 그룹화한 월간 평균 판매량 파생 피처 생성\n",
    "all_data, item_mean_features = add_mean_features(df=all_data,\n",
    "                                                 mean_features=item_mean_features,\n",
    "                                                 idx_features=['월ID', '상품ID'])\n",
    "\n",
    "# ['월ID', '상품ID', '도시']로 그룹화한 월간 평균 판매량 파생 피처 생성\n",
    "all_data, item_mean_features = add_mean_features(df=all_data,\n",
    "                                                 mean_features=item_mean_features,\n",
    "                                                 idx_features=['월ID', '상품ID', '도시'])"
   ]
  },
  {
   "cell_type": "code",
   "execution_count": 58,
   "id": "49ec7b70",
   "metadata": {},
   "outputs": [
    {
     "data": {
      "text/plain": [
       "['상품ID별 평균 판매량', '상품ID 도시별 평균 판매량']"
      ]
     },
     "execution_count": 58,
     "metadata": {},
     "output_type": "execute_result"
    }
   ],
   "source": [
    "item_mean_features"
   ]
  },
  {
   "cell_type": "code",
   "execution_count": 59,
   "id": "27044817",
   "metadata": {},
   "outputs": [],
   "source": [
    "# 그룹화 기준 피처 중 '상점ID'가 포함된 파생 피처명을 담을 리스트\n",
    "shop_mean_features = []\n",
    "\n",
    "# ['월ID', '상점ID', '상품분류ID']로 그룹화한 월간 평균 판매량 파생 피처 생성\n",
    "all_data, shop_mean_features = add_mean_features(df=all_data, \n",
    "                                                 mean_features=shop_mean_features,\n",
    "                                                 idx_features=['월ID', '상점ID', '상품분류ID'])"
   ]
  },
  {
   "cell_type": "code",
   "execution_count": 60,
   "id": "a102954b",
   "metadata": {},
   "outputs": [
    {
     "data": {
      "text/plain": [
       "['상점ID 상품분류ID별 평균 판매량']"
      ]
     },
     "execution_count": 60,
     "metadata": {},
     "output_type": "execute_result"
    }
   ],
   "source": [
    "shop_mean_features"
   ]
  },
  {
   "cell_type": "markdown",
   "id": "0ac12083",
   "metadata": {},
   "source": [
    "## 7.1 시차 피처 생성 원리와 구현"
   ]
  },
  {
   "cell_type": "code",
   "execution_count": 61,
   "id": "30fd39d2",
   "metadata": {},
   "outputs": [],
   "source": [
    "def add_lag_features(df, lag_features_to_clip, idx_features, \n",
    "                     lag_feature, nlags=3, clip=False):\n",
    "    # 시차 피처 생성에 필요한 DataFrame 부분만 복사 \n",
    "    df_temp = df[idx_features + [lag_feature]].copy() \n",
    "\n",
    "    # 시차 피처 생성 \n",
    "    for i in range(1, nlags+1):\n",
    "        # 시차 피처명 \n",
    "        lag_feature_name = lag_feature +'_시차' + str(i)\n",
    "        # df_temp 열 이름 설정 \n",
    "        df_temp.columns = idx_features + [lag_feature_name]\n",
    "        # df_temp의 date_block_num 피처에 1 더하기 \n",
    "        df_temp['월ID'] += 1\n",
    "        # idx_feature를 기준으로 df와 df_temp 병합하기 \n",
    "        df = df.merge(df_temp.drop_duplicates(), \n",
    "                      on=idx_features, \n",
    "                      how='left')\n",
    "        # 결측값 0으로 대체 \n",
    "        df[lag_feature_name] = df[lag_feature_name].fillna(0)\n",
    "        # 0 ~ 20 사이로 제한할 시차 피처명을 lag_features_to_clip에 추가 \n",
    "        if clip: \n",
    "            lag_features_to_clip.append(lag_feature_name)\n",
    "    \n",
    "    # 데이터 다운캐스팅\n",
    "    df = downcast(df, False)\n",
    "    # 가비지 컬렉션\n",
    "    del df_temp\n",
    "    gc.collect()\n",
    "    \n",
    "    return df, lag_features_to_clip"
   ]
  },
  {
   "cell_type": "markdown",
   "id": "0298bf82",
   "metadata": {},
   "source": [
    "### 시차 피처 생성 I : 월간 판매량"
   ]
  },
  {
   "cell_type": "code",
   "execution_count": 62,
   "id": "5fb46d08",
   "metadata": {},
   "outputs": [],
   "source": [
    "lag_features_to_clip = [] # 0 ~ 20 사이로 제한할 시차 피처명을 담을 리스트\n",
    "idx_features = ['월ID', '상점ID', '상품ID'] # 기준 피처\n",
    "\n",
    "# idx_features를 기준으로 월간 판매량의 세 달치 시차 피처 생성\n",
    "all_data, lag_features_to_clip = add_lag_features(df=all_data, \n",
    "                                                  lag_features_to_clip=lag_features_to_clip,\n",
    "                                                  idx_features=idx_features,\n",
    "                                                  lag_feature='월간 판매량', \n",
    "                                                  nlags=3,\n",
    "                                                  clip=True) # 값을 0 ~ 20 사이로 제한"
   ]
  },
  {
   "cell_type": "code",
   "execution_count": 63,
   "id": "4b1a945c",
   "metadata": {},
   "outputs": [
    {
     "data": {
      "text/html": [
       "<div>\n",
       "<style scoped>\n",
       "    .dataframe tbody tr th:only-of-type {\n",
       "        vertical-align: middle;\n",
       "    }\n",
       "\n",
       "    .dataframe tbody tr th {\n",
       "        vertical-align: top;\n",
       "    }\n",
       "\n",
       "    .dataframe thead th {\n",
       "        text-align: right;\n",
       "    }\n",
       "</style>\n",
       "<table border=\"1\" class=\"dataframe\">\n",
       "  <thead>\n",
       "    <tr style=\"text-align: right;\">\n",
       "      <th></th>\n",
       "      <th>0</th>\n",
       "      <th>1</th>\n",
       "      <th>2</th>\n",
       "      <th>3</th>\n",
       "      <th>4</th>\n",
       "    </tr>\n",
       "  </thead>\n",
       "  <tbody>\n",
       "    <tr>\n",
       "      <th>월ID</th>\n",
       "      <td>0.000000</td>\n",
       "      <td>0.000000</td>\n",
       "      <td>0.000000</td>\n",
       "      <td>0.000000</td>\n",
       "      <td>0.000000</td>\n",
       "    </tr>\n",
       "    <tr>\n",
       "      <th>상점ID</th>\n",
       "      <td>59.000000</td>\n",
       "      <td>59.000000</td>\n",
       "      <td>59.000000</td>\n",
       "      <td>59.000000</td>\n",
       "      <td>59.000000</td>\n",
       "    </tr>\n",
       "    <tr>\n",
       "      <th>상품ID</th>\n",
       "      <td>22154.000000</td>\n",
       "      <td>2552.000000</td>\n",
       "      <td>2554.000000</td>\n",
       "      <td>2555.000000</td>\n",
       "      <td>2564.000000</td>\n",
       "    </tr>\n",
       "    <tr>\n",
       "      <th>월간 판매량</th>\n",
       "      <td>1.000000</td>\n",
       "      <td>0.000000</td>\n",
       "      <td>0.000000</td>\n",
       "      <td>0.000000</td>\n",
       "      <td>0.000000</td>\n",
       "    </tr>\n",
       "    <tr>\n",
       "      <th>평균 판매가</th>\n",
       "      <td>999.000000</td>\n",
       "      <td>0.000000</td>\n",
       "      <td>0.000000</td>\n",
       "      <td>0.000000</td>\n",
       "      <td>0.000000</td>\n",
       "    </tr>\n",
       "    <tr>\n",
       "      <th>판매건수</th>\n",
       "      <td>1.000000</td>\n",
       "      <td>0.000000</td>\n",
       "      <td>0.000000</td>\n",
       "      <td>0.000000</td>\n",
       "      <td>0.000000</td>\n",
       "    </tr>\n",
       "    <tr>\n",
       "      <th>도시</th>\n",
       "      <td>30.000000</td>\n",
       "      <td>30.000000</td>\n",
       "      <td>30.000000</td>\n",
       "      <td>30.000000</td>\n",
       "      <td>30.000000</td>\n",
       "    </tr>\n",
       "    <tr>\n",
       "      <th>상품분류ID</th>\n",
       "      <td>37.000000</td>\n",
       "      <td>58.000000</td>\n",
       "      <td>58.000000</td>\n",
       "      <td>56.000000</td>\n",
       "      <td>59.000000</td>\n",
       "    </tr>\n",
       "    <tr>\n",
       "      <th>첫 판매월</th>\n",
       "      <td>0.000000</td>\n",
       "      <td>0.000000</td>\n",
       "      <td>0.000000</td>\n",
       "      <td>0.000000</td>\n",
       "      <td>0.000000</td>\n",
       "    </tr>\n",
       "    <tr>\n",
       "      <th>대분류</th>\n",
       "      <td>5.000000</td>\n",
       "      <td>7.000000</td>\n",
       "      <td>7.000000</td>\n",
       "      <td>7.000000</td>\n",
       "      <td>7.000000</td>\n",
       "    </tr>\n",
       "    <tr>\n",
       "      <th>상품ID별 평균 판매량</th>\n",
       "      <td>0.400000</td>\n",
       "      <td>0.022222</td>\n",
       "      <td>0.022222</td>\n",
       "      <td>0.044444</td>\n",
       "      <td>0.111111</td>\n",
       "    </tr>\n",
       "    <tr>\n",
       "      <th>상품ID 도시별 평균 판매량</th>\n",
       "      <td>1.000000</td>\n",
       "      <td>0.000000</td>\n",
       "      <td>0.000000</td>\n",
       "      <td>0.000000</td>\n",
       "      <td>0.000000</td>\n",
       "    </tr>\n",
       "    <tr>\n",
       "      <th>상점ID 상품분류ID별 평균 판매량</th>\n",
       "      <td>0.088496</td>\n",
       "      <td>0.000000</td>\n",
       "      <td>0.000000</td>\n",
       "      <td>0.008333</td>\n",
       "      <td>0.011976</td>\n",
       "    </tr>\n",
       "    <tr>\n",
       "      <th>월간 판매량_시차1</th>\n",
       "      <td>0.000000</td>\n",
       "      <td>0.000000</td>\n",
       "      <td>0.000000</td>\n",
       "      <td>0.000000</td>\n",
       "      <td>0.000000</td>\n",
       "    </tr>\n",
       "    <tr>\n",
       "      <th>월간 판매량_시차2</th>\n",
       "      <td>0.000000</td>\n",
       "      <td>0.000000</td>\n",
       "      <td>0.000000</td>\n",
       "      <td>0.000000</td>\n",
       "      <td>0.000000</td>\n",
       "    </tr>\n",
       "    <tr>\n",
       "      <th>월간 판매량_시차3</th>\n",
       "      <td>0.000000</td>\n",
       "      <td>0.000000</td>\n",
       "      <td>0.000000</td>\n",
       "      <td>0.000000</td>\n",
       "      <td>0.000000</td>\n",
       "    </tr>\n",
       "  </tbody>\n",
       "</table>\n",
       "</div>"
      ],
      "text/plain": [
       "                                0            1            2            3  \\\n",
       "월ID                      0.000000     0.000000     0.000000     0.000000   \n",
       "상점ID                    59.000000    59.000000    59.000000    59.000000   \n",
       "상품ID                 22154.000000  2552.000000  2554.000000  2555.000000   \n",
       "월간 판매량                   1.000000     0.000000     0.000000     0.000000   \n",
       "평균 판매가                 999.000000     0.000000     0.000000     0.000000   \n",
       "판매건수                     1.000000     0.000000     0.000000     0.000000   \n",
       "도시                      30.000000    30.000000    30.000000    30.000000   \n",
       "상품분류ID                  37.000000    58.000000    58.000000    56.000000   \n",
       "첫 판매월                    0.000000     0.000000     0.000000     0.000000   \n",
       "대분류                      5.000000     7.000000     7.000000     7.000000   \n",
       "상품ID별 평균 판매량             0.400000     0.022222     0.022222     0.044444   \n",
       "상품ID 도시별 평균 판매량          1.000000     0.000000     0.000000     0.000000   \n",
       "상점ID 상품분류ID별 평균 판매량      0.088496     0.000000     0.000000     0.008333   \n",
       "월간 판매량_시차1               0.000000     0.000000     0.000000     0.000000   \n",
       "월간 판매량_시차2               0.000000     0.000000     0.000000     0.000000   \n",
       "월간 판매량_시차3               0.000000     0.000000     0.000000     0.000000   \n",
       "\n",
       "                               4  \n",
       "월ID                     0.000000  \n",
       "상점ID                   59.000000  \n",
       "상품ID                 2564.000000  \n",
       "월간 판매량                  0.000000  \n",
       "평균 판매가                  0.000000  \n",
       "판매건수                    0.000000  \n",
       "도시                     30.000000  \n",
       "상품분류ID                 59.000000  \n",
       "첫 판매월                   0.000000  \n",
       "대분류                     7.000000  \n",
       "상품ID별 평균 판매량            0.111111  \n",
       "상품ID 도시별 평균 판매량         0.000000  \n",
       "상점ID 상품분류ID별 평균 판매량     0.011976  \n",
       "월간 판매량_시차1              0.000000  \n",
       "월간 판매량_시차2              0.000000  \n",
       "월간 판매량_시차3              0.000000  "
      ]
     },
     "execution_count": 63,
     "metadata": {},
     "output_type": "execute_result"
    }
   ],
   "source": [
    "all_data.head().T"
   ]
  },
  {
   "cell_type": "code",
   "execution_count": 64,
   "id": "4044af90",
   "metadata": {},
   "outputs": [
    {
     "data": {
      "text/plain": [
       "['월간 판매량_시차1', '월간 판매량_시차2', '월간 판매량_시차3']"
      ]
     },
     "execution_count": 64,
     "metadata": {},
     "output_type": "execute_result"
    }
   ],
   "source": [
    "lag_features_to_clip"
   ]
  },
  {
   "cell_type": "markdown",
   "id": "95975305",
   "metadata": {},
   "source": [
    "### 시차 피처 생성 II : 판매건수, 평균 판매가"
   ]
  },
  {
   "cell_type": "code",
   "execution_count": 65,
   "id": "504e94ab",
   "metadata": {},
   "outputs": [],
   "source": [
    "# idx_features를 기준으로 판매건수 피처의 세 달치 시차 피처 생성\n",
    "all_data, lag_features_to_clip = add_lag_features(df=all_data, \n",
    "                                                  lag_features_to_clip=lag_features_to_clip,\n",
    "                                                  idx_features=idx_features,\n",
    "                                                  lag_feature='판매건수', \n",
    "                                                  nlags=3)\n",
    "\n",
    "# idx_features를 기준으로 평균 판매가 피처의 세 달치 시차 피처 생성\n",
    "all_data, lag_features_to_clip = add_lag_features(df=all_data, \n",
    "                                                  lag_features_to_clip=lag_features_to_clip,\n",
    "                                                  idx_features=idx_features,\n",
    "                                                  lag_feature='평균 판매가', \n",
    "                                                  nlags=3)"
   ]
  },
  {
   "cell_type": "markdown",
   "id": "47262c79",
   "metadata": {},
   "source": [
    "### 시차 피처 생성 III : 평균 판매량"
   ]
  },
  {
   "cell_type": "code",
   "execution_count": 66,
   "id": "282c0868",
   "metadata": {},
   "outputs": [],
   "source": [
    "# idx_features를 기준으로 item_mean_features 요소별 시차 피처 생성\n",
    "for item_mean_feature in item_mean_features:\n",
    "    all_data, lag_features_to_clip = add_lag_features(df=all_data, \n",
    "                                                      lag_features_to_clip=lag_features_to_clip, \n",
    "                                                      idx_features=idx_features, \n",
    "                                                      lag_feature=item_mean_feature, \n",
    "                                                      nlags=3,\n",
    "                                                      clip=True)\n",
    "# item_mean_features 피처 제거\n",
    "all_data = all_data.drop(item_mean_features, axis=1)"
   ]
  },
  {
   "cell_type": "code",
   "execution_count": 67,
   "id": "89116ce6",
   "metadata": {},
   "outputs": [
    {
     "data": {
      "text/plain": [
       "['월간 판매량_시차1',\n",
       " '월간 판매량_시차2',\n",
       " '월간 판매량_시차3',\n",
       " '상품ID별 평균 판매량_시차1',\n",
       " '상품ID별 평균 판매량_시차2',\n",
       " '상품ID별 평균 판매량_시차3',\n",
       " '상품ID 도시별 평균 판매량_시차1',\n",
       " '상품ID 도시별 평균 판매량_시차2',\n",
       " '상품ID 도시별 평균 판매량_시차3']"
      ]
     },
     "execution_count": 67,
     "metadata": {},
     "output_type": "execute_result"
    }
   ],
   "source": [
    "lag_features_to_clip"
   ]
  },
  {
   "cell_type": "code",
   "execution_count": 68,
   "id": "de22e4e1",
   "metadata": {},
   "outputs": [],
   "source": [
    "# ['월ID', '상점ID', '상품분류ID']를 기준으로 shop_mean_features 요소별 시차 피처 생성\n",
    "for shop_mean_feature in shop_mean_features:\n",
    "    all_data, lag_features_to_clip = add_lag_features(df=all_data,\n",
    "                                                      lag_features_to_clip=lag_features_to_clip,\n",
    "                                                      idx_features=['월ID', '상점ID', '상품분류ID'],\n",
    "                                                      lag_feature=shop_mean_feature,\n",
    "                                                      nlags=3,\n",
    "                                                      clip=True)\n",
    "# shop_mean_features 피처 제거\n",
    "all_data = all_data.drop(shop_mean_features, axis=1)"
   ]
  },
  {
   "cell_type": "markdown",
   "id": "edd53800",
   "metadata": {},
   "source": [
    "## 7.2 시차 피처 생성 마무리 : 결측값 처리"
   ]
  },
  {
   "cell_type": "code",
   "execution_count": 69,
   "id": "5c3652ec",
   "metadata": {},
   "outputs": [],
   "source": [
    "# 월ID 3미만인 데이터 제거\n",
    "all_data = all_data.drop(all_data[all_data['월ID'] < 3].index)"
   ]
  },
  {
   "cell_type": "markdown",
   "id": "50009cac",
   "metadata": {},
   "source": [
    "# 08. 피처 엔지니어링 VI : 기타 피처 엔지니어링"
   ]
  },
  {
   "cell_type": "markdown",
   "id": "c34cb36c",
   "metadata": {},
   "source": [
    "## 8.1 월간 판매량 시차 피처들의 평균"
   ]
  },
  {
   "cell_type": "code",
   "execution_count": 70,
   "id": "66964c87",
   "metadata": {},
   "outputs": [],
   "source": [
    "all_data['월간 판매량 시차평균'] = all_data[['월간 판매량_시차1',\n",
    "                                          '월간 판매량_시차2', \n",
    "                                          '월간 판매량_시차3']].mean(axis=1)"
   ]
  },
  {
   "cell_type": "code",
   "execution_count": 71,
   "id": "66ccdc93",
   "metadata": {},
   "outputs": [],
   "source": [
    "# 0 ~ 20 사이로 값 제한\n",
    "all_data[lag_features_to_clip + ['월간 판매량', '월간 판매량 시차평균']] = all_data[lag_features_to_clip + ['월간 판매량', '월간 판매량 시차평균']].clip(0, 20)"
   ]
  },
  {
   "cell_type": "markdown",
   "id": "f1869bb6",
   "metadata": {},
   "source": [
    "## 8.2 시차 변화량"
   ]
  },
  {
   "cell_type": "code",
   "execution_count": 72,
   "id": "ff7d25be",
   "metadata": {},
   "outputs": [],
   "source": [
    "all_data['시차변화량1'] = all_data['월간 판매량_시차1']/all_data['월간 판매량_시차2']\n",
    "all_data['시차변화량1'] = all_data['시차변화량1'].replace([np.inf, -np.inf], \n",
    "                                                        np.nan).fillna(0)\n",
    "\n",
    "all_data['시차변화량2'] = all_data['월간 판매량_시차2']/all_data['월간 판매량_시차3']\n",
    "all_data['시차변화량2'] = all_data['시차변화량2'].replace([np.inf, -np.inf], \n",
    "                                                        np.nan).fillna(0)"
   ]
  },
  {
   "cell_type": "markdown",
   "id": "bc424024",
   "metadata": {},
   "source": [
    "## 8.3 신상 여부"
   ]
  },
  {
   "cell_type": "code",
   "execution_count": 73,
   "id": "f86dc7a1",
   "metadata": {},
   "outputs": [],
   "source": [
    "all_data['신상여부'] = all_data['첫 판매월'] == all_data['월ID']"
   ]
  },
  {
   "cell_type": "markdown",
   "id": "bb27c4bc",
   "metadata": {},
   "source": [
    "## 8.4 첫 판매 후 경과 기간"
   ]
  },
  {
   "cell_type": "code",
   "execution_count": 74,
   "id": "1b55b5aa",
   "metadata": {},
   "outputs": [],
   "source": [
    "all_data['첫 판매 후 기간'] = all_data['월ID'] - all_data['첫 판매월']"
   ]
  },
  {
   "cell_type": "markdown",
   "id": "668bcbaf",
   "metadata": {},
   "source": [
    "## 8.5 월(month)"
   ]
  },
  {
   "cell_type": "code",
   "execution_count": 75,
   "id": "02766bb1",
   "metadata": {},
   "outputs": [],
   "source": [
    "all_data['월'] = all_data['월ID'] % 12"
   ]
  },
  {
   "cell_type": "markdown",
   "id": "13164fee",
   "metadata": {},
   "source": [
    "## 8.6 필요 없는 피처 제거"
   ]
  },
  {
   "cell_type": "code",
   "execution_count": 76,
   "id": "49c9d038",
   "metadata": {},
   "outputs": [],
   "source": [
    "# 첫 판매월, 평균 판매가, 판매건수 피처 제거\n",
    "all_data = all_data.drop(['첫 판매월', '평균 판매가', '판매건수'], axis=1)"
   ]
  },
  {
   "cell_type": "code",
   "execution_count": 77,
   "id": "adff283f",
   "metadata": {},
   "outputs": [],
   "source": [
    "all_data = downcast(all_data, False) # 데이터 다운캐스팅"
   ]
  },
  {
   "cell_type": "markdown",
   "id": "f60e7e79",
   "metadata": {},
   "source": [
    "# 09. 피처 엔지니어링 VII : 마무리"
   ]
  },
  {
   "cell_type": "code",
   "execution_count": 78,
   "id": "c02fa58e",
   "metadata": {},
   "outputs": [
    {
     "name": "stdout",
     "output_type": "stream",
     "text": [
      "<class 'pandas.core.frame.DataFrame'>\n",
      "Int64Index: 9904582 entries, 1122386 to 11026967\n",
      "Data columns (total 31 columns):\n",
      " #   Column                   Dtype  \n",
      "---  ------                   -----  \n",
      " 0   월ID                      int8   \n",
      " 1   상점ID                     int8   \n",
      " 2   상품ID                     int16  \n",
      " 3   월간 판매량                   int8   \n",
      " 4   도시                       int8   \n",
      " 5   상품분류ID                   int8   \n",
      " 6   대분류                      int8   \n",
      " 7   월간 판매량_시차1               int8   \n",
      " 8   월간 판매량_시차2               int8   \n",
      " 9   월간 판매량_시차3               int8   \n",
      " 10  판매건수_시차1                 int8   \n",
      " 11  판매건수_시차2                 int8   \n",
      " 12  판매건수_시차3                 int8   \n",
      " 13  평균 판매가_시차1               float32\n",
      " 14  평균 판매가_시차2               float32\n",
      " 15  평균 판매가_시차3               float32\n",
      " 16  상품ID별 평균 판매량_시차1         float32\n",
      " 17  상품ID별 평균 판매량_시차2         float32\n",
      " 18  상품ID별 평균 판매량_시차3         float32\n",
      " 19  상품ID 도시별 평균 판매량_시차1      float32\n",
      " 20  상품ID 도시별 평균 판매량_시차2      float32\n",
      " 21  상품ID 도시별 평균 판매량_시차3      float32\n",
      " 22  상점ID 상품분류ID별 평균 판매량_시차1  float32\n",
      " 23  상점ID 상품분류ID별 평균 판매량_시차2  float32\n",
      " 24  상점ID 상품분류ID별 평균 판매량_시차3  float32\n",
      " 25  월간 판매량 시차평균              float32\n",
      " 26  시차변화량1                   float32\n",
      " 27  시차변화량2                   float32\n",
      " 28  신상여부                     int8   \n",
      " 29  첫 판매 후 기간                int8   \n",
      " 30  월                        int8   \n",
      "dtypes: float32(15), int16(1), int8(15)\n",
      "memory usage: 802.9 MB\n"
     ]
    }
   ],
   "source": [
    "all_data.info()"
   ]
  },
  {
   "cell_type": "code",
   "execution_count": 79,
   "id": "9d52c432",
   "metadata": {},
   "outputs": [],
   "source": [
    "# 훈련 데이터 (피처)\n",
    "X_train = all_data[all_data['월ID'] < 33]\n",
    "X_train = X_train.drop(['월간 판매량'], axis=1)\n",
    "\n",
    "# 검증 데이터 (피처)\n",
    "X_valid = all_data[all_data['월ID'] == 33]\n",
    "X_valid = X_valid.drop(['월간 판매량'], axis=1)\n",
    "\n",
    "# 테스트 데이터 (피처)\n",
    "X_test = all_data[all_data['월ID'] == 34]\n",
    "X_test = X_test.drop(['월간 판매량'], axis=1)\n",
    "\n",
    "# 훈련 데이터 (타깃값)\n",
    "y_train = all_data[all_data['월ID'] < 33]['월간 판매량']\n",
    "\n",
    "# 검증 데이터 (타깃값)\n",
    "y_valid = all_data[all_data['월ID'] == 33]['월간 판매량']\n",
    "\n",
    "# 가비지 컬렉션\n",
    "del all_data\n",
    "gc.collect();"
   ]
  },
  {
   "cell_type": "markdown",
   "id": "353a62db",
   "metadata": {},
   "source": [
    "# 10. 모델 훈련 및 성능 검증"
   ]
  },
  {
   "cell_type": "code",
   "execution_count": 80,
   "id": "5e894105",
   "metadata": {
    "scrolled": false
   },
   "outputs": [
    {
     "name": "stderr",
     "output_type": "stream",
     "text": [
      "C:\\Users\\KOREAIT\\.conda\\envs\\py39tf2\\lib\\site-packages\\lightgbm\\engine.py:181: UserWarning: 'early_stopping_rounds' argument is deprecated and will be removed in a future release of LightGBM. Pass 'early_stopping()' callback via 'callbacks' argument instead.\n",
      "  _log_warning(\"'early_stopping_rounds' argument is deprecated and will be removed in a future release of LightGBM. \"\n",
      "C:\\Users\\KOREAIT\\.conda\\envs\\py39tf2\\lib\\site-packages\\lightgbm\\basic.py:2068: UserWarning: categorical_feature in Dataset is overridden.\n",
      "New categorical_feature is ['대분류', '도시', '상점ID', '상품분류ID', '월']\n",
      "  _log_warning('categorical_feature in Dataset is overridden.\\n'\n",
      "C:\\Users\\KOREAIT\\.conda\\envs\\py39tf2\\lib\\site-packages\\lightgbm\\engine.py:239: UserWarning: 'verbose_eval' argument is deprecated and will be removed in a future release of LightGBM. Pass 'log_evaluation()' callback via 'callbacks' argument instead.\n",
      "  _log_warning(\"'verbose_eval' argument is deprecated and will be removed in a future release of LightGBM. \"\n"
     ]
    },
    {
     "name": "stdout",
     "output_type": "stream",
     "text": [
      "[LightGBM] [Warning] Found whitespace in feature_names, replace with underlines\n",
      "[LightGBM] [Info] Total Bins 3902\n",
      "[LightGBM] [Info] Number of data points in the train set: 9452298, number of used features: 30\n"
     ]
    },
    {
     "name": "stderr",
     "output_type": "stream",
     "text": [
      "C:\\Users\\KOREAIT\\.conda\\envs\\py39tf2\\lib\\site-packages\\lightgbm\\basic.py:1780: UserWarning: Overriding the parameters from Reference Dataset.\n",
      "  _log_warning('Overriding the parameters from Reference Dataset.')\n",
      "C:\\Users\\KOREAIT\\.conda\\envs\\py39tf2\\lib\\site-packages\\lightgbm\\basic.py:1513: UserWarning: categorical_column in param dict is overridden.\n",
      "  _log_warning(f'{cat_alias} in param dict is overridden.')\n"
     ]
    },
    {
     "name": "stdout",
     "output_type": "stream",
     "text": [
      "[LightGBM] [Warning] Found whitespace in feature_names, replace with underlines\n",
      "[LightGBM] [Info] Start training from score 0.297707\n",
      "Training until validation scores don't improve for 150 rounds\n",
      "[100]\ttraining's rmse: 1.01073\tvalid_1's rmse: 0.986993\n",
      "[200]\ttraining's rmse: 0.909083\tvalid_1's rmse: 0.922887\n",
      "[300]\ttraining's rmse: 0.857505\tvalid_1's rmse: 0.898233\n",
      "[400]\ttraining's rmse: 0.829175\tvalid_1's rmse: 0.888136\n",
      "[500]\ttraining's rmse: 0.810627\tvalid_1's rmse: 0.884038\n",
      "[600]\ttraining's rmse: 0.796874\tvalid_1's rmse: 0.882521\n",
      "[700]\ttraining's rmse: 0.786815\tvalid_1's rmse: 0.882318\n",
      "[800]\ttraining's rmse: 0.778893\tvalid_1's rmse: 0.882091\n",
      "[900]\ttraining's rmse: 0.772392\tvalid_1's rmse: 0.881891\n",
      "[1000]\ttraining's rmse: 0.76691\tvalid_1's rmse: 0.881599\n",
      "[1100]\ttraining's rmse: 0.76187\tvalid_1's rmse: 0.881711\n",
      "Early stopping, best iteration is:\n",
      "[999]\ttraining's rmse: 0.766974\tvalid_1's rmse: 0.881574\n"
     ]
    }
   ],
   "source": [
    "import lightgbm as lgb\n",
    "\n",
    "# LightGBM 하이퍼파라미터\n",
    "params = {'metric': 'rmse',\n",
    "          'num_leaves': 255,\n",
    "          'learning_rate': 0.005,\n",
    "          'feature_fraction': 0.75,\n",
    "          'bagging_fraction': 0.75,\n",
    "          'bagging_freq': 5,\n",
    "          'force_col_wise': True,\n",
    "          'random_state': 10}\n",
    "cat_features = ['상점ID', '도시', '상품분류ID', '대분류', '월']\n",
    "\n",
    "# LightGBM 훈련 및 검증 데이터셋\n",
    "dtrain = lgb.Dataset(X_train, y_train)\n",
    "dvalid = lgb.Dataset(X_valid, y_valid)\n",
    "\n",
    "# LightGBM 모델 훈련\n",
    "lgb_model = lgb.train(params=params,\n",
    "                      train_set=dtrain,\n",
    "                      num_boost_round=1500,\n",
    "                      valid_sets=(dtrain, dvalid),\n",
    "                      early_stopping_rounds=150,\n",
    "                      categorical_feature=cat_features,\n",
    "                      verbose_eval=100)"
   ]
  },
  {
   "cell_type": "markdown",
   "id": "0e88da92",
   "metadata": {},
   "source": [
    "# 예측 및 결과 제출"
   ]
  },
  {
   "cell_type": "code",
   "execution_count": 81,
   "id": "5a087b0a",
   "metadata": {},
   "outputs": [
    {
     "data": {
      "text/plain": [
       "array([0.41387411, 0.49971929, 0.80369473, ..., 0.0458018 , 0.01741607,\n",
       "       0.04287869])"
      ]
     },
     "execution_count": 81,
     "metadata": {},
     "output_type": "execute_result"
    }
   ],
   "source": [
    "# 예측\n",
    "preds = lgb_model.predict(X_test).clip(0, 20)\n",
    "preds\n",
    "\n",
    "# 제출 파일 생성\n",
    "# submission['item_cnt_month'] = preds\n",
    "# submission.to_csv('submission.csv', index=False)"
   ]
  },
  {
   "cell_type": "code",
   "execution_count": 82,
   "id": "29a1ccf7",
   "metadata": {},
   "outputs": [],
   "source": [
    "del X_train, y_train, X_valid, y_valid, X_test, lgb_model, dtrain, dvalid\n",
    "gc.collect();"
   ]
  }
 ],
 "metadata": {
  "kernelspec": {
   "display_name": "Python 3 (ipykernel)",
   "language": "python",
   "name": "python3"
  },
  "language_info": {
   "codemirror_mode": {
    "name": "ipython",
    "version": 3
   },
   "file_extension": ".py",
   "mimetype": "text/x-python",
   "name": "python",
   "nbconvert_exporter": "python",
   "pygments_lexer": "ipython3",
   "version": "3.9.13"
  },
  "toc": {
   "base_numbering": 1,
   "nav_menu": {},
   "number_sections": false,
   "sideBar": true,
   "skip_h1_title": false,
   "title_cell": "Table of Contents",
   "title_sidebar": "Contents",
   "toc_cell": false,
   "toc_position": {},
   "toc_section_display": true,
   "toc_window_display": false
  },
  "varInspector": {
   "cols": {
    "lenName": 16,
    "lenType": 16,
    "lenVar": 40
   },
   "kernels_config": {
    "python": {
     "delete_cmd_postfix": "",
     "delete_cmd_prefix": "del ",
     "library": "var_list.py",
     "varRefreshCmd": "print(var_dic_list())"
    },
    "r": {
     "delete_cmd_postfix": ") ",
     "delete_cmd_prefix": "rm(",
     "library": "var_list.r",
     "varRefreshCmd": "cat(var_dic_list()) "
    }
   },
   "types_to_exclude": [
    "module",
    "function",
    "builtin_function_or_method",
    "instance",
    "_Feature"
   ],
   "window_display": false
  }
 },
 "nbformat": 4,
 "nbformat_minor": 5
}
