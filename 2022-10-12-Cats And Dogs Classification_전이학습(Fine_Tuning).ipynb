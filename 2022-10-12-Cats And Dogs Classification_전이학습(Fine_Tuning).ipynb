{
 "cells": [
  {
   "cell_type": "markdown",
   "id": "b812f30a",
   "metadata": {},
   "source": [
    "- 모델을 더 정규화하게 만들기 위해서는 많은 Gpu와 Data가 필요하다.\n",
    "\n",
    "- 오늘은 모델을 미리 학습해 놓은 VGG.16 모델을 사용할 것이다.\n",
    "\n",
    "- 위와 같이 미리 학습된 모델을 가져다 쓰는 것을 '전이 학습'이라고 한다!\n",
    "\n",
    "- 따라서 전이학습이란, (많은 자원) 빅데이터와 GPU를 가진 글로벌 업체가 미리 만들어 놓은 CNN 모델을 가져다가 나에 맞게 쓰는 것을 의미한다."
   ]
  },
  {
   "cell_type": "markdown",
   "id": "11d7d8d2",
   "metadata": {},
   "source": [
    "# CNN에서 필요한 라이브러리 IMPORT"
   ]
  },
  {
   "cell_type": "code",
   "execution_count": 15,
   "id": "d5a0bb5a",
   "metadata": {},
   "outputs": [],
   "source": [
    "import numpy as np\n",
    "from tensorflow.keras.models import Sequential     \n",
    "from tensorflow.keras.layers import Conv2D, MaxPooling2D         \n",
    "from tensorflow.keras.layers import Flatten, Dense           \n",
    "                                                                 \n",
    "from tensorflow.keras.optimizers import Adam\n",
    "from tensorflow.keras.preprocessing.image import ImageDataGenerator             "
   ]
  },
  {
   "cell_type": "markdown",
   "id": "cae1c57f",
   "metadata": {},
   "source": [
    "# Dataset 디렉터리 정의"
   ]
  },
  {
   "cell_type": "code",
   "execution_count": 16,
   "id": "d839cb7a",
   "metadata": {},
   "outputs": [],
   "source": [
    "train_dir = \"./MINST/cats_and_dogs/train\"\n",
    "test_dir = \"./MINST/cats_and_dogs/test\""
   ]
  },
  {
   "cell_type": "markdown",
   "id": "5c1508ed",
   "metadata": {},
   "source": [
    "# ImageDataGenerator 생성"
   ]
  },
  {
   "cell_type": "code",
   "execution_count": 17,
   "id": "78531674",
   "metadata": {},
   "outputs": [],
   "source": [
    "train_datagen = ImageDataGenerator(rescale=1/255)   # 0과 1 사이의 값으로 정규화\n",
    "test_datagen = ImageDataGenerator(rescale=1/255)"
   ]
  },
  {
   "cell_type": "markdown",
   "id": "e4f353b9",
   "metadata": {},
   "source": [
    "# 학습용 Data와 평가용 Data 설정"
   ]
  },
  {
   "cell_type": "code",
   "execution_count": 18,
   "id": "8d2fb248",
   "metadata": {},
   "outputs": [
    {
     "name": "stdout",
     "output_type": "stream",
     "text": [
      "Found 2000 images belonging to 2 classes.\n",
      "Found 1000 images belonging to 2 classes.\n"
     ]
    }
   ],
   "source": [
    "train_generator = train_datagen.flow_from_directory(\n",
    "    train_dir,                   # 학습용 이미지를 가져올 폴더명\n",
    "    classes=[\"cats\", \"dogs\"],    # cats 폴더의 image는 label을 0으로\n",
    "                                 # dogs 폴더의 image는 label을 1로 설정\n",
    "    target_size=(150, 150),      # 이미지를 (150, 150)로 resize\n",
    "    batch_size=20,               # 한 번에 20개의 이미지만 가져옴\n",
    "    class_mode=\"binary\"          # 이진 분류\n",
    ")\n",
    "\n",
    "\n",
    "# ImageDataGenerator 설정\n",
    "test_generator = train_datagen.flow_from_directory(\n",
    "    test_dir,                     # 평가용 이미지를 가져올 폴더명\n",
    "    classes=[\"cats\", \"dogs\"],     # cats 폴더의 image는 label을 0으로\n",
    "                                  # dogs 폴더의 image는 label을 1로 설정\n",
    "    target_size=(150, 150),      # 이미지를 (150, 150)로 resize\n",
    "    batch_size=20,               # 한 번에 20개의 이미지만 가져옴\n",
    "    class_mode=\"binary\"          # 이진 분류\n",
    ")"
   ]
  },
  {
   "cell_type": "markdown",
   "id": "0eb99ecb",
   "metadata": {},
   "source": [
    "# ★★★★★★★★ [실행 금지] 전이 학습할 모델 가져오기 ★★★★★★★★"
   ]
  },
  {
   "cell_type": "markdown",
   "id": "46adc724",
   "metadata": {},
   "source": [
    "## model_base.trainable = True "
   ]
  },
  {
   "cell_type": "code",
   "execution_count": 5,
   "id": "ceab7d2f",
   "metadata": {},
   "outputs": [],
   "source": [
    "from tensorflow.keras.applications import VGG16\n",
    "\n",
    "model_base = VGG16(weights='imagenet',          # VGG16은 이미지 처리하는 것으로 설정\n",
    "                   include_top=False,          # 분류 모델인 classification 제외 (가져오지 않음)\n",
    "                                                # Feature Extraction은 VGG에서 학습한 것을 가져와 사용\n",
    "                   input_shape=(150, 150, 3))   # 150*150 size에 Color\n",
    "\n",
    "model_base.trainable = True                     # CNN 전체를 사용하겠다는 뜻"
   ]
  },
  {
   "cell_type": "code",
   "execution_count": 6,
   "id": "65638ce1",
   "metadata": {
    "scrolled": false
   },
   "outputs": [
    {
     "name": "stdout",
     "output_type": "stream",
     "text": [
      "Model: \"vgg16\"\n",
      "_________________________________________________________________\n",
      "Layer (type)                 Output Shape              Param #   \n",
      "=================================================================\n",
      "input_1 (InputLayer)         [(None, 150, 150, 3)]     0         \n",
      "_________________________________________________________________\n",
      "block1_conv1 (Conv2D)        (None, 150, 150, 64)      1792      \n",
      "_________________________________________________________________\n",
      "block1_conv2 (Conv2D)        (None, 150, 150, 64)      36928     \n",
      "_________________________________________________________________\n",
      "block1_pool (MaxPooling2D)   (None, 75, 75, 64)        0         \n",
      "_________________________________________________________________\n",
      "block2_conv1 (Conv2D)        (None, 75, 75, 128)       73856     \n",
      "_________________________________________________________________\n",
      "block2_conv2 (Conv2D)        (None, 75, 75, 128)       147584    \n",
      "_________________________________________________________________\n",
      "block2_pool (MaxPooling2D)   (None, 37, 37, 128)       0         \n",
      "_________________________________________________________________\n",
      "block3_conv1 (Conv2D)        (None, 37, 37, 256)       295168    \n",
      "_________________________________________________________________\n",
      "block3_conv2 (Conv2D)        (None, 37, 37, 256)       590080    \n",
      "_________________________________________________________________\n",
      "block3_conv3 (Conv2D)        (None, 37, 37, 256)       590080    \n",
      "_________________________________________________________________\n",
      "block3_pool (MaxPooling2D)   (None, 18, 18, 256)       0         \n",
      "_________________________________________________________________\n",
      "block4_conv1 (Conv2D)        (None, 18, 18, 512)       1180160   \n",
      "_________________________________________________________________\n",
      "block4_conv2 (Conv2D)        (None, 18, 18, 512)       2359808   \n",
      "_________________________________________________________________\n",
      "block4_conv3 (Conv2D)        (None, 18, 18, 512)       2359808   \n",
      "_________________________________________________________________\n",
      "block4_pool (MaxPooling2D)   (None, 9, 9, 512)         0         \n",
      "_________________________________________________________________\n",
      "block5_conv1 (Conv2D)        (None, 9, 9, 512)         2359808   \n",
      "_________________________________________________________________\n",
      "block5_conv2 (Conv2D)        (None, 9, 9, 512)         2359808   \n",
      "_________________________________________________________________\n",
      "block5_conv3 (Conv2D)        (None, 9, 9, 512)         2359808   \n",
      "_________________________________________________________________\n",
      "block5_pool (MaxPooling2D)   (None, 4, 4, 512)         0         \n",
      "=================================================================\n",
      "Total params: 14,714,688\n",
      "Trainable params: 14,714,688\n",
      "Non-trainable params: 0\n",
      "_________________________________________________________________\n"
     ]
    }
   ],
   "source": [
    "model_base.summary()"
   ]
  },
  {
   "cell_type": "markdown",
   "id": "4abfd4a3",
   "metadata": {},
   "source": [
    "# ★★★★★★★★ [ 여기까지 실행 금지 ] ★★★★★★★★"
   ]
  },
  {
   "cell_type": "markdown",
   "id": "09d4909c",
   "metadata": {},
   "source": [
    "## model_base.trainable = False  "
   ]
  },
  {
   "cell_type": "code",
   "execution_count": 19,
   "id": "ad2ffb7b",
   "metadata": {},
   "outputs": [],
   "source": [
    "from tensorflow.keras.applications import VGG16\n",
    "\n",
    "model_base = VGG16(weights='imagenet',         # VGG16은 이미지 처리하는 것으로 설정\n",
    "                   include_top=False,         # classification 제외\n",
    "                                               # Feature Extraction은 VGG에서 학습한 것을 가져와 사용\n",
    "                   input_shape=(150, 150, 3))  # 150*150 size에 Color\n",
    "\n",
    "model_base.trainable = False   # 기본 모델의 모든 레이어를 동결"
   ]
  },
  {
   "cell_type": "code",
   "execution_count": 20,
   "id": "6f223099",
   "metadata": {
    "scrolled": false
   },
   "outputs": [
    {
     "name": "stdout",
     "output_type": "stream",
     "text": [
      "Model: \"vgg16\"\n",
      "_________________________________________________________________\n",
      "Layer (type)                 Output Shape              Param #   \n",
      "=================================================================\n",
      "input_3 (InputLayer)         [(None, 150, 150, 3)]     0         \n",
      "_________________________________________________________________\n",
      "block1_conv1 (Conv2D)        (None, 150, 150, 64)      1792      \n",
      "_________________________________________________________________\n",
      "block1_conv2 (Conv2D)        (None, 150, 150, 64)      36928     \n",
      "_________________________________________________________________\n",
      "block1_pool (MaxPooling2D)   (None, 75, 75, 64)        0         \n",
      "_________________________________________________________________\n",
      "block2_conv1 (Conv2D)        (None, 75, 75, 128)       73856     \n",
      "_________________________________________________________________\n",
      "block2_conv2 (Conv2D)        (None, 75, 75, 128)       147584    \n",
      "_________________________________________________________________\n",
      "block2_pool (MaxPooling2D)   (None, 37, 37, 128)       0         \n",
      "_________________________________________________________________\n",
      "block3_conv1 (Conv2D)        (None, 37, 37, 256)       295168    \n",
      "_________________________________________________________________\n",
      "block3_conv2 (Conv2D)        (None, 37, 37, 256)       590080    \n",
      "_________________________________________________________________\n",
      "block3_conv3 (Conv2D)        (None, 37, 37, 256)       590080    \n",
      "_________________________________________________________________\n",
      "block3_pool (MaxPooling2D)   (None, 18, 18, 256)       0         \n",
      "_________________________________________________________________\n",
      "block4_conv1 (Conv2D)        (None, 18, 18, 512)       1180160   \n",
      "_________________________________________________________________\n",
      "block4_conv2 (Conv2D)        (None, 18, 18, 512)       2359808   \n",
      "_________________________________________________________________\n",
      "block4_conv3 (Conv2D)        (None, 18, 18, 512)       2359808   \n",
      "_________________________________________________________________\n",
      "block4_pool (MaxPooling2D)   (None, 9, 9, 512)         0         \n",
      "_________________________________________________________________\n",
      "block5_conv1 (Conv2D)        (None, 9, 9, 512)         2359808   \n",
      "_________________________________________________________________\n",
      "block5_conv2 (Conv2D)        (None, 9, 9, 512)         2359808   \n",
      "_________________________________________________________________\n",
      "block5_conv3 (Conv2D)        (None, 9, 9, 512)         2359808   \n",
      "_________________________________________________________________\n",
      "block5_pool (MaxPooling2D)   (None, 4, 4, 512)         0         \n",
      "=================================================================\n",
      "Total params: 14,714,688\n",
      "Trainable params: 0\n",
      "Non-trainable params: 14,714,688\n",
      "_________________________________________________________________\n"
     ]
    }
   ],
   "source": [
    "model_base.summary()"
   ]
  },
  {
   "cell_type": "markdown",
   "id": "4841d145",
   "metadata": {},
   "source": [
    "# Fine_Tuning"
   ]
  },
  {
   "cell_type": "code",
   "execution_count": 21,
   "id": "e8725565",
   "metadata": {
    "scrolled": false
   },
   "outputs": [
    {
     "name": "stdout",
     "output_type": "stream",
     "text": [
      "<keras.engine.input_layer.InputLayer object at 0x000001C61E7CFA30> False\n",
      "<keras.layers.convolutional.Conv2D object at 0x000001C61E7EA100> False\n",
      "<keras.layers.convolutional.Conv2D object at 0x000001C61CCBECD0> False\n",
      "<keras.layers.pooling.MaxPooling2D object at 0x000001C61E7EBA30> False\n",
      "<keras.layers.convolutional.Conv2D object at 0x000001C61CC94100> False\n",
      "<keras.layers.convolutional.Conv2D object at 0x000001C61F0140D0> False\n",
      "<keras.layers.pooling.MaxPooling2D object at 0x000001C61F00B100> False\n",
      "<keras.layers.convolutional.Conv2D object at 0x000001C61E7B7FD0> False\n",
      "<keras.layers.convolutional.Conv2D object at 0x000001C61E7B7E20> False\n",
      "<keras.layers.convolutional.Conv2D object at 0x000001C61F007760> False\n",
      "<keras.layers.pooling.MaxPooling2D object at 0x000001C61E7AE7C0> False\n",
      "<keras.layers.convolutional.Conv2D object at 0x000001C61E79D6A0> True\n",
      "<keras.layers.convolutional.Conv2D object at 0x000001C61CCCEC40> True\n",
      "<keras.layers.convolutional.Conv2D object at 0x000001C61CCD4D00> True\n",
      "<keras.layers.pooling.MaxPooling2D object at 0x000001C61CCC56A0> True\n",
      "<keras.layers.convolutional.Conv2D object at 0x000001C61F01C370> True\n",
      "<keras.layers.convolutional.Conv2D object at 0x000001C61E7B4CA0> True\n",
      "<keras.layers.convolutional.Conv2D object at 0x000001C61F01A820> True\n",
      "<keras.layers.pooling.MaxPooling2D object at 0x000001C62254AE50> True\n"
     ]
    }
   ],
   "source": [
    "model_base.trainable = True           # False : 동결,  True : 학습 수행\n",
    "for layer in model_base.layers[:-8]:  # list 중 index 값 0부터 -8까지를 layer.trainable을 False로 표현하라\n",
    "    layer.trainable = False\n",
    "    \n",
    "for layer in model_base.layers:\n",
    "    print(layer, layer.trainable)"
   ]
  },
  {
   "cell_type": "markdown",
   "id": "55bfa18e",
   "metadata": {},
   "source": [
    "# True만큼 Train"
   ]
  },
  {
   "cell_type": "code",
   "execution_count": 22,
   "id": "9b4b4667",
   "metadata": {
    "scrolled": false
   },
   "outputs": [
    {
     "name": "stdout",
     "output_type": "stream",
     "text": [
      "Model: \"vgg16\"\n",
      "_________________________________________________________________\n",
      "Layer (type)                 Output Shape              Param #   \n",
      "=================================================================\n",
      "input_3 (InputLayer)         [(None, 150, 150, 3)]     0         \n",
      "_________________________________________________________________\n",
      "block1_conv1 (Conv2D)        (None, 150, 150, 64)      1792      \n",
      "_________________________________________________________________\n",
      "block1_conv2 (Conv2D)        (None, 150, 150, 64)      36928     \n",
      "_________________________________________________________________\n",
      "block1_pool (MaxPooling2D)   (None, 75, 75, 64)        0         \n",
      "_________________________________________________________________\n",
      "block2_conv1 (Conv2D)        (None, 75, 75, 128)       73856     \n",
      "_________________________________________________________________\n",
      "block2_conv2 (Conv2D)        (None, 75, 75, 128)       147584    \n",
      "_________________________________________________________________\n",
      "block2_pool (MaxPooling2D)   (None, 37, 37, 128)       0         \n",
      "_________________________________________________________________\n",
      "block3_conv1 (Conv2D)        (None, 37, 37, 256)       295168    \n",
      "_________________________________________________________________\n",
      "block3_conv2 (Conv2D)        (None, 37, 37, 256)       590080    \n",
      "_________________________________________________________________\n",
      "block3_conv3 (Conv2D)        (None, 37, 37, 256)       590080    \n",
      "_________________________________________________________________\n",
      "block3_pool (MaxPooling2D)   (None, 18, 18, 256)       0         \n",
      "_________________________________________________________________\n",
      "block4_conv1 (Conv2D)        (None, 18, 18, 512)       1180160   \n",
      "_________________________________________________________________\n",
      "block4_conv2 (Conv2D)        (None, 18, 18, 512)       2359808   \n",
      "_________________________________________________________________\n",
      "block4_conv3 (Conv2D)        (None, 18, 18, 512)       2359808   \n",
      "_________________________________________________________________\n",
      "block4_pool (MaxPooling2D)   (None, 9, 9, 512)         0         \n",
      "_________________________________________________________________\n",
      "block5_conv1 (Conv2D)        (None, 9, 9, 512)         2359808   \n",
      "_________________________________________________________________\n",
      "block5_conv2 (Conv2D)        (None, 9, 9, 512)         2359808   \n",
      "_________________________________________________________________\n",
      "block5_conv3 (Conv2D)        (None, 9, 9, 512)         2359808   \n",
      "_________________________________________________________________\n",
      "block5_pool (MaxPooling2D)   (None, 4, 4, 512)         0         \n",
      "=================================================================\n",
      "Total params: 14,714,688\n",
      "Trainable params: 12,979,200\n",
      "Non-trainable params: 1,735,488\n",
      "_________________________________________________________________\n"
     ]
    }
   ],
   "source": [
    "model_base.summary()"
   ]
  },
  {
   "cell_type": "markdown",
   "id": "aa798bf5",
   "metadata": {},
   "source": [
    "- Trainable params: 12,979,200 >> 이 부분은 VGG16으로 학습하겠다!"
   ]
  },
  {
   "cell_type": "code",
   "execution_count": 23,
   "id": "95c6db21",
   "metadata": {},
   "outputs": [],
   "source": [
    "from tensorflow.keras.applications import VGG16\n",
    "\n",
    "model_base = VGG16(weights='imagenet',         # VGG16은 이미지 처리하는 것으로 설정\n",
    "                   include_top=False,         # classification 제외\n",
    "                                               # Feature Extraction은 VGG에서 학습한 것을 가져와 사용\n",
    "                   input_shape=(150, 150, 3))  # 150*150 size에 Color\n",
    "\n",
    "model_base.trainable = False   # 기본 모델의 모든 레이어를 동결"
   ]
  },
  {
   "cell_type": "markdown",
   "id": "72b51349",
   "metadata": {},
   "source": [
    "# CNN 모델 구현"
   ]
  },
  {
   "cell_type": "code",
   "execution_count": 24,
   "id": "09e1b5ff",
   "metadata": {},
   "outputs": [],
   "source": [
    "model = Sequential()"
   ]
  },
  {
   "cell_type": "code",
   "execution_count": 25,
   "id": "5bb51b1d",
   "metadata": {},
   "outputs": [
    {
     "name": "stdout",
     "output_type": "stream",
     "text": [
      "Model: \"sequential_1\"\n",
      "_________________________________________________________________\n",
      "Layer (type)                 Output Shape              Param #   \n",
      "=================================================================\n",
      "vgg16 (Functional)           (None, 4, 4, 512)         14714688  \n",
      "_________________________________________________________________\n",
      "flatten_1 (Flatten)          (None, 8192)              0         \n",
      "_________________________________________________________________\n",
      "dense_2 (Dense)              (None, 256)               2097408   \n",
      "_________________________________________________________________\n",
      "dense_3 (Dense)              (None, 1)                 257       \n",
      "=================================================================\n",
      "Total params: 16,812,353\n",
      "Trainable params: 2,097,665\n",
      "Non-trainable params: 14,714,688\n",
      "_________________________________________________________________\n"
     ]
    }
   ],
   "source": [
    "model.add(model_base)\n",
    "\n",
    "model.add(Flatten())\n",
    "model.add(Dense(units=256,\n",
    "                activation='relu'))\n",
    "model.add(Dense(units=1,\n",
    "                activation=\"sigmoid\"))\n",
    "\n",
    "model.summary()"
   ]
  },
  {
   "cell_type": "markdown",
   "id": "ce6342d4",
   "metadata": {},
   "source": [
    "# Model 학습 방식에 대한 환경설정"
   ]
  },
  {
   "cell_type": "code",
   "execution_count": 26,
   "id": "4d061c5c",
   "metadata": {},
   "outputs": [],
   "source": [
    "model.compile(optimizer=Adam(learning_rate=0.0001),\n",
    "              loss='binary_crossentropy',\n",
    "              metrics=[\"accuracy\"])"
   ]
  },
  {
   "cell_type": "markdown",
   "id": "3f8b6512",
   "metadata": {},
   "source": [
    "# 설정이 다 되었으면 모델을 학습"
   ]
  },
  {
   "cell_type": "code",
   "execution_count": 27,
   "id": "8a51c009",
   "metadata": {
    "scrolled": false
   },
   "outputs": [
    {
     "name": "stdout",
     "output_type": "stream",
     "text": [
      "Epoch 1/30\n",
      "100/100 [==============================] - 21s 204ms/step - loss: 0.3667 - accuracy: 0.8430 - val_loss: 0.3106 - val_accuracy: 0.8620\n",
      "Epoch 2/30\n",
      "100/100 [==============================] - 20s 199ms/step - loss: 0.2224 - accuracy: 0.9175 - val_loss: 0.2878 - val_accuracy: 0.8650\n",
      "Epoch 3/30\n",
      "100/100 [==============================] - 20s 199ms/step - loss: 0.1629 - accuracy: 0.9425 - val_loss: 0.2747 - val_accuracy: 0.8790\n",
      "Epoch 4/30\n",
      "100/100 [==============================] - 20s 200ms/step - loss: 0.1202 - accuracy: 0.9610 - val_loss: 0.2540 - val_accuracy: 0.8890\n",
      "Epoch 5/30\n",
      "100/100 [==============================] - 20s 200ms/step - loss: 0.0947 - accuracy: 0.9755 - val_loss: 0.2567 - val_accuracy: 0.8800\n",
      "Epoch 6/30\n",
      "100/100 [==============================] - 20s 200ms/step - loss: 0.0778 - accuracy: 0.9805 - val_loss: 0.2620 - val_accuracy: 0.8860\n",
      "Epoch 7/30\n",
      "100/100 [==============================] - 20s 201ms/step - loss: 0.0589 - accuracy: 0.9905 - val_loss: 0.2616 - val_accuracy: 0.8950\n",
      "Epoch 8/30\n",
      "100/100 [==============================] - 20s 201ms/step - loss: 0.0495 - accuracy: 0.9930 - val_loss: 0.2846 - val_accuracy: 0.8850\n",
      "Epoch 9/30\n",
      "100/100 [==============================] - 20s 201ms/step - loss: 0.0385 - accuracy: 0.9970 - val_loss: 0.2881 - val_accuracy: 0.8890\n",
      "Epoch 10/30\n",
      "100/100 [==============================] - 20s 202ms/step - loss: 0.0277 - accuracy: 0.9990 - val_loss: 0.2995 - val_accuracy: 0.8890\n",
      "Epoch 11/30\n",
      "100/100 [==============================] - 20s 202ms/step - loss: 0.0234 - accuracy: 0.9995 - val_loss: 0.2868 - val_accuracy: 0.8840\n",
      "Epoch 12/30\n",
      "100/100 [==============================] - 20s 201ms/step - loss: 0.0188 - accuracy: 1.0000 - val_loss: 0.2984 - val_accuracy: 0.8830\n",
      "Epoch 13/30\n",
      "100/100 [==============================] - 20s 202ms/step - loss: 0.0162 - accuracy: 1.0000 - val_loss: 0.3025 - val_accuracy: 0.8820\n",
      "Epoch 14/30\n",
      "100/100 [==============================] - 20s 202ms/step - loss: 0.0133 - accuracy: 1.0000 - val_loss: 0.3148 - val_accuracy: 0.8890\n",
      "Epoch 15/30\n",
      "100/100 [==============================] - 20s 202ms/step - loss: 0.0112 - accuracy: 1.0000 - val_loss: 0.3146 - val_accuracy: 0.8870\n",
      "Epoch 16/30\n",
      "100/100 [==============================] - 20s 203ms/step - loss: 0.0096 - accuracy: 1.0000 - val_loss: 0.3236 - val_accuracy: 0.8840\n",
      "Epoch 17/30\n",
      "100/100 [==============================] - 20s 202ms/step - loss: 0.0081 - accuracy: 1.0000 - val_loss: 0.3292 - val_accuracy: 0.8840\n",
      "Epoch 18/30\n",
      "100/100 [==============================] - 20s 202ms/step - loss: 0.0072 - accuracy: 1.0000 - val_loss: 0.3316 - val_accuracy: 0.8850\n",
      "Epoch 19/30\n",
      "100/100 [==============================] - 20s 202ms/step - loss: 0.0064 - accuracy: 1.0000 - val_loss: 0.3377 - val_accuracy: 0.8830\n",
      "Epoch 20/30\n",
      "100/100 [==============================] - 20s 202ms/step - loss: 0.0055 - accuracy: 1.0000 - val_loss: 0.3496 - val_accuracy: 0.8860\n",
      "Epoch 21/30\n",
      "100/100 [==============================] - 20s 202ms/step - loss: 0.0048 - accuracy: 1.0000 - val_loss: 0.3474 - val_accuracy: 0.8850\n",
      "Epoch 22/30\n",
      "100/100 [==============================] - 20s 203ms/step - loss: 0.0043 - accuracy: 1.0000 - val_loss: 0.3533 - val_accuracy: 0.8820\n",
      "Epoch 23/30\n",
      "100/100 [==============================] - 20s 202ms/step - loss: 0.0037 - accuracy: 1.0000 - val_loss: 0.3616 - val_accuracy: 0.8830\n",
      "Epoch 24/30\n",
      "100/100 [==============================] - 20s 202ms/step - loss: 0.0036 - accuracy: 1.0000 - val_loss: 0.3650 - val_accuracy: 0.8850\n",
      "Epoch 25/30\n",
      "100/100 [==============================] - 20s 202ms/step - loss: 0.0030 - accuracy: 1.0000 - val_loss: 0.3711 - val_accuracy: 0.8850\n",
      "Epoch 26/30\n",
      "100/100 [==============================] - 21s 207ms/step - loss: 0.0027 - accuracy: 1.0000 - val_loss: 0.3737 - val_accuracy: 0.8820\n",
      "Epoch 27/30\n",
      "100/100 [==============================] - 20s 204ms/step - loss: 0.0024 - accuracy: 1.0000 - val_loss: 0.3783 - val_accuracy: 0.8820\n",
      "Epoch 28/30\n",
      "100/100 [==============================] - 20s 202ms/step - loss: 0.0022 - accuracy: 1.0000 - val_loss: 0.3828 - val_accuracy: 0.8840\n",
      "Epoch 29/30\n",
      "100/100 [==============================] - 20s 203ms/step - loss: 0.0020 - accuracy: 1.0000 - val_loss: 0.3918 - val_accuracy: 0.8850\n",
      "Epoch 30/30\n",
      "100/100 [==============================] - 20s 202ms/step - loss: 0.0019 - accuracy: 1.0000 - val_loss: 0.3966 - val_accuracy: 0.8840\n"
     ]
    }
   ],
   "source": [
    "hist = model.fit(train_generator,\n",
    "          steps_per_epoch=100,\n",
    "          epochs=30,\n",
    "          verbose=1,\n",
    "          validation_data=test_generator,  # 검증 데이터가 직접 들어감\n",
    "          validation_steps=50\n",
    "          )"
   ]
  },
  {
   "cell_type": "code",
   "execution_count": 28,
   "id": "5422c1a3",
   "metadata": {},
   "outputs": [
    {
     "data": {
      "text/plain": [
       "<matplotlib.legend.Legend at 0x1c64e39b7c0>"
      ]
     },
     "execution_count": 28,
     "metadata": {},
     "output_type": "execute_result"
    },
    {
     "data": {
      "image/png": "[encoded data removed]",
      "text/plain": [
       "<Figure size 640x480 with 2 Axes>"
      ]
     },
     "metadata": {},
     "output_type": "display_data"
    }
   ],
   "source": [
    "import matplotlib.pyplot as plt\n",
    "\n",
    "fig, loss_ax = plt.subplots()\n",
    "loss_ax.plot(hist.history[\"loss\"], \"y\", label=\"train_loss\")\n",
    "loss_ax.plot(hist.history[\"val_loss\"], \"r\", label=\"val_loss\")\n",
    "loss_ax.set_xlabel(\"epoch\")\n",
    "loss_ax.set_ylabel(\"loss\")\n",
    "loss_ax.legend(loc=\"upper left\")\n",
    "\n",
    "acc_ax = loss_ax.twinx()\n",
    "acc_ax.plot(hist.history[\"accuracy\"], \"b\", label=\"train_acc\")\n",
    "acc_ax.plot(hist.history[\"val_accuracy\"], \"g\", label=\"val_acc\")\n",
    "acc_ax.set_ylabel(\"accuracy\")\n",
    "acc_ax.legend(loc=\"lower left\")"
   ]
  }
 ],
 "metadata": {
  "kernelspec": {
   "display_name": "Python 3 (ipykernel)",
   "language": "python",
   "name": "python3"
  },
  "language_info": {
   "codemirror_mode": {
    "name": "ipython",
    "version": 3
   },
   "file_extension": ".py",
   "mimetype": "text/x-python",
   "name": "python",
   "nbconvert_exporter": "python",
   "pygments_lexer": "ipython3",
   "version": "3.9.13"
  },
  "toc": {
   "base_numbering": 1,
   "nav_menu": {},
   "number_sections": true,
   "sideBar": true,
   "skip_h1_title": false,
   "title_cell": "Table of Contents",
   "title_sidebar": "Contents",
   "toc_cell": false,
   "toc_position": {
    "height": "calc(100% - 180px)",
    "left": "10px",
    "top": "150px",
    "width": "235.797px"
   },
   "toc_section_display": true,
   "toc_window_display": false
  },
  "varInspector": {
   "cols": {
    "lenName": 16,
    "lenType": 16,
    "lenVar": 40
   },
   "kernels_config": {
    "python": {
     "delete_cmd_postfix": "",
     "delete_cmd_prefix": "del ",
     "library": "var_list.py",
     "varRefreshCmd": "print(var_dic_list())"
    },
    "r": {
     "delete_cmd_postfix": ") ",
     "delete_cmd_prefix": "rm(",
     "library": "var_list.r",
     "varRefreshCmd": "cat(var_dic_list()) "
    }
   },
   "types_to_exclude": [
    "module",
    "function",
    "builtin_function_or_method",
    "instance",
    "_Feature"
   ],
   "window_display": false
  }
 },
 "nbformat": 4,
 "nbformat_minor": 5
}
