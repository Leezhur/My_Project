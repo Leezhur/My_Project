{
 "cells": [
  {
   "cell_type": "code",
   "execution_count": 1,
   "id": "280ebc41",
   "metadata": {},
   "outputs": [
    {
     "data": {
      "text/html": [
       "<style>div.container { width:100% !important; }</style>"
      ],
      "text/plain": [
       "<IPython.core.display.HTML object>"
      ]
     },
     "metadata": {},
     "output_type": "display_data"
    }
   ],
   "source": [
    "from IPython.display import display, HTML\n",
    "display(HTML(\"<style>div.container { width:100% !important; }</style>\"))"
   ]
  },
  {
   "cell_type": "markdown",
   "id": "c29c02ed",
   "metadata": {},
   "source": [
    "# 시험 환경 세팅"
   ]
  },
  {
   "cell_type": "code",
   "execution_count": 3,
   "id": "1a951da3",
   "metadata": {},
   "outputs": [],
   "source": [
    "import pandas as pd\n",
    "import numpy as np\n",
    "from sklearn.model_selection import train_test_split"
   ]
  },
  {
   "cell_type": "markdown",
   "id": "3211f584",
   "metadata": {},
   "source": [
    "# 데이터셋 불러오기"
   ]
  },
  {
   "cell_type": "code",
   "execution_count": 4,
   "id": "46510458",
   "metadata": {},
   "outputs": [],
   "source": [
    "df = pd.read_csv('./insurance.csv')"
   ]
  },
  {
   "cell_type": "code",
   "execution_count": 5,
   "id": "86b93690",
   "metadata": {
    "scrolled": false
   },
   "outputs": [
    {
     "data": {
      "text/html": [
       "<div>\n",
       "<style scoped>\n",
       "    .dataframe tbody tr th:only-of-type {\n",
       "        vertical-align: middle;\n",
       "    }\n",
       "\n",
       "    .dataframe tbody tr th {\n",
       "        vertical-align: top;\n",
       "    }\n",
       "\n",
       "    .dataframe thead th {\n",
       "        text-align: right;\n",
       "    }\n",
       "</style>\n",
       "<table border=\"1\" class=\"dataframe\">\n",
       "  <thead>\n",
       "    <tr style=\"text-align: right;\">\n",
       "      <th></th>\n",
       "      <th>age</th>\n",
       "      <th>sex</th>\n",
       "      <th>bmi</th>\n",
       "      <th>children</th>\n",
       "      <th>smoker</th>\n",
       "      <th>charges</th>\n",
       "    </tr>\n",
       "  </thead>\n",
       "  <tbody>\n",
       "    <tr>\n",
       "      <th>0</th>\n",
       "      <td>19</td>\n",
       "      <td>0</td>\n",
       "      <td>27.900</td>\n",
       "      <td>0</td>\n",
       "      <td>1</td>\n",
       "      <td>16884.92400</td>\n",
       "    </tr>\n",
       "    <tr>\n",
       "      <th>1</th>\n",
       "      <td>18</td>\n",
       "      <td>1</td>\n",
       "      <td>33.770</td>\n",
       "      <td>1</td>\n",
       "      <td>0</td>\n",
       "      <td>1725.55230</td>\n",
       "    </tr>\n",
       "    <tr>\n",
       "      <th>2</th>\n",
       "      <td>28</td>\n",
       "      <td>1</td>\n",
       "      <td>33.000</td>\n",
       "      <td>3</td>\n",
       "      <td>0</td>\n",
       "      <td>4449.46200</td>\n",
       "    </tr>\n",
       "    <tr>\n",
       "      <th>3</th>\n",
       "      <td>33</td>\n",
       "      <td>1</td>\n",
       "      <td>22.705</td>\n",
       "      <td>0</td>\n",
       "      <td>0</td>\n",
       "      <td>21984.47061</td>\n",
       "    </tr>\n",
       "    <tr>\n",
       "      <th>4</th>\n",
       "      <td>32</td>\n",
       "      <td>1</td>\n",
       "      <td>28.880</td>\n",
       "      <td>0</td>\n",
       "      <td>0</td>\n",
       "      <td>3866.85520</td>\n",
       "    </tr>\n",
       "    <tr>\n",
       "      <th>...</th>\n",
       "      <td>...</td>\n",
       "      <td>...</td>\n",
       "      <td>...</td>\n",
       "      <td>...</td>\n",
       "      <td>...</td>\n",
       "      <td>...</td>\n",
       "    </tr>\n",
       "    <tr>\n",
       "      <th>1333</th>\n",
       "      <td>50</td>\n",
       "      <td>1</td>\n",
       "      <td>30.970</td>\n",
       "      <td>3</td>\n",
       "      <td>0</td>\n",
       "      <td>10600.54830</td>\n",
       "    </tr>\n",
       "    <tr>\n",
       "      <th>1334</th>\n",
       "      <td>18</td>\n",
       "      <td>0</td>\n",
       "      <td>31.920</td>\n",
       "      <td>0</td>\n",
       "      <td>0</td>\n",
       "      <td>2205.98080</td>\n",
       "    </tr>\n",
       "    <tr>\n",
       "      <th>1335</th>\n",
       "      <td>18</td>\n",
       "      <td>0</td>\n",
       "      <td>36.850</td>\n",
       "      <td>0</td>\n",
       "      <td>0</td>\n",
       "      <td>1629.83350</td>\n",
       "    </tr>\n",
       "    <tr>\n",
       "      <th>1336</th>\n",
       "      <td>21</td>\n",
       "      <td>0</td>\n",
       "      <td>25.800</td>\n",
       "      <td>0</td>\n",
       "      <td>0</td>\n",
       "      <td>2007.94500</td>\n",
       "    </tr>\n",
       "    <tr>\n",
       "      <th>1337</th>\n",
       "      <td>61</td>\n",
       "      <td>0</td>\n",
       "      <td>29.070</td>\n",
       "      <td>0</td>\n",
       "      <td>1</td>\n",
       "      <td>29141.36030</td>\n",
       "    </tr>\n",
       "  </tbody>\n",
       "</table>\n",
       "<p>1338 rows × 6 columns</p>\n",
       "</div>"
      ],
      "text/plain": [
       "      age  sex     bmi  children  smoker      charges\n",
       "0      19    0  27.900         0       1  16884.92400\n",
       "1      18    1  33.770         1       0   1725.55230\n",
       "2      28    1  33.000         3       0   4449.46200\n",
       "3      33    1  22.705         0       0  21984.47061\n",
       "4      32    1  28.880         0       0   3866.85520\n",
       "...   ...  ...     ...       ...     ...          ...\n",
       "1333   50    1  30.970         3       0  10600.54830\n",
       "1334   18    0  31.920         0       0   2205.98080\n",
       "1335   18    0  36.850         0       0   1629.83350\n",
       "1336   21    0  25.800         0       0   2007.94500\n",
       "1337   61    0  29.070         0       1  29141.36030\n",
       "\n",
       "[1338 rows x 6 columns]"
      ]
     },
     "execution_count": 5,
     "metadata": {},
     "output_type": "execute_result"
    }
   ],
   "source": [
    "df "
   ]
  },
  {
   "cell_type": "code",
   "execution_count": 132,
   "id": "261261da",
   "metadata": {},
   "outputs": [],
   "source": [
    "# ( 성별은 0이 남자 1은 여자 )"
   ]
  },
  {
   "cell_type": "code",
   "execution_count": 6,
   "id": "d35788aa",
   "metadata": {},
   "outputs": [],
   "source": [
    "X_data = df.drop([\"charges\"], axis=1).to_numpy()\n",
    "Y_data = df[\"charges\"].to_numpy()"
   ]
  },
  {
   "cell_type": "code",
   "execution_count": 7,
   "id": "44653119",
   "metadata": {},
   "outputs": [
    {
     "data": {
      "text/plain": [
       "(1338, 5)"
      ]
     },
     "execution_count": 7,
     "metadata": {},
     "output_type": "execute_result"
    }
   ],
   "source": [
    "X_data.shape"
   ]
  },
  {
   "cell_type": "code",
   "execution_count": 8,
   "id": "95c70055",
   "metadata": {},
   "outputs": [
    {
     "data": {
      "text/plain": [
       "(1338,)"
      ]
     },
     "execution_count": 8,
     "metadata": {},
     "output_type": "execute_result"
    }
   ],
   "source": [
    "Y_data.shape"
   ]
  },
  {
   "cell_type": "code",
   "execution_count": 9,
   "id": "40122972",
   "metadata": {},
   "outputs": [],
   "source": [
    "X_train, X_test, Y_train, Y_test = train_test_split(X_data, Y_data, test_size=0.2, random_state=100, shuffle=True)"
   ]
  },
  {
   "cell_type": "code",
   "execution_count": 10,
   "id": "1be497b8",
   "metadata": {},
   "outputs": [
    {
     "data": {
      "text/plain": [
       "(1070, 5)"
      ]
     },
     "execution_count": 10,
     "metadata": {},
     "output_type": "execute_result"
    }
   ],
   "source": [
    "X_train.shape"
   ]
  },
  {
   "cell_type": "code",
   "execution_count": 11,
   "id": "d03d42b5",
   "metadata": {
    "scrolled": true
   },
   "outputs": [],
   "source": [
    "from sklearn.linear_model import LinearRegression\n",
    "lr = LinearRegression()\n",
    "\n",
    "# 선형회귀 모델 훈련\n",
    "lr.fit(X_train, Y_train)\n",
    "\n",
    "# 예측\n",
    "pred = lr.predict(X_test)"
   ]
  },
  {
   "cell_type": "code",
   "execution_count": 12,
   "id": "1d55ed60",
   "metadata": {
    "scrolled": true
   },
   "outputs": [
    {
     "name": "stdout",
     "output_type": "stream",
     "text": [
      "기울기 [2.64799803e+02 1.73446608e+01 2.97514806e+02 4.69339602e+02\n",
      " 2.34692802e+04]\n",
      "절편 -11576.999976112367\n"
     ]
    }
   ],
   "source": [
    "print(\"기울기\", lr.coef_)\n",
    "print(\"절편\", lr.intercept_)"
   ]
  },
  {
   "cell_type": "code",
   "execution_count": 13,
   "id": "5a370f18",
   "metadata": {},
   "outputs": [
    {
     "name": "stdout",
     "output_type": "stream",
     "text": [
      "0.7368220127747351\n",
      "0.7938983522335603\n"
     ]
    }
   ],
   "source": [
    "print(lr.score(X_train, Y_train))\n",
    "print(lr.score(X_test, Y_test))   "
   ]
  },
  {
   "cell_type": "code",
   "execution_count": 14,
   "id": "bb74d989",
   "metadata": {},
   "outputs": [],
   "source": [
    "from sklearn.preprocessing import  PolynomialFeatures\n",
    "ss = PolynomialFeatures(degree=5, include_bias=False)\n",
    "train_scaled = ss.fit_transform(X_train)\n",
    "test_scaled = ss.fit_transform(X_test)"
   ]
  },
  {
   "cell_type": "code",
   "execution_count": 15,
   "id": "53f30463",
   "metadata": {},
   "outputs": [
    {
     "name": "stderr",
     "output_type": "stream",
     "text": [
      "C:\\Users\\KOREAIT\\.conda\\envs\\py39tf2\\lib\\site-packages\\sklearn\\linear_model\\_coordinate_descent.py:648: ConvergenceWarning: Objective did not converge. You might want to increase the number of iterations, check the scale of the features or consider increasing regularisation. Duality gap: 1.194e+10, tolerance: 1.538e+07\n",
      "  model = cd_fast.enet_coordinate_descent(\n"
     ]
    },
    {
     "data": {
      "text/html": [
       "<style>#sk-container-id-1 {color: black;background-color: white;}#sk-container-id-1 pre{padding: 0;}#sk-container-id-1 div.sk-toggleable {background-color: white;}#sk-container-id-1 label.sk-toggleable__label {cursor: pointer;display: block;width: 100%;margin-bottom: 0;padding: 0.3em;box-sizing: border-box;text-align: center;}#sk-container-id-1 label.sk-toggleable__label-arrow:before {content: \"▸\";float: left;margin-right: 0.25em;color: #696969;}#sk-container-id-1 label.sk-toggleable__label-arrow:hover:before {color: black;}#sk-container-id-1 div.sk-estimator:hover label.sk-toggleable__label-arrow:before {color: black;}#sk-container-id-1 div.sk-toggleable__content {max-height: 0;max-width: 0;overflow: hidden;text-align: left;background-color: #f0f8ff;}#sk-container-id-1 div.sk-toggleable__content pre {margin: 0.2em;color: black;border-radius: 0.25em;background-color: #f0f8ff;}#sk-container-id-1 input.sk-toggleable__control:checked~div.sk-toggleable__content {max-height: 200px;max-width: 100%;overflow: auto;}#sk-container-id-1 input.sk-toggleable__control:checked~label.sk-toggleable__label-arrow:before {content: \"▾\";}#sk-container-id-1 div.sk-estimator input.sk-toggleable__control:checked~label.sk-toggleable__label {background-color: #d4ebff;}#sk-container-id-1 div.sk-label input.sk-toggleable__control:checked~label.sk-toggleable__label {background-color: #d4ebff;}#sk-container-id-1 input.sk-hidden--visually {border: 0;clip: rect(1px 1px 1px 1px);clip: rect(1px, 1px, 1px, 1px);height: 1px;margin: -1px;overflow: hidden;padding: 0;position: absolute;width: 1px;}#sk-container-id-1 div.sk-estimator {font-family: monospace;background-color: #f0f8ff;border: 1px dotted black;border-radius: 0.25em;box-sizing: border-box;margin-bottom: 0.5em;}#sk-container-id-1 div.sk-estimator:hover {background-color: #d4ebff;}#sk-container-id-1 div.sk-parallel-item::after {content: \"\";width: 100%;border-bottom: 1px solid gray;flex-grow: 1;}#sk-container-id-1 div.sk-label:hover label.sk-toggleable__label {background-color: #d4ebff;}#sk-container-id-1 div.sk-serial::before {content: \"\";position: absolute;border-left: 1px solid gray;box-sizing: border-box;top: 0;bottom: 0;left: 50%;z-index: 0;}#sk-container-id-1 div.sk-serial {display: flex;flex-direction: column;align-items: center;background-color: white;padding-right: 0.2em;padding-left: 0.2em;position: relative;}#sk-container-id-1 div.sk-item {position: relative;z-index: 1;}#sk-container-id-1 div.sk-parallel {display: flex;align-items: stretch;justify-content: center;background-color: white;position: relative;}#sk-container-id-1 div.sk-item::before, #sk-container-id-1 div.sk-parallel-item::before {content: \"\";position: absolute;border-left: 1px solid gray;box-sizing: border-box;top: 0;bottom: 0;left: 50%;z-index: -1;}#sk-container-id-1 div.sk-parallel-item {display: flex;flex-direction: column;z-index: 1;position: relative;background-color: white;}#sk-container-id-1 div.sk-parallel-item:first-child::after {align-self: flex-end;width: 50%;}#sk-container-id-1 div.sk-parallel-item:last-child::after {align-self: flex-start;width: 50%;}#sk-container-id-1 div.sk-parallel-item:only-child::after {width: 0;}#sk-container-id-1 div.sk-dashed-wrapped {border: 1px dashed gray;margin: 0 0.4em 0.5em 0.4em;box-sizing: border-box;padding-bottom: 0.4em;background-color: white;}#sk-container-id-1 div.sk-label label {font-family: monospace;font-weight: bold;display: inline-block;line-height: 1.2em;}#sk-container-id-1 div.sk-label-container {text-align: center;}#sk-container-id-1 div.sk-container {/* jupyter's `normalize.less` sets `[hidden] { display: none; }` but bootstrap.min.css set `[hidden] { display: none !important; }` so we also need the `!important` here to be able to override the default hidden behavior on the sphinx rendered scikit-learn.org. See: https://github.com/scikit-learn/scikit-learn/issues/21755 */display: inline-block !important;position: relative;}#sk-container-id-1 div.sk-text-repr-fallback {display: none;}</style><div id=\"sk-container-id-1\" class=\"sk-top-container\"><div class=\"sk-text-repr-fallback\"><pre>Lasso(alpha=10)</pre><b>In a Jupyter environment, please rerun this cell to show the HTML representation or trust the notebook. <br />On GitHub, the HTML representation is unable to render, please try loading this page with nbviewer.org.</b></div><div class=\"sk-container\" hidden><div class=\"sk-item\"><div class=\"sk-estimator sk-toggleable\"><input class=\"sk-toggleable__control sk-hidden--visually\" id=\"sk-estimator-id-1\" type=\"checkbox\" checked><label for=\"sk-estimator-id-1\" class=\"sk-toggleable__label sk-toggleable__label-arrow\">Lasso</label><div class=\"sk-toggleable__content\"><pre>Lasso(alpha=10)</pre></div></div></div></div></div>"
      ],
      "text/plain": [
       "Lasso(alpha=10)"
      ]
     },
     "execution_count": 15,
     "metadata": {},
     "output_type": "execute_result"
    }
   ],
   "source": [
    "from sklearn.linear_model import Lasso\n",
    "lr = Lasso(alpha=10, max_iter=1000)\n",
    "lr.fit(train_scaled, Y_train)"
   ]
  },
  {
   "cell_type": "code",
   "execution_count": 16,
   "id": "c9160368",
   "metadata": {},
   "outputs": [
    {
     "name": "stdout",
     "output_type": "stream",
     "text": [
      "0.8454782082162202\n",
      "0.8598736434044765\n"
     ]
    }
   ],
   "source": [
    "print(lr.score(train_scaled, Y_train))\n",
    "print(lr.score(test_scaled, Y_test))"
   ]
  },
  {
   "cell_type": "markdown",
   "id": "defbd470",
   "metadata": {},
   "source": [
    "# 예측 모델 평가하기"
   ]
  },
  {
   "cell_type": "markdown",
   "id": "8db06c9a",
   "metadata": {},
   "source": [
    "## 1. 테이블로 출력하기"
   ]
  },
  {
   "cell_type": "code",
   "execution_count": 17,
   "id": "8766e853",
   "metadata": {},
   "outputs": [
    {
     "data": {
      "text/html": [
       "<div>\n",
       "<style scoped>\n",
       "    .dataframe tbody tr th:only-of-type {\n",
       "        vertical-align: middle;\n",
       "    }\n",
       "\n",
       "    .dataframe tbody tr th {\n",
       "        vertical-align: top;\n",
       "    }\n",
       "\n",
       "    .dataframe thead th {\n",
       "        text-align: right;\n",
       "    }\n",
       "</style>\n",
       "<table border=\"1\" class=\"dataframe\">\n",
       "  <thead>\n",
       "    <tr style=\"text-align: right;\">\n",
       "      <th></th>\n",
       "      <th>actual</th>\n",
       "      <th>pred</th>\n",
       "    </tr>\n",
       "  </thead>\n",
       "  <tbody>\n",
       "    <tr>\n",
       "      <th>0</th>\n",
       "      <td>1826.84300</td>\n",
       "      <td>4765.249466</td>\n",
       "    </tr>\n",
       "    <tr>\n",
       "      <th>1</th>\n",
       "      <td>20177.67113</td>\n",
       "      <td>4957.730865</td>\n",
       "    </tr>\n",
       "    <tr>\n",
       "      <th>2</th>\n",
       "      <td>7421.19455</td>\n",
       "      <td>8298.988153</td>\n",
       "    </tr>\n",
       "    <tr>\n",
       "      <th>3</th>\n",
       "      <td>1877.92940</td>\n",
       "      <td>3078.811868</td>\n",
       "    </tr>\n",
       "    <tr>\n",
       "      <th>4</th>\n",
       "      <td>15518.18025</td>\n",
       "      <td>24165.956542</td>\n",
       "    </tr>\n",
       "    <tr>\n",
       "      <th>...</th>\n",
       "      <td>...</td>\n",
       "      <td>...</td>\n",
       "    </tr>\n",
       "    <tr>\n",
       "      <th>263</th>\n",
       "      <td>1984.45330</td>\n",
       "      <td>5776.764928</td>\n",
       "    </tr>\n",
       "    <tr>\n",
       "      <th>264</th>\n",
       "      <td>14283.45940</td>\n",
       "      <td>23102.847340</td>\n",
       "    </tr>\n",
       "    <tr>\n",
       "      <th>265</th>\n",
       "      <td>14043.47670</td>\n",
       "      <td>14280.732585</td>\n",
       "    </tr>\n",
       "    <tr>\n",
       "      <th>266</th>\n",
       "      <td>8825.08600</td>\n",
       "      <td>10527.417291</td>\n",
       "    </tr>\n",
       "    <tr>\n",
       "      <th>267</th>\n",
       "      <td>12124.99240</td>\n",
       "      <td>11638.260006</td>\n",
       "    </tr>\n",
       "  </tbody>\n",
       "</table>\n",
       "<p>268 rows × 2 columns</p>\n",
       "</div>"
      ],
      "text/plain": [
       "          actual          pred\n",
       "0     1826.84300   4765.249466\n",
       "1    20177.67113   4957.730865\n",
       "2     7421.19455   8298.988153\n",
       "3     1877.92940   3078.811868\n",
       "4    15518.18025  24165.956542\n",
       "..           ...           ...\n",
       "263   1984.45330   5776.764928\n",
       "264  14283.45940  23102.847340\n",
       "265  14043.47670  14280.732585\n",
       "266   8825.08600  10527.417291\n",
       "267  12124.99240  11638.260006\n",
       "\n",
       "[268 rows x 2 columns]"
      ]
     },
     "execution_count": 17,
     "metadata": {},
     "output_type": "execute_result"
    }
   ],
   "source": [
    "comparison = pd.DataFrame(\n",
    "             {'actual':Y_test,\n",
    "              'pred':pred})\n",
    "comparison"
   ]
  },
  {
   "cell_type": "markdown",
   "id": "a73b4290",
   "metadata": {},
   "source": [
    "## 2. 그래프로 출력하기"
   ]
  },
  {
   "cell_type": "code",
   "execution_count": 19,
   "id": "dfb3759a",
   "metadata": {},
   "outputs": [
    {
     "data": {
      "text/plain": [
       "<AxesSubplot:xlabel='actual', ylabel='pred'>"
      ]
     },
     "execution_count": 19,
     "metadata": {},
     "output_type": "execute_result"
    },
    {
     "data": {
      "image/png": "[encoded data removed]",
      "text/plain": [
       "<Figure size 1000x1000 with 1 Axes>"
      ]
     },
     "metadata": {},
     "output_type": "display_data"
    }
   ],
   "source": [
    "import matplotlib.pyplot as plt\n",
    "import seaborn as sns\n",
    "\n",
    "plt.figure(figsize=(10, 10))\n",
    "sns.scatterplot(x = 'actual', y = 'pred', data = comparison)"
   ]
  },
  {
   "cell_type": "markdown",
   "id": "82f2c7b1",
   "metadata": {},
   "source": [
    "# 보험료의 평균은?"
   ]
  },
  {
   "cell_type": "code",
   "execution_count": 20,
   "id": "6de7b48b",
   "metadata": {},
   "outputs": [
    {
     "data": {
      "text/plain": [
       "5684.927776334485"
      ]
     },
     "execution_count": 20,
     "metadata": {},
     "output_type": "execute_result"
    }
   ],
   "source": [
    "from sklearn.metrics import mean_squared_error\n",
    "mean_squared_error(Y_test, pred) ** 0.5  # RMSE 계산 실행"
   ]
  },
  {
   "cell_type": "code",
   "execution_count": 21,
   "id": "1b514ab7",
   "metadata": {},
   "outputs": [
    {
     "data": {
      "text/plain": [
       "5684.927776334485"
      ]
     },
     "execution_count": 21,
     "metadata": {},
     "output_type": "execute_result"
    }
   ],
   "source": [
    "mean_squared_error(Y_test, pred, squared=False)"
   ]
  },
  {
   "cell_type": "code",
   "execution_count": 23,
   "id": "e73c9005",
   "metadata": {
    "scrolled": true
   },
   "outputs": [
    {
     "data": {
      "text/plain": [
       "0.8454782082162202"
      ]
     },
     "execution_count": 23,
     "metadata": {},
     "output_type": "execute_result"
    }
   ],
   "source": [
    "lr.score(train_scaled, Y_train)"
   ]
  },
  {
   "cell_type": "code",
   "execution_count": 24,
   "id": "f6db3fb3",
   "metadata": {
    "scrolled": true
   },
   "outputs": [
    {
     "name": "stdout",
     "output_type": "stream",
     "text": [
      "기울기 [-4.89599784e+01 -0.00000000e+00 -4.06964640e+02  3.50733541e+02\n",
      "  0.00000000e+00  4.70618254e+00  8.31626500e+00 -2.61955823e+00\n",
      "  1.65298687e+01  4.13778670e+02  0.00000000e+00  2.20934261e+01\n",
      "  0.00000000e+00 -0.00000000e+00  6.88656663e+00  2.43516111e+01\n",
      "  2.06993068e+02  3.87957514e+02  0.00000000e+00  0.00000000e+00\n",
      "  2.13078610e-02 -4.28827187e-01  1.09916129e-02 -1.45830721e+00\n",
      " -2.53003686e+00  1.20568238e-01  1.55770804e+00  2.99997659e+01\n",
      " -1.55216247e+01  4.64160305e-04 -7.88175131e-01  4.94610242e+00\n",
      " -1.13737746e+01  6.02952299e+01 -1.64698079e+02  0.00000000e+00\n",
      " -6.96456358e+01  0.00000000e+00 -0.00000000e+00  1.22927858e+00\n",
      " -6.02214667e+00 -0.00000000e+00  0.00000000e+00 -0.00000000e+00\n",
      " -0.00000000e+00  6.44549371e-02  1.47229854e+00  1.10188433e+01\n",
      "  1.23263943e+01 -2.33736033e+01 -1.66449458e+02 -1.50198084e+02\n",
      "  0.00000000e+00  0.00000000e+00  0.00000000e+00 -7.22147577e-06\n",
      " -2.54008460e-02  9.15386776e-04  8.24546233e-03 -3.28658647e-02\n",
      "  9.27439516e-02  4.79014241e-02  7.36611775e-01  1.85667377e+00\n",
      " -1.52534944e-03 -1.18915420e-03 -2.43222928e-02 -3.42513905e-01\n",
      " -2.72298800e-01 -1.61295487e+00 -1.02173927e+02  5.60276042e-01\n",
      "  3.75467445e+01 -4.86211497e+01 -5.02529521e-02 -8.05002369e-01\n",
      "  4.15022305e+00  9.36546762e+00 -1.01279702e+02 -0.00000000e+00\n",
      "  1.07641547e-03  2.07755337e-02  1.70930310e-01 -1.44050399e-01\n",
      " -1.03835132e+00 -2.49877916e-01 -1.02372511e+00  2.71870400e+01\n",
      "  1.24771710e+01 -1.41215791e+02  0.00000000e+00 -4.95850930e+01\n",
      "  0.00000000e+00 -0.00000000e+00  4.10566808e-02 -2.06793094e+01\n",
      " -1.35057294e+01  0.00000000e+00 -0.00000000e+00 -0.00000000e+00\n",
      "  6.76978275e-03  4.51501702e-02  5.28733453e+00  3.13593470e+00\n",
      " -9.11214604e+00 -1.87315929e+02 -8.44944837e-01  0.00000000e+00\n",
      " -0.00000000e+00 -0.00000000e+00 -1.50460004e-03  2.31719208e-02\n",
      "  3.61994132e-02  2.11264289e-01 -1.01814598e+00  8.13745285e+00\n",
      " -8.50859944e-01  1.61993876e+01 -1.27804825e+01 -1.83267313e+02\n",
      " -9.93451792e+00 -6.05476851e+01  0.00000000e+00  0.00000000e+00\n",
      "  0.00000000e+00 -1.13588983e-05 -2.94161525e-04  1.44098253e-05\n",
      "  2.11902658e-04  1.43865811e-03  2.47299365e-03  9.92582382e-04\n",
      " -3.79873513e-03 -8.71762987e-02 -2.25155492e-05  4.64615171e-04\n",
      "  1.79256818e-04 -4.22983938e-03  2.36547147e-02 -4.75598891e-02\n",
      "  1.24489588e+00  4.55141248e-02 -4.03067307e-02  2.73677900e+00\n",
      " -1.22883818e-03 -3.28533775e-02 -6.83664874e-02  1.75975794e-01\n",
      "  1.16960302e+00  2.28542593e+00 -1.16536007e-05  2.55477277e-04\n",
      " -3.08114530e-03  1.10366672e-03 -1.59147010e-02  3.65702321e-02\n",
      "  9.23619102e-02 -5.32316733e-01 -5.63337613e-01 -1.71048509e-01\n",
      " -2.77301292e+01  6.77635018e-01 -1.48618584e+01 -1.82695481e+01\n",
      " -9.87541370e-03 -1.66431841e+00  4.04149653e+00  7.25007447e+00\n",
      " -7.16440154e+01 -0.00000000e+00 -1.85579655e-03  1.06010836e-02\n",
      " -2.76551237e-01  4.23830656e-01  2.68009311e+00  8.50266693e+00\n",
      " -8.51190247e+00  1.84155659e+01 -9.41406541e+01  0.00000000e+00\n",
      "  4.21435225e-05 -3.85160429e-04 -4.20609829e-03 -3.28712027e-04\n",
      " -1.70786963e-02  2.97785140e-01  7.12205944e-02  3.44199271e-01\n",
      " -2.02425340e+00 -2.16146871e-01  8.04990653e-01 -5.18360307e+00\n",
      "  3.32640875e+01  1.62501791e+01 -1.25759020e+02  0.00000000e+00\n",
      "  3.48487832e+01  0.00000000e+00 -0.00000000e+00  2.30206744e+00\n",
      " -3.72912832e+01 -3.40058239e+01  0.00000000e+00 -0.00000000e+00\n",
      " -0.00000000e+00  2.37151095e-02 -1.27807341e-01  4.73949175e+00\n",
      "  8.40692869e-01  0.00000000e+00 -1.87085280e+02 -8.03030173e-01\n",
      "  0.00000000e+00 -0.00000000e+00 -0.00000000e+00 -7.57521028e-04\n",
      "  5.34237986e-02 -2.62070964e-01  6.63518906e-02  2.69762250e+00\n",
      "  9.97861970e+00 -3.73800141e+00 -4.79077838e+01  5.52984816e+01\n",
      " -1.10802381e+02  3.45129088e+01  2.39420116e+02 -0.00000000e+00\n",
      " -0.00000000e+00 -0.00000000e+00 -1.68016791e-05 -1.57902684e-03\n",
      " -1.39353435e-02 -8.84010617e-03  4.85823889e-03  5.71052310e-01\n",
      "  1.32188786e-02 -3.36151883e-01  3.94518181e-01  6.52701696e+00\n",
      "  9.50534280e-02  4.73598237e+00  9.22813414e-01 -5.62711469e+00\n",
      " -2.14200305e+02 -1.30938768e+00 -6.13041006e+01 -3.14891764e+01\n",
      "  0.00000000e+00  0.00000000e+00  0.00000000e+00]\n",
      "절편 8612.621256439597\n"
     ]
    }
   ],
   "source": [
    "print(\"기울기\", lr.coef_)\n",
    "print(\"절편\", lr.intercept_)"
   ]
  }
 ],
 "metadata": {
  "kernelspec": {
   "display_name": "Python 3 (ipykernel)",
   "language": "python",
   "name": "python3"
  },
  "language_info": {
   "codemirror_mode": {
    "name": "ipython",
    "version": 3
   },
   "file_extension": ".py",
   "mimetype": "text/x-python",
   "name": "python",
   "nbconvert_exporter": "python",
   "pygments_lexer": "ipython3",
   "version": "3.9.13"
  },
  "toc": {
   "base_numbering": 1,
   "nav_menu": {},
   "number_sections": false,
   "sideBar": true,
   "skip_h1_title": false,
   "title_cell": "Table of Contents",
   "title_sidebar": "Contents",
   "toc_cell": false,
   "toc_position": {},
   "toc_section_display": true,
   "toc_window_display": false
  },
  "varInspector": {
   "cols": {
    "lenName": 16,
    "lenType": 16,
    "lenVar": 40
   },
   "kernels_config": {
    "python": {
     "delete_cmd_postfix": "",
     "delete_cmd_prefix": "del ",
     "library": "var_list.py",
     "varRefreshCmd": "print(var_dic_list())"
    },
    "r": {
     "delete_cmd_postfix": ") ",
     "delete_cmd_prefix": "rm(",
     "library": "var_list.r",
     "varRefreshCmd": "cat(var_dic_list()) "
    }
   },
   "types_to_exclude": [
    "module",
    "function",
    "builtin_function_or_method",
    "instance",
    "_Feature"
   ],
   "window_display": false
  }
 },
 "nbformat": 4,
 "nbformat_minor": 5
}
