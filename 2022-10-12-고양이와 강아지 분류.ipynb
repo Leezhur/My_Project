{
 "cells": [
  {
   "cell_type": "markdown",
   "id": "a7efc622",
   "metadata": {},
   "source": [
    "workspace > vision 안에 MNIST 폴더 새로 만들기\n",
    "\n",
    "MNIST 안에 cats_and_dogs 폴더 새로 만들기\n",
    "\n",
    "슬랙에서 3개 압축 파일 다운로드 후, cats_and_dogs 안에 각각 압축 풀기"
   ]
  },
  {
   "cell_type": "markdown",
   "id": "5af41e90",
   "metadata": {},
   "source": [
    "# CNN에서 필요한 라이브러리 IMPORT"
   ]
  },
  {
   "cell_type": "code",
   "execution_count": 1,
   "id": "9611e5a9",
   "metadata": {},
   "outputs": [],
   "source": [
    "import numpy as np\n",
    "from tensorflow.keras.models import Sequential     \n",
    "from tensorflow.keras.layers import Conv2D, MaxPooling2D         \n",
    "from tensorflow.keras.layers import Flatten, Dense           \n",
    "                                                                 \n",
    "from tensorflow.keras.optimizers import Adam\n",
    "from tensorflow.keras.preprocessing.image import ImageDataGenerator             "
   ]
  },
  {
   "cell_type": "markdown",
   "id": "d168abd3",
   "metadata": {},
   "source": [
    "# Dataset 디렉터리 정의"
   ]
  },
  {
   "cell_type": "code",
   "execution_count": 2,
   "id": "b8bf0a39",
   "metadata": {},
   "outputs": [],
   "source": [
    "train_dir = \"./MNIST/cats_and_dogs/train\"\n",
    "test_dir = \"./MNIST/cats_and_dogs/test\""
   ]
  },
  {
   "cell_type": "markdown",
   "id": "7be70ab0",
   "metadata": {},
   "source": [
    "# ImageDataGenerator 생성"
   ]
  },
  {
   "cell_type": "code",
   "execution_count": 3,
   "id": "80ac54d1",
   "metadata": {},
   "outputs": [],
   "source": [
    "train_datagen = ImageDataGenerator(rescale=1/255)   # 0과 1 사이의 값으로 정규화\n",
    "test_datagen = ImageDataGenerator(rescale=1/255)"
   ]
  },
  {
   "cell_type": "markdown",
   "id": "b17bc5ed",
   "metadata": {},
   "source": [
    "# Train Data, Test data 마련"
   ]
  },
  {
   "cell_type": "code",
   "execution_count": 4,
   "id": "03a41da8",
   "metadata": {
    "scrolled": true
   },
   "outputs": [
    {
     "name": "stdout",
     "output_type": "stream",
     "text": [
      "Found 2000 images belonging to 2 classes.\n",
      "Found 1000 images belonging to 2 classes.\n"
     ]
    }
   ],
   "source": [
    "train_generator = train_datagen.flow_from_directory(\n",
    "    train_dir,                   # 학습용 이미지를 가져올 폴더명\n",
    "    classes=[\"cats\", \"dogs\"],    # cats 폴더의 image는 label을 0으로\n",
    "                                 # dogs 폴더의 image는 label을 1로 설정\n",
    "    target_size=(150, 150),     # 이미지를 (150, 150)으로 resize\n",
    "    batch_size=20,              # 한 번에 20개의 이미지만 가져옴\n",
    "    class_mode=\"binary\"         # 이진 분류 (개와 고양이)\n",
    ")\n",
    "\n",
    "\n",
    "test_generator = train_datagen.flow_from_directory(\n",
    "    test_dir,                     # 평가용 이미지를 가져올 폴더명\n",
    "    classes=[\"cats\", \"dogs\"],    # cats 폴더의 image는 label을 0으로\n",
    "                                 # dogs 폴더의 image는 label을 1로 설정\n",
    "    target_size=(150, 150),      # 이미지를 (150, 150)으로 resize\n",
    "    batch_size=20,               # 한 번에 20개의 이미지만 가져옴\n",
    "    class_mode=\"binary\"          # 이진 분류 (개와 고양이)\n",
    ")"
   ]
  },
  {
   "cell_type": "markdown",
   "id": "22b9fd4e",
   "metadata": {},
   "source": [
    "# CNN Model 구현"
   ]
  },
  {
   "cell_type": "code",
   "execution_count": 5,
   "id": "cc3bc4c1",
   "metadata": {},
   "outputs": [],
   "source": [
    "model = Sequential()\n",
    "\n",
    "model.add(Conv2D(filters=32,    # conv2D에서의 Node ; 32 * 3 * (3*3) + 32(bias) = 896 \n",
    "                 kernel_size=(3,3),\n",
    "                 strides=(1,1),\n",
    "                 activation=\"relu\",\n",
    "                 input_shape=(150, 150, 3)))  \n",
    "                 \n",
    "model.add(Conv2D(filters=64,   # conv2D에서의 Node ; 32 * 64 * (3 * 3) + 64 = 18,496 \n",
    "                 kernel_size=(3,3),\n",
    "                 strides=(1,1),\n",
    "                 activation=\"relu\"))\n",
    "          \n",
    "model.add(MaxPooling2D(pool_size=(2,2)))\n",
    "\n",
    "model.add(Conv2D(filters=64,   # conv2D에서의 Node ; 64 * 64 * (3 * 3) + 64 = 36,928(36,864) \n",
    "                 kernel_size=(3,3),\n",
    "                 strides=(1,1),\n",
    "                 activation=\"relu\"))\n",
    "          \n",
    "######## ( 여기까지가 CNN의 Feature Extraction ) ########\n",
    "          \n",
    "# Fully Connection(DNN)의 input_layer\n",
    "model.add(Flatten())   # 전체 데이터를 4차원에서 1차원으로 변경\n",
    "          \n",
    "# hidden Layer\n",
    "model.add(Dense(units=128,\n",
    "                activation=\"relu\"))\n",
    "        \n",
    "# Output Layer\n",
    "model.add(Dense(units=1,  \n",
    "                activation=\"sigmoid\"))   # 0과 1 (이진 분류)"
   ]
  },
  {
   "cell_type": "code",
   "execution_count": 6,
   "id": "19c99391",
   "metadata": {},
   "outputs": [
    {
     "name": "stdout",
     "output_type": "stream",
     "text": [
      "Model: \"sequential\"\n",
      "_________________________________________________________________\n",
      "Layer (type)                 Output Shape              Param #   \n",
      "=================================================================\n",
      "conv2d (Conv2D)              (None, 148, 148, 32)      896       \n",
      "_________________________________________________________________\n",
      "conv2d_1 (Conv2D)            (None, 146, 146, 64)      18496     \n",
      "_________________________________________________________________\n",
      "max_pooling2d (MaxPooling2D) (None, 73, 73, 64)        0         \n",
      "_________________________________________________________________\n",
      "conv2d_2 (Conv2D)            (None, 71, 71, 64)        36928     \n",
      "_________________________________________________________________\n",
      "flatten (Flatten)            (None, 322624)            0         \n",
      "_________________________________________________________________\n",
      "dense (Dense)                (None, 128)               41296000  \n",
      "_________________________________________________________________\n",
      "dense_1 (Dense)              (None, 1)                 129       \n",
      "=================================================================\n",
      "Total params: 41,352,449\n",
      "Trainable params: 41,352,449\n",
      "Non-trainable params: 0\n",
      "_________________________________________________________________\n"
     ]
    }
   ],
   "source": [
    "model.summary()"
   ]
  },
  {
   "cell_type": "code",
   "execution_count": 7,
   "id": "b167daa0",
   "metadata": {},
   "outputs": [],
   "source": [
    "# model이 어떻게 동작하는지를 지정\n",
    "model.compile(optimizer=Adam(learning_rate=0.0001),\n",
    "              loss='binary_crossentropy',\n",
    "              metrics=[\"accuracy\"])"
   ]
  },
  {
   "cell_type": "markdown",
   "id": "6192534d",
   "metadata": {},
   "source": [
    "# 설정이 다 되었으면 모델 학습  "
   ]
  },
  {
   "cell_type": "code",
   "execution_count": 8,
   "id": "9adf7f97",
   "metadata": {},
   "outputs": [
    {
     "name": "stdout",
     "output_type": "stream",
     "text": [
      "Epoch 1/30\n",
      "100/100 [==============================] - 19s 145ms/step - loss: 0.6932 - accuracy: 0.5710 - val_loss: 0.6634 - val_accuracy: 0.5610\n",
      "Epoch 2/30\n",
      "100/100 [==============================] - 14s 142ms/step - loss: 0.6029 - accuracy: 0.6800 - val_loss: 0.6164 - val_accuracy: 0.6800\n",
      "Epoch 3/30\n",
      "100/100 [==============================] - 16s 158ms/step - loss: 0.5339 - accuracy: 0.7370 - val_loss: 0.6051 - val_accuracy: 0.6850\n",
      "Epoch 4/30\n",
      "100/100 [==============================] - 14s 140ms/step - loss: 0.4239 - accuracy: 0.8215 - val_loss: 0.6099 - val_accuracy: 0.6770\n",
      "Epoch 5/30\n",
      "100/100 [==============================] - 14s 140ms/step - loss: 0.3153 - accuracy: 0.8900 - val_loss: 0.6312 - val_accuracy: 0.6860\n",
      "Epoch 6/30\n",
      "100/100 [==============================] - 14s 140ms/step - loss: 0.2223 - accuracy: 0.9245 - val_loss: 0.6697 - val_accuracy: 0.6790\n",
      "Epoch 7/30\n",
      "100/100 [==============================] - 14s 141ms/step - loss: 0.1445 - accuracy: 0.9625 - val_loss: 0.7723 - val_accuracy: 0.6770\n",
      "Epoch 8/30\n",
      "100/100 [==============================] - 14s 140ms/step - loss: 0.0987 - accuracy: 0.9765 - val_loss: 0.9058 - val_accuracy: 0.6810\n",
      "Epoch 9/30\n",
      "100/100 [==============================] - 14s 139ms/step - loss: 0.0494 - accuracy: 0.9950 - val_loss: 0.9956 - val_accuracy: 0.6740\n",
      "Epoch 10/30\n",
      "100/100 [==============================] - 14s 141ms/step - loss: 0.0311 - accuracy: 0.9990 - val_loss: 1.0591 - val_accuracy: 0.6760\n",
      "Epoch 11/30\n",
      "100/100 [==============================] - 14s 144ms/step - loss: 0.0223 - accuracy: 0.9995 - val_loss: 1.1251 - val_accuracy: 0.6720\n",
      "Epoch 12/30\n",
      "100/100 [==============================] - 14s 141ms/step - loss: 0.0105 - accuracy: 1.0000 - val_loss: 1.2303 - val_accuracy: 0.6830\n",
      "Epoch 13/30\n",
      "100/100 [==============================] - 14s 140ms/step - loss: 0.0070 - accuracy: 1.0000 - val_loss: 1.2898 - val_accuracy: 0.6740\n",
      "Epoch 14/30\n",
      "100/100 [==============================] - 14s 139ms/step - loss: 0.0048 - accuracy: 1.0000 - val_loss: 1.3426 - val_accuracy: 0.6680\n",
      "Epoch 15/30\n",
      "100/100 [==============================] - 14s 144ms/step - loss: 0.0038 - accuracy: 1.0000 - val_loss: 1.3930 - val_accuracy: 0.6670\n",
      "Epoch 16/30\n",
      "100/100 [==============================] - 14s 141ms/step - loss: 0.0027 - accuracy: 1.0000 - val_loss: 1.4313 - val_accuracy: 0.6700\n",
      "Epoch 17/30\n",
      "100/100 [==============================] - 14s 141ms/step - loss: 0.0023 - accuracy: 1.0000 - val_loss: 1.4722 - val_accuracy: 0.6710\n",
      "Epoch 18/30\n",
      "100/100 [==============================] - 14s 140ms/step - loss: 0.0019 - accuracy: 1.0000 - val_loss: 1.5127 - val_accuracy: 0.6760\n",
      "Epoch 19/30\n",
      "100/100 [==============================] - 14s 142ms/step - loss: 0.0015 - accuracy: 1.0000 - val_loss: 1.5465 - val_accuracy: 0.6800\n",
      "Epoch 20/30\n",
      "100/100 [==============================] - 15s 146ms/step - loss: 0.0013 - accuracy: 1.0000 - val_loss: 1.5833 - val_accuracy: 0.6760\n",
      "Epoch 21/30\n",
      "100/100 [==============================] - 14s 141ms/step - loss: 0.0012 - accuracy: 1.0000 - val_loss: 1.6104 - val_accuracy: 0.6740\n",
      "Epoch 22/30\n",
      "100/100 [==============================] - 14s 141ms/step - loss: 0.0010 - accuracy: 1.0000 - val_loss: 1.6420 - val_accuracy: 0.6700\n",
      "Epoch 23/30\n",
      "100/100 [==============================] - 14s 141ms/step - loss: 8.6044e-04 - accuracy: 1.0000 - val_loss: 1.6707 - val_accuracy: 0.6740\n",
      "Epoch 24/30\n",
      "100/100 [==============================] - 14s 141ms/step - loss: 7.4578e-04 - accuracy: 1.0000 - val_loss: 1.7058 - val_accuracy: 0.6690\n",
      "Epoch 25/30\n",
      "100/100 [==============================] - 14s 141ms/step - loss: 6.5426e-04 - accuracy: 1.0000 - val_loss: 1.7279 - val_accuracy: 0.6720\n",
      "Epoch 26/30\n",
      "100/100 [==============================] - 14s 141ms/step - loss: 5.8875e-04 - accuracy: 1.0000 - val_loss: 1.7492 - val_accuracy: 0.6780\n",
      "Epoch 27/30\n",
      "100/100 [==============================] - 14s 140ms/step - loss: 5.2387e-04 - accuracy: 1.0000 - val_loss: 1.7870 - val_accuracy: 0.6720\n",
      "Epoch 28/30\n",
      "100/100 [==============================] - 14s 143ms/step - loss: 4.4869e-04 - accuracy: 1.0000 - val_loss: 1.8155 - val_accuracy: 0.6670\n",
      "Epoch 29/30\n",
      "100/100 [==============================] - 14s 143ms/step - loss: 4.0619e-04 - accuracy: 1.0000 - val_loss: 1.8366 - val_accuracy: 0.6740\n",
      "Epoch 30/30\n",
      "100/100 [==============================] - 14s 141ms/step - loss: 3.6354e-04 - accuracy: 1.0000 - val_loss: 1.8605 - val_accuracy: 0.6740\n"
     ]
    }
   ],
   "source": [
    "hist = model.fit(train_generator,\n",
    "          steps_per_epoch=100,\n",
    "          epochs=30,   # 전체 데이터 총 30번 학습\n",
    "          verbose=1,\n",
    "          validation_data=test_generator,  # ( 검증 데이터가 직접 들어감 )\n",
    "          validation_steps=50\n",
    "          )"
   ]
  },
  {
   "cell_type": "markdown",
   "id": "9c22acd7",
   "metadata": {},
   "source": [
    "# 그래프로 출력"
   ]
  },
  {
   "cell_type": "code",
   "execution_count": 9,
   "id": "176e0283",
   "metadata": {},
   "outputs": [
    {
     "data": {
      "text/plain": [
       "<matplotlib.legend.Legend at 0x25e14ae2490>"
      ]
     },
     "execution_count": 9,
     "metadata": {},
     "output_type": "execute_result"
    },
    {
     "data": {
      "image/png": "[encoded data removed]",
      "text/plain": [
       "<Figure size 640x480 with 2 Axes>"
      ]
     },
     "metadata": {},
     "output_type": "display_data"
    }
   ],
   "source": [
    "import matplotlib.pyplot as plt\n",
    "\n",
    "fig, loss_ax = plt.subplots()\n",
    "loss_ax.plot(hist.history[\"loss\"], \"y\", label=\"train_loss\")\n",
    "loss_ax.plot(hist.history[\"val_loss\"], \"r\", label=\"val_loss\")\n",
    "loss_ax.set_xlabel(\"epoch\")\n",
    "loss_ax.set_ylabel(\"loss\")\n",
    "loss_ax.legend(loc=\"upper left\")\n",
    "\n",
    "acc_ax = loss_ax.twinx()\n",
    "acc_ax.plot(hist.history[\"accuracy\"], \"b\", label=\"train_acc\")\n",
    "acc_ax.plot(hist.history[\"val_accuracy\"], \"g\", label=\"val_acc\")\n",
    "acc_ax.set_ylabel(\"accuracy\")\n",
    "acc_ax.legend(loc=\"lower left\")"
   ]
  }
 ],
 "metadata": {
  "hide_input": false,
  "kernelspec": {
   "display_name": "Python 3 (ipykernel)",
   "language": "python",
   "name": "python3"
  },
  "language_info": {
   "codemirror_mode": {
    "name": "ipython",
    "version": 3
   },
   "file_extension": ".py",
   "mimetype": "text/x-python",
   "name": "python",
   "nbconvert_exporter": "python",
   "pygments_lexer": "ipython3",
   "version": "3.9.13"
  },
  "toc": {
   "base_numbering": 1,
   "nav_menu": {},
   "number_sections": true,
   "sideBar": true,
   "skip_h1_title": false,
   "title_cell": "Table of Contents",
   "title_sidebar": "Contents",
   "toc_cell": false,
   "toc_position": {},
   "toc_section_display": true,
   "toc_window_display": false
  },
  "varInspector": {
   "cols": {
    "lenName": 16,
    "lenType": 16,
    "lenVar": 40
   },
   "kernels_config": {
    "python": {
     "delete_cmd_postfix": "",
     "delete_cmd_prefix": "del ",
     "library": "var_list.py",
     "varRefreshCmd": "print(var_dic_list())"
    },
    "r": {
     "delete_cmd_postfix": ") ",
     "delete_cmd_prefix": "rm(",
     "library": "var_list.r",
     "varRefreshCmd": "cat(var_dic_list()) "
    }
   },
   "types_to_exclude": [
    "module",
    "function",
    "builtin_function_or_method",
    "instance",
    "_Feature"
   ],
   "window_display": false
  }
 },
 "nbformat": 4,
 "nbformat_minor": 5
}
